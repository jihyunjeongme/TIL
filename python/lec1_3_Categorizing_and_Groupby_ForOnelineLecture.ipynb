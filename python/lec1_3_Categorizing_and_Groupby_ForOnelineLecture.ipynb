{
 "cells": [
  {
   "cell_type": "code",
   "execution_count": 2,
   "source": [
    "import numpy as np\n",
    "import pandas as pd\n",
    "\n",
    "# for multiple output in a cell\n",
    "from IPython.core.interactiveshell import InteractiveShell\n",
    "InteractiveShell.ast_node_interactivity = \"all\"\n",
    "\n",
    "# Pandas Dataframe size adjust\n",
    "pd.set_option('display.float_format', lambda x: '%.3f' % x)\n",
    "pd.options.display.max_columns = 100000000000"
   ],
   "outputs": [],
   "metadata": {}
  },
  {
   "cell_type": "markdown",
   "source": [
    "# 데이터 준비"
   ],
   "metadata": {}
  },
  {
   "cell_type": "code",
   "execution_count": 3,
   "source": [
    "df = pd.read_csv(\"my_data/naver_finance/2016_12.csv\")"
   ],
   "outputs": [],
   "metadata": {}
  },
  {
   "cell_type": "code",
   "execution_count": 4,
   "source": [
    "df.head()"
   ],
   "outputs": [
    {
     "output_type": "execute_result",
     "data": {
      "text/plain": [
       "    ticker    매출액(억원)  영업이익률(%)  순이익률(%)  당기순이익(억원)  ROE(%)  ROA(%)  ROIC(%)  \\\n",
       "0    AK홀딩스  29218.310     7.313    4.563   1333.223  12.193   5.091   15.515   \n",
       "1      BGF    860.773     9.315  214.481   1846.192  21.624  10.433    8.015   \n",
       "2  BNK금융지주  49126.760    14.499   10.546   5181.144   7.919   0.564      NaN   \n",
       "3      BYC   2118.576     7.625    8.281    175.433   4.543   2.463   10.748   \n",
       "4       CJ 239541.970     5.230    2.379   5698.234   6.080   2.253    5.158   \n",
       "\n",
       "     EPS(원)     BPS(원)     SPS(원)  PER(배)  PBR(배)  PSR(배)      price  \\\n",
       "0  5436.413  48112.402 220556.160  10.301   1.164   0.254  56000.000   \n",
       "1  3703.577  18648.623   1737.263  22.757   4.519  48.514  42140.000   \n",
       "2  1568.237  20810.660  15358.993   5.535   0.417   0.565   8680.000   \n",
       "3 20872.312 471887.000 252211.450  19.020   0.841   1.574 397000.000   \n",
       "4  6257.152 114276.080 672045.900  28.181   1.543   0.262 176334.000   \n",
       "\n",
       "      price2  \n",
       "0  68500.000  \n",
       "1  15250.000  \n",
       "2   9420.000  \n",
       "3 306000.000  \n",
       "4 171148.000  "
      ],
      "text/html": [
       "<div>\n",
       "<style scoped>\n",
       "    .dataframe tbody tr th:only-of-type {\n",
       "        vertical-align: middle;\n",
       "    }\n",
       "\n",
       "    .dataframe tbody tr th {\n",
       "        vertical-align: top;\n",
       "    }\n",
       "\n",
       "    .dataframe thead th {\n",
       "        text-align: right;\n",
       "    }\n",
       "</style>\n",
       "<table border=\"1\" class=\"dataframe\">\n",
       "  <thead>\n",
       "    <tr style=\"text-align: right;\">\n",
       "      <th></th>\n",
       "      <th>ticker</th>\n",
       "      <th>매출액(억원)</th>\n",
       "      <th>영업이익률(%)</th>\n",
       "      <th>순이익률(%)</th>\n",
       "      <th>당기순이익(억원)</th>\n",
       "      <th>ROE(%)</th>\n",
       "      <th>ROA(%)</th>\n",
       "      <th>ROIC(%)</th>\n",
       "      <th>EPS(원)</th>\n",
       "      <th>BPS(원)</th>\n",
       "      <th>SPS(원)</th>\n",
       "      <th>PER(배)</th>\n",
       "      <th>PBR(배)</th>\n",
       "      <th>PSR(배)</th>\n",
       "      <th>price</th>\n",
       "      <th>price2</th>\n",
       "    </tr>\n",
       "  </thead>\n",
       "  <tbody>\n",
       "    <tr>\n",
       "      <th>0</th>\n",
       "      <td>AK홀딩스</td>\n",
       "      <td>29218.310</td>\n",
       "      <td>7.313</td>\n",
       "      <td>4.563</td>\n",
       "      <td>1333.223</td>\n",
       "      <td>12.193</td>\n",
       "      <td>5.091</td>\n",
       "      <td>15.515</td>\n",
       "      <td>5436.413</td>\n",
       "      <td>48112.402</td>\n",
       "      <td>220556.160</td>\n",
       "      <td>10.301</td>\n",
       "      <td>1.164</td>\n",
       "      <td>0.254</td>\n",
       "      <td>56000.000</td>\n",
       "      <td>68500.000</td>\n",
       "    </tr>\n",
       "    <tr>\n",
       "      <th>1</th>\n",
       "      <td>BGF</td>\n",
       "      <td>860.773</td>\n",
       "      <td>9.315</td>\n",
       "      <td>214.481</td>\n",
       "      <td>1846.192</td>\n",
       "      <td>21.624</td>\n",
       "      <td>10.433</td>\n",
       "      <td>8.015</td>\n",
       "      <td>3703.577</td>\n",
       "      <td>18648.623</td>\n",
       "      <td>1737.263</td>\n",
       "      <td>22.757</td>\n",
       "      <td>4.519</td>\n",
       "      <td>48.514</td>\n",
       "      <td>42140.000</td>\n",
       "      <td>15250.000</td>\n",
       "    </tr>\n",
       "    <tr>\n",
       "      <th>2</th>\n",
       "      <td>BNK금융지주</td>\n",
       "      <td>49126.760</td>\n",
       "      <td>14.499</td>\n",
       "      <td>10.546</td>\n",
       "      <td>5181.144</td>\n",
       "      <td>7.919</td>\n",
       "      <td>0.564</td>\n",
       "      <td>NaN</td>\n",
       "      <td>1568.237</td>\n",
       "      <td>20810.660</td>\n",
       "      <td>15358.993</td>\n",
       "      <td>5.535</td>\n",
       "      <td>0.417</td>\n",
       "      <td>0.565</td>\n",
       "      <td>8680.000</td>\n",
       "      <td>9420.000</td>\n",
       "    </tr>\n",
       "    <tr>\n",
       "      <th>3</th>\n",
       "      <td>BYC</td>\n",
       "      <td>2118.576</td>\n",
       "      <td>7.625</td>\n",
       "      <td>8.281</td>\n",
       "      <td>175.433</td>\n",
       "      <td>4.543</td>\n",
       "      <td>2.463</td>\n",
       "      <td>10.748</td>\n",
       "      <td>20872.312</td>\n",
       "      <td>471887.000</td>\n",
       "      <td>252211.450</td>\n",
       "      <td>19.020</td>\n",
       "      <td>0.841</td>\n",
       "      <td>1.574</td>\n",
       "      <td>397000.000</td>\n",
       "      <td>306000.000</td>\n",
       "    </tr>\n",
       "    <tr>\n",
       "      <th>4</th>\n",
       "      <td>CJ</td>\n",
       "      <td>239541.970</td>\n",
       "      <td>5.230</td>\n",
       "      <td>2.379</td>\n",
       "      <td>5698.234</td>\n",
       "      <td>6.080</td>\n",
       "      <td>2.253</td>\n",
       "      <td>5.158</td>\n",
       "      <td>6257.152</td>\n",
       "      <td>114276.080</td>\n",
       "      <td>672045.900</td>\n",
       "      <td>28.181</td>\n",
       "      <td>1.543</td>\n",
       "      <td>0.262</td>\n",
       "      <td>176334.000</td>\n",
       "      <td>171148.000</td>\n",
       "    </tr>\n",
       "  </tbody>\n",
       "</table>\n",
       "</div>"
      ]
     },
     "metadata": {},
     "execution_count": 4
    }
   ],
   "metadata": {}
  },
  {
   "cell_type": "markdown",
   "source": [
    "## 수익률 구하기 (16.12 ~ 17.12)"
   ],
   "metadata": {}
  },
  {
   "cell_type": "code",
   "execution_count": 5,
   "source": [
    "df['rtn'] = df['price2'] / df['price'] - 1"
   ],
   "outputs": [],
   "metadata": {}
  },
  {
   "cell_type": "markdown",
   "source": [
    "# PER 값에 따라 group number 부여하기"
   ],
   "metadata": {
    "toc-hr-collapsed": false
   }
  },
  {
   "cell_type": "markdown",
   "source": [
    "## 값을 기준으로 grouping 하기 (DIFFERENT number of members in each  group)"
   ],
   "metadata": {}
  },
  {
   "cell_type": "markdown",
   "source": [
    "### boolean selection & loc 사용"
   ],
   "metadata": {}
  },
  {
   "cell_type": "markdown",
   "source": [
    "- 곧 뒤에서 배울 `cut()` 을 사용하면 아래 방법보다 더 쉽게 가능합니다. 하지만 여기서 진행하는 방식들도 매우 중요하니 반드시 익혀두세요!"
   ],
   "metadata": {}
  },
  {
   "cell_type": "code",
   "execution_count": 6,
   "source": [
    "(df['PER(배)'] >= 10).head()"
   ],
   "outputs": [
    {
     "output_type": "execute_result",
     "data": {
      "text/plain": [
       "0     True\n",
       "1     True\n",
       "2    False\n",
       "3     True\n",
       "4     True\n",
       "Name: PER(배), dtype: bool"
      ]
     },
     "metadata": {},
     "execution_count": 6
    }
   ],
   "metadata": {}
  },
  {
   "cell_type": "code",
   "execution_count": 7,
   "source": [
    "bound1 = df['PER(배)'] >= 10\n",
    "bound2 = (5 <= df['PER(배)']) & (df['PER(배)'] < 10)\n",
    "bound3 = (0 <= df['PER(배)']) & (df['PER(배)'] < 5)\n",
    "bound4 = df['PER(배)'] < 0"
   ],
   "outputs": [],
   "metadata": {}
  },
  {
   "cell_type": "code",
   "execution_count": 8,
   "source": [
    "df.shape"
   ],
   "outputs": [
    {
     "output_type": "execute_result",
     "data": {
      "text/plain": [
       "(681, 17)"
      ]
     },
     "metadata": {},
     "execution_count": 8
    }
   ],
   "metadata": {}
  },
  {
   "cell_type": "code",
   "execution_count": 9,
   "source": [
    "df[bound1].shape # = df.loc[bound1].shape"
   ],
   "outputs": [
    {
     "output_type": "execute_result",
     "data": {
      "text/plain": [
       "(378, 17)"
      ]
     },
     "metadata": {},
     "execution_count": 9
    }
   ],
   "metadata": {}
  },
  {
   "cell_type": "code",
   "execution_count": 10,
   "source": [
    "df.loc[bound1, 'PER_Score'] = 1\n",
    "df.loc[bound2, 'PER_Score'] = 2\n",
    "df.loc[bound3, 'PER_Score'] = 3\n",
    "df.loc[bound4, 'PER_Score'] = -1"
   ],
   "outputs": [],
   "metadata": {}
  },
  {
   "cell_type": "code",
   "execution_count": 11,
   "source": [
    "df['PER_Score'].head()"
   ],
   "outputs": [
    {
     "output_type": "execute_result",
     "data": {
      "text/plain": [
       "0   1.000\n",
       "1   1.000\n",
       "2   2.000\n",
       "3   1.000\n",
       "4   1.000\n",
       "Name: PER_Score, dtype: float64"
      ]
     },
     "metadata": {},
     "execution_count": 11
    }
   ],
   "metadata": {}
  },
  {
   "cell_type": "code",
   "execution_count": 12,
   "source": [
    "df['PER_Score'].nunique()"
   ],
   "outputs": [
    {
     "output_type": "execute_result",
     "data": {
      "text/plain": [
       "4"
      ]
     },
     "metadata": {},
     "execution_count": 12
    }
   ],
   "metadata": {}
  },
  {
   "cell_type": "code",
   "execution_count": 13,
   "source": [
    "df['PER_Score'].value_counts()"
   ],
   "outputs": [
    {
     "output_type": "execute_result",
     "data": {
      "text/plain": [
       "1.000     378\n",
       "2.000     148\n",
       "-1.000    120\n",
       "3.000      23\n",
       "Name: PER_Score, dtype: int64"
      ]
     },
     "metadata": {},
     "execution_count": 13
    }
   ],
   "metadata": {}
  },
  {
   "cell_type": "markdown",
   "source": [
    "- `PER_Score`가 float number로 나오는 이유?"
   ],
   "metadata": {}
  },
  {
   "cell_type": "code",
   "execution_count": 14,
   "source": [
    "df['PER_Score'].hasnans"
   ],
   "outputs": [
    {
     "output_type": "execute_result",
     "data": {
      "text/plain": [
       "True"
      ]
     },
     "metadata": {},
     "execution_count": 14
    }
   ],
   "metadata": {}
  },
  {
   "cell_type": "code",
   "execution_count": 15,
   "source": [
    "df['PER_Score'].isna().sum()"
   ],
   "outputs": [
    {
     "output_type": "execute_result",
     "data": {
      "text/plain": [
       "12"
      ]
     },
     "metadata": {},
     "execution_count": 15
    }
   ],
   "metadata": {}
  },
  {
   "cell_type": "code",
   "execution_count": 16,
   "source": [
    "df['PER(배)'].isna().sum()"
   ],
   "outputs": [
    {
     "output_type": "execute_result",
     "data": {
      "text/plain": [
       "12"
      ]
     },
     "metadata": {},
     "execution_count": 16
    }
   ],
   "metadata": {}
  },
  {
   "cell_type": "code",
   "execution_count": 17,
   "source": [
    "df[df['PER(배)'].isna()]"
   ],
   "outputs": [
    {
     "output_type": "execute_result",
     "data": {
      "text/plain": [
       "     ticker   매출액(억원)  영업이익률(%)  순이익률(%)  당기순이익(억원)  ROE(%)  ROA(%)  ROIC(%)  \\\n",
       "27    HSD엔진  8029.166     0.528  -22.571  -1812.265 -32.685 -13.120    2.749   \n",
       "103    고려개발  6238.648     4.223   -4.895   -305.362 141.454  -4.903   20.462   \n",
       "126   까뮤이앤씨  1397.081     3.180    2.331     32.563   6.721   2.390    7.808   \n",
       "133   남영비비안  2074.953    -0.949   -1.103    -22.895  -1.667  -1.371   -2.101   \n",
       "203     티탑스   940.880    -7.061   -4.217    -39.673  -8.980  -4.092      NaN   \n",
       "231  롯데칠성음료 22642.120     6.463    3.054    691.439   2.961   1.531    3.109   \n",
       "371  쌍용양회공업 14302.892    18.027   12.243   1751.111  11.589   5.694    9.037   \n",
       "507     컨버즈   459.748   -19.328  -35.526   -163.331     NaN     NaN      NaN   \n",
       "560     풀무원 20306.730     1.869    0.491     99.778   6.765   0.979    1.933   \n",
       "622    한일철강  1112.614     5.475    4.236     47.131   3.405   1.467    4.510   \n",
       "647  현대미포조선 34464.586     5.544    1.149    395.997   1.811   0.424   21.172   \n",
       "667    화천기계  1954.730    -0.135   -1.282    -25.052  -2.012  -1.559   -1.413   \n",
       "\n",
       "        EPS(원)     BPS(원)     SPS(원)  PER(배)  PBR(배)  PSR(배)      price  \\\n",
       "27   -2607.575   7687.264  11552.757     NaN   0.404     NaN   2290.000   \n",
       "103  -3118.716   1988.392  63716.438     NaN   6.327     NaN  12430.000   \n",
       "126     72.117   1153.474   3094.153     NaN   0.958     NaN   1105.000   \n",
       "133    -32.324   2031.729   3021.213     NaN   0.436     NaN    885.000   \n",
       "203  -1917.146  19287.736  44614.258     NaN   0.058     NaN   1115.000   \n",
       "231   5107.448 172911.200 166829.270     NaN   8.363     NaN 145675.000   \n",
       "371    400.919   3627.562   3319.079     NaN   0.816     NaN   2960.000   \n",
       "507 -33811.426  20164.525  95172.870     NaN   0.397     NaN   4416.000   \n",
       "560   4881.663   6986.189 533111.700     NaN   2.011     NaN  14050.000   \n",
       "622    249.431   8408.528   5453.988     NaN   0.297     NaN   2500.000   \n",
       "647    865.570  53716.750  86286.260     NaN   0.627     NaN  33689.000   \n",
       "667   -113.874   6201.020   8885.138     NaN   0.348     NaN   2160.000   \n",
       "\n",
       "        price2    rtn  PER_Score  \n",
       "27    2569.000  0.122        NaN  \n",
       "103  11659.000 -0.062        NaN  \n",
       "126   1010.000 -0.086        NaN  \n",
       "133    777.000 -0.122        NaN  \n",
       "203   1575.000  0.413        NaN  \n",
       "231 132900.000 -0.088        NaN  \n",
       "371   3730.000  0.260        NaN  \n",
       "507   1750.000 -0.604        NaN  \n",
       "560  17200.000  0.224        NaN  \n",
       "622   2645.000  0.058        NaN  \n",
       "647  39454.000  0.171        NaN  \n",
       "667   2170.000  0.005        NaN  "
      ],
      "text/html": [
       "<div>\n",
       "<style scoped>\n",
       "    .dataframe tbody tr th:only-of-type {\n",
       "        vertical-align: middle;\n",
       "    }\n",
       "\n",
       "    .dataframe tbody tr th {\n",
       "        vertical-align: top;\n",
       "    }\n",
       "\n",
       "    .dataframe thead th {\n",
       "        text-align: right;\n",
       "    }\n",
       "</style>\n",
       "<table border=\"1\" class=\"dataframe\">\n",
       "  <thead>\n",
       "    <tr style=\"text-align: right;\">\n",
       "      <th></th>\n",
       "      <th>ticker</th>\n",
       "      <th>매출액(억원)</th>\n",
       "      <th>영업이익률(%)</th>\n",
       "      <th>순이익률(%)</th>\n",
       "      <th>당기순이익(억원)</th>\n",
       "      <th>ROE(%)</th>\n",
       "      <th>ROA(%)</th>\n",
       "      <th>ROIC(%)</th>\n",
       "      <th>EPS(원)</th>\n",
       "      <th>BPS(원)</th>\n",
       "      <th>SPS(원)</th>\n",
       "      <th>PER(배)</th>\n",
       "      <th>PBR(배)</th>\n",
       "      <th>PSR(배)</th>\n",
       "      <th>price</th>\n",
       "      <th>price2</th>\n",
       "      <th>rtn</th>\n",
       "      <th>PER_Score</th>\n",
       "    </tr>\n",
       "  </thead>\n",
       "  <tbody>\n",
       "    <tr>\n",
       "      <th>27</th>\n",
       "      <td>HSD엔진</td>\n",
       "      <td>8029.166</td>\n",
       "      <td>0.528</td>\n",
       "      <td>-22.571</td>\n",
       "      <td>-1812.265</td>\n",
       "      <td>-32.685</td>\n",
       "      <td>-13.120</td>\n",
       "      <td>2.749</td>\n",
       "      <td>-2607.575</td>\n",
       "      <td>7687.264</td>\n",
       "      <td>11552.757</td>\n",
       "      <td>NaN</td>\n",
       "      <td>0.404</td>\n",
       "      <td>NaN</td>\n",
       "      <td>2290.000</td>\n",
       "      <td>2569.000</td>\n",
       "      <td>0.122</td>\n",
       "      <td>NaN</td>\n",
       "    </tr>\n",
       "    <tr>\n",
       "      <th>103</th>\n",
       "      <td>고려개발</td>\n",
       "      <td>6238.648</td>\n",
       "      <td>4.223</td>\n",
       "      <td>-4.895</td>\n",
       "      <td>-305.362</td>\n",
       "      <td>141.454</td>\n",
       "      <td>-4.903</td>\n",
       "      <td>20.462</td>\n",
       "      <td>-3118.716</td>\n",
       "      <td>1988.392</td>\n",
       "      <td>63716.438</td>\n",
       "      <td>NaN</td>\n",
       "      <td>6.327</td>\n",
       "      <td>NaN</td>\n",
       "      <td>12430.000</td>\n",
       "      <td>11659.000</td>\n",
       "      <td>-0.062</td>\n",
       "      <td>NaN</td>\n",
       "    </tr>\n",
       "    <tr>\n",
       "      <th>126</th>\n",
       "      <td>까뮤이앤씨</td>\n",
       "      <td>1397.081</td>\n",
       "      <td>3.180</td>\n",
       "      <td>2.331</td>\n",
       "      <td>32.563</td>\n",
       "      <td>6.721</td>\n",
       "      <td>2.390</td>\n",
       "      <td>7.808</td>\n",
       "      <td>72.117</td>\n",
       "      <td>1153.474</td>\n",
       "      <td>3094.153</td>\n",
       "      <td>NaN</td>\n",
       "      <td>0.958</td>\n",
       "      <td>NaN</td>\n",
       "      <td>1105.000</td>\n",
       "      <td>1010.000</td>\n",
       "      <td>-0.086</td>\n",
       "      <td>NaN</td>\n",
       "    </tr>\n",
       "    <tr>\n",
       "      <th>133</th>\n",
       "      <td>남영비비안</td>\n",
       "      <td>2074.953</td>\n",
       "      <td>-0.949</td>\n",
       "      <td>-1.103</td>\n",
       "      <td>-22.895</td>\n",
       "      <td>-1.667</td>\n",
       "      <td>-1.371</td>\n",
       "      <td>-2.101</td>\n",
       "      <td>-32.324</td>\n",
       "      <td>2031.729</td>\n",
       "      <td>3021.213</td>\n",
       "      <td>NaN</td>\n",
       "      <td>0.436</td>\n",
       "      <td>NaN</td>\n",
       "      <td>885.000</td>\n",
       "      <td>777.000</td>\n",
       "      <td>-0.122</td>\n",
       "      <td>NaN</td>\n",
       "    </tr>\n",
       "    <tr>\n",
       "      <th>203</th>\n",
       "      <td>티탑스</td>\n",
       "      <td>940.880</td>\n",
       "      <td>-7.061</td>\n",
       "      <td>-4.217</td>\n",
       "      <td>-39.673</td>\n",
       "      <td>-8.980</td>\n",
       "      <td>-4.092</td>\n",
       "      <td>NaN</td>\n",
       "      <td>-1917.146</td>\n",
       "      <td>19287.736</td>\n",
       "      <td>44614.258</td>\n",
       "      <td>NaN</td>\n",
       "      <td>0.058</td>\n",
       "      <td>NaN</td>\n",
       "      <td>1115.000</td>\n",
       "      <td>1575.000</td>\n",
       "      <td>0.413</td>\n",
       "      <td>NaN</td>\n",
       "    </tr>\n",
       "    <tr>\n",
       "      <th>231</th>\n",
       "      <td>롯데칠성음료</td>\n",
       "      <td>22642.120</td>\n",
       "      <td>6.463</td>\n",
       "      <td>3.054</td>\n",
       "      <td>691.439</td>\n",
       "      <td>2.961</td>\n",
       "      <td>1.531</td>\n",
       "      <td>3.109</td>\n",
       "      <td>5107.448</td>\n",
       "      <td>172911.200</td>\n",
       "      <td>166829.270</td>\n",
       "      <td>NaN</td>\n",
       "      <td>8.363</td>\n",
       "      <td>NaN</td>\n",
       "      <td>145675.000</td>\n",
       "      <td>132900.000</td>\n",
       "      <td>-0.088</td>\n",
       "      <td>NaN</td>\n",
       "    </tr>\n",
       "    <tr>\n",
       "      <th>371</th>\n",
       "      <td>쌍용양회공업</td>\n",
       "      <td>14302.892</td>\n",
       "      <td>18.027</td>\n",
       "      <td>12.243</td>\n",
       "      <td>1751.111</td>\n",
       "      <td>11.589</td>\n",
       "      <td>5.694</td>\n",
       "      <td>9.037</td>\n",
       "      <td>400.919</td>\n",
       "      <td>3627.562</td>\n",
       "      <td>3319.079</td>\n",
       "      <td>NaN</td>\n",
       "      <td>0.816</td>\n",
       "      <td>NaN</td>\n",
       "      <td>2960.000</td>\n",
       "      <td>3730.000</td>\n",
       "      <td>0.260</td>\n",
       "      <td>NaN</td>\n",
       "    </tr>\n",
       "    <tr>\n",
       "      <th>507</th>\n",
       "      <td>컨버즈</td>\n",
       "      <td>459.748</td>\n",
       "      <td>-19.328</td>\n",
       "      <td>-35.526</td>\n",
       "      <td>-163.331</td>\n",
       "      <td>NaN</td>\n",
       "      <td>NaN</td>\n",
       "      <td>NaN</td>\n",
       "      <td>-33811.426</td>\n",
       "      <td>20164.525</td>\n",
       "      <td>95172.870</td>\n",
       "      <td>NaN</td>\n",
       "      <td>0.397</td>\n",
       "      <td>NaN</td>\n",
       "      <td>4416.000</td>\n",
       "      <td>1750.000</td>\n",
       "      <td>-0.604</td>\n",
       "      <td>NaN</td>\n",
       "    </tr>\n",
       "    <tr>\n",
       "      <th>560</th>\n",
       "      <td>풀무원</td>\n",
       "      <td>20306.730</td>\n",
       "      <td>1.869</td>\n",
       "      <td>0.491</td>\n",
       "      <td>99.778</td>\n",
       "      <td>6.765</td>\n",
       "      <td>0.979</td>\n",
       "      <td>1.933</td>\n",
       "      <td>4881.663</td>\n",
       "      <td>6986.189</td>\n",
       "      <td>533111.700</td>\n",
       "      <td>NaN</td>\n",
       "      <td>2.011</td>\n",
       "      <td>NaN</td>\n",
       "      <td>14050.000</td>\n",
       "      <td>17200.000</td>\n",
       "      <td>0.224</td>\n",
       "      <td>NaN</td>\n",
       "    </tr>\n",
       "    <tr>\n",
       "      <th>622</th>\n",
       "      <td>한일철강</td>\n",
       "      <td>1112.614</td>\n",
       "      <td>5.475</td>\n",
       "      <td>4.236</td>\n",
       "      <td>47.131</td>\n",
       "      <td>3.405</td>\n",
       "      <td>1.467</td>\n",
       "      <td>4.510</td>\n",
       "      <td>249.431</td>\n",
       "      <td>8408.528</td>\n",
       "      <td>5453.988</td>\n",
       "      <td>NaN</td>\n",
       "      <td>0.297</td>\n",
       "      <td>NaN</td>\n",
       "      <td>2500.000</td>\n",
       "      <td>2645.000</td>\n",
       "      <td>0.058</td>\n",
       "      <td>NaN</td>\n",
       "    </tr>\n",
       "    <tr>\n",
       "      <th>647</th>\n",
       "      <td>현대미포조선</td>\n",
       "      <td>34464.586</td>\n",
       "      <td>5.544</td>\n",
       "      <td>1.149</td>\n",
       "      <td>395.997</td>\n",
       "      <td>1.811</td>\n",
       "      <td>0.424</td>\n",
       "      <td>21.172</td>\n",
       "      <td>865.570</td>\n",
       "      <td>53716.750</td>\n",
       "      <td>86286.260</td>\n",
       "      <td>NaN</td>\n",
       "      <td>0.627</td>\n",
       "      <td>NaN</td>\n",
       "      <td>33689.000</td>\n",
       "      <td>39454.000</td>\n",
       "      <td>0.171</td>\n",
       "      <td>NaN</td>\n",
       "    </tr>\n",
       "    <tr>\n",
       "      <th>667</th>\n",
       "      <td>화천기계</td>\n",
       "      <td>1954.730</td>\n",
       "      <td>-0.135</td>\n",
       "      <td>-1.282</td>\n",
       "      <td>-25.052</td>\n",
       "      <td>-2.012</td>\n",
       "      <td>-1.559</td>\n",
       "      <td>-1.413</td>\n",
       "      <td>-113.874</td>\n",
       "      <td>6201.020</td>\n",
       "      <td>8885.138</td>\n",
       "      <td>NaN</td>\n",
       "      <td>0.348</td>\n",
       "      <td>NaN</td>\n",
       "      <td>2160.000</td>\n",
       "      <td>2170.000</td>\n",
       "      <td>0.005</td>\n",
       "      <td>NaN</td>\n",
       "    </tr>\n",
       "  </tbody>\n",
       "</table>\n",
       "</div>"
      ]
     },
     "metadata": {},
     "execution_count": 17
    }
   ],
   "metadata": {}
  },
  {
   "cell_type": "code",
   "execution_count": 18,
   "source": [
    "df.loc[df['PER_Score'].isna(), \"PER_Score\"] = 0\n",
    "\n",
    "# 아래와 같은 방식으로도 가능\n",
    "# df['PER_Score'] = df['PER_Score'].fillna(0) \n",
    "# df.loc[:, 'PER_Score'] = df['PER_Score'].fillna(0)"
   ],
   "outputs": [],
   "metadata": {}
  },
  {
   "cell_type": "markdown",
   "source": [
    "### boolean series 의 연산 특성 사용"
   ],
   "metadata": {}
  },
  {
   "cell_type": "code",
   "execution_count": 19,
   "source": [
    "df.loc[:, \"PER_Score1\"] = (bound1 * 1)  + (bound2 * 2) + (bound3 * 3) + (bound4 * -1) "
   ],
   "outputs": [],
   "metadata": {}
  },
  {
   "cell_type": "code",
   "execution_count": 20,
   "source": [
    "df['PER_Score1'].head()"
   ],
   "outputs": [
    {
     "output_type": "execute_result",
     "data": {
      "text/plain": [
       "0    1\n",
       "1    1\n",
       "2    2\n",
       "3    1\n",
       "4    1\n",
       "Name: PER_Score1, dtype: int64"
      ]
     },
     "metadata": {},
     "execution_count": 20
    }
   ],
   "metadata": {}
  },
  {
   "cell_type": "code",
   "execution_count": 21,
   "source": [
    "df['PER_Score1'].value_counts()"
   ],
   "outputs": [
    {
     "output_type": "execute_result",
     "data": {
      "text/plain": [
       " 1    378\n",
       " 2    148\n",
       "-1    120\n",
       " 3     23\n",
       " 0     12\n",
       "Name: PER_Score1, dtype: int64"
      ]
     },
     "metadata": {},
     "execution_count": 21
    }
   ],
   "metadata": {}
  },
  {
   "cell_type": "code",
   "execution_count": 22,
   "source": [
    "df['PER_Score'].value_counts()"
   ],
   "outputs": [
    {
     "output_type": "execute_result",
     "data": {
      "text/plain": [
       "1.000     378\n",
       "2.000     148\n",
       "-1.000    120\n",
       "3.000      23\n",
       "0.000      12\n",
       "Name: PER_Score, dtype: int64"
      ]
     },
     "metadata": {},
     "execution_count": 22
    }
   ],
   "metadata": {}
  },
  {
   "cell_type": "markdown",
   "source": [
    "### 위의 두 score series는 서로 같을까? "
   ],
   "metadata": {}
  },
  {
   "cell_type": "code",
   "execution_count": 23,
   "source": [
    "df['PER_Score'].equals(df['PER_Score1'])"
   ],
   "outputs": [
    {
     "output_type": "execute_result",
     "data": {
      "text/plain": [
       "False"
      ]
     },
     "metadata": {},
     "execution_count": 23
    }
   ],
   "metadata": {}
  },
  {
   "cell_type": "code",
   "execution_count": 24,
   "source": [
    "df['PER_Score'].dtypes\n",
    "df['PER_Score1'].dtypes"
   ],
   "outputs": [
    {
     "output_type": "execute_result",
     "data": {
      "text/plain": [
       "dtype('float64')"
      ]
     },
     "metadata": {},
     "execution_count": 24
    },
    {
     "output_type": "execute_result",
     "data": {
      "text/plain": [
       "dtype('int64')"
      ]
     },
     "metadata": {},
     "execution_count": 24
    }
   ],
   "metadata": {}
  },
  {
   "cell_type": "code",
   "execution_count": 25,
   "source": [
    "df['PER_Score'].astype(int).equals(df['PER_Score1'])"
   ],
   "outputs": [
    {
     "output_type": "execute_result",
     "data": {
      "text/plain": [
       "True"
      ]
     },
     "metadata": {},
     "execution_count": 25
    }
   ],
   "metadata": {}
  },
  {
   "cell_type": "markdown",
   "source": [
    "### `cut()`"
   ],
   "metadata": {}
  },
  {
   "cell_type": "code",
   "execution_count": 26,
   "source": [
    "per_cuts = pd.cut(\n",
    "    df['PER(배)'],\n",
    "    [-np.inf, 0, 5, 10, np.inf], \n",
    ")\n",
    "\n",
    "per_cuts.head()"
   ],
   "outputs": [
    {
     "output_type": "execute_result",
     "data": {
      "text/plain": [
       "0    (10.0, inf]\n",
       "1    (10.0, inf]\n",
       "2    (5.0, 10.0]\n",
       "3    (10.0, inf]\n",
       "4    (10.0, inf]\n",
       "Name: PER(배), dtype: category\n",
       "Categories (4, interval[float64, right]): [(-inf, 0.0] < (0.0, 5.0] < (5.0, 10.0] < (10.0, inf]]"
      ]
     },
     "metadata": {},
     "execution_count": 26
    }
   ],
   "metadata": {}
  },
  {
   "cell_type": "code",
   "execution_count": 27,
   "source": [
    "per_cuts.iloc[0]"
   ],
   "outputs": [
    {
     "output_type": "execute_result",
     "data": {
      "text/plain": [
       "Interval(10.0, inf, closed='right')"
      ]
     },
     "metadata": {},
     "execution_count": 27
    }
   ],
   "metadata": {}
  },
  {
   "cell_type": "code",
   "execution_count": 28,
   "source": [
    "per_cuts.value_counts()"
   ],
   "outputs": [
    {
     "output_type": "execute_result",
     "data": {
      "text/plain": [
       "(10.0, inf]    378\n",
       "(5.0, 10.0]    148\n",
       "(-inf, 0.0]    120\n",
       "(0.0, 5.0]      23\n",
       "Name: PER(배), dtype: int64"
      ]
     },
     "metadata": {},
     "execution_count": 28
    }
   ],
   "metadata": {}
  },
  {
   "cell_type": "code",
   "execution_count": 29,
   "source": [
    "per_cuts.isna().sum()"
   ],
   "outputs": [
    {
     "output_type": "execute_result",
     "data": {
      "text/plain": [
       "12"
      ]
     },
     "metadata": {},
     "execution_count": 29
    }
   ],
   "metadata": {}
  },
  {
   "cell_type": "markdown",
   "source": [
    "- cut()과 동시에 label 달아주기"
   ],
   "metadata": {}
  },
  {
   "cell_type": "code",
   "execution_count": 30,
   "source": [
    "bins = [-np.inf, 10, 20, np.inf]\n",
    "labels = ['저평가주', '보통주', '고평가주']\n",
    "per_cuts2 = pd.cut(\n",
    "    df['PER(배)'], \n",
    "    bins=bins, \n",
    "    labels=labels\n",
    ")\n",
    "per_cuts2.head()"
   ],
   "outputs": [
    {
     "output_type": "execute_result",
     "data": {
      "text/plain": [
       "0     보통주\n",
       "1    고평가주\n",
       "2    저평가주\n",
       "3     보통주\n",
       "4    고평가주\n",
       "Name: PER(배), dtype: category\n",
       "Categories (3, object): ['저평가주' < '보통주' < '고평가주']"
      ]
     },
     "metadata": {},
     "execution_count": 30
    }
   ],
   "metadata": {}
  },
  {
   "cell_type": "code",
   "execution_count": 31,
   "source": [
    "# df.loc[:, 'PER_score2'] = per_cuts  # or per_cuts2\n",
    "# df['PER_score2'] = per_cuts         # or per_cuts2"
   ],
   "outputs": [],
   "metadata": {}
  },
  {
   "cell_type": "markdown",
   "source": [
    "## Group내 데이터 갯수를 기준으로 grouping 하기 (SAME number of members in each  group)"
   ],
   "metadata": {}
  },
  {
   "cell_type": "markdown",
   "source": [
    "### `qcut()`"
   ],
   "metadata": {}
  },
  {
   "cell_type": "code",
   "execution_count": 32,
   "source": [
    "pd.qcut(df['PER(배)'], 3, labels=[1,2,3]).head()"
   ],
   "outputs": [
    {
     "output_type": "execute_result",
     "data": {
      "text/plain": [
       "0    2\n",
       "1    3\n",
       "2    1\n",
       "3    3\n",
       "4    3\n",
       "Name: PER(배), dtype: category\n",
       "Categories (3, int64): [1 < 2 < 3]"
      ]
     },
     "metadata": {},
     "execution_count": 32
    }
   ],
   "metadata": {}
  },
  {
   "cell_type": "code",
   "execution_count": 33,
   "source": [
    "df.loc[:, 'PER_Score2'] = pd.qcut(df['PER(배)'], 10, labels=range(1, 11))\n",
    "df.head()"
   ],
   "outputs": [
    {
     "output_type": "execute_result",
     "data": {
      "text/plain": [
       "    ticker    매출액(억원)  영업이익률(%)  순이익률(%)  당기순이익(억원)  ROE(%)  ROA(%)  ROIC(%)  \\\n",
       "0    AK홀딩스  29218.310     7.313    4.563   1333.223  12.193   5.091   15.515   \n",
       "1      BGF    860.773     9.315  214.481   1846.192  21.624  10.433    8.015   \n",
       "2  BNK금융지주  49126.760    14.499   10.546   5181.144   7.919   0.564      NaN   \n",
       "3      BYC   2118.576     7.625    8.281    175.433   4.543   2.463   10.748   \n",
       "4       CJ 239541.970     5.230    2.379   5698.234   6.080   2.253    5.158   \n",
       "\n",
       "     EPS(원)     BPS(원)     SPS(원)  PER(배)  PBR(배)  PSR(배)      price  \\\n",
       "0  5436.413  48112.402 220556.160  10.301   1.164   0.254  56000.000   \n",
       "1  3703.577  18648.623   1737.263  22.757   4.519  48.514  42140.000   \n",
       "2  1568.237  20810.660  15358.993   5.535   0.417   0.565   8680.000   \n",
       "3 20872.312 471887.000 252211.450  19.020   0.841   1.574 397000.000   \n",
       "4  6257.152 114276.080 672045.900  28.181   1.543   0.262 176334.000   \n",
       "\n",
       "      price2    rtn  PER_Score  PER_Score1 PER_Score2  \n",
       "0  68500.000  0.223      1.000           1          5  \n",
       "1  15250.000 -0.638      1.000           1          8  \n",
       "2   9420.000  0.085      2.000           2          3  \n",
       "3 306000.000 -0.229      1.000           1          8  \n",
       "4 171148.000 -0.029      1.000           1          9  "
      ],
      "text/html": [
       "<div>\n",
       "<style scoped>\n",
       "    .dataframe tbody tr th:only-of-type {\n",
       "        vertical-align: middle;\n",
       "    }\n",
       "\n",
       "    .dataframe tbody tr th {\n",
       "        vertical-align: top;\n",
       "    }\n",
       "\n",
       "    .dataframe thead th {\n",
       "        text-align: right;\n",
       "    }\n",
       "</style>\n",
       "<table border=\"1\" class=\"dataframe\">\n",
       "  <thead>\n",
       "    <tr style=\"text-align: right;\">\n",
       "      <th></th>\n",
       "      <th>ticker</th>\n",
       "      <th>매출액(억원)</th>\n",
       "      <th>영업이익률(%)</th>\n",
       "      <th>순이익률(%)</th>\n",
       "      <th>당기순이익(억원)</th>\n",
       "      <th>ROE(%)</th>\n",
       "      <th>ROA(%)</th>\n",
       "      <th>ROIC(%)</th>\n",
       "      <th>EPS(원)</th>\n",
       "      <th>BPS(원)</th>\n",
       "      <th>SPS(원)</th>\n",
       "      <th>PER(배)</th>\n",
       "      <th>PBR(배)</th>\n",
       "      <th>PSR(배)</th>\n",
       "      <th>price</th>\n",
       "      <th>price2</th>\n",
       "      <th>rtn</th>\n",
       "      <th>PER_Score</th>\n",
       "      <th>PER_Score1</th>\n",
       "      <th>PER_Score2</th>\n",
       "    </tr>\n",
       "  </thead>\n",
       "  <tbody>\n",
       "    <tr>\n",
       "      <th>0</th>\n",
       "      <td>AK홀딩스</td>\n",
       "      <td>29218.310</td>\n",
       "      <td>7.313</td>\n",
       "      <td>4.563</td>\n",
       "      <td>1333.223</td>\n",
       "      <td>12.193</td>\n",
       "      <td>5.091</td>\n",
       "      <td>15.515</td>\n",
       "      <td>5436.413</td>\n",
       "      <td>48112.402</td>\n",
       "      <td>220556.160</td>\n",
       "      <td>10.301</td>\n",
       "      <td>1.164</td>\n",
       "      <td>0.254</td>\n",
       "      <td>56000.000</td>\n",
       "      <td>68500.000</td>\n",
       "      <td>0.223</td>\n",
       "      <td>1.000</td>\n",
       "      <td>1</td>\n",
       "      <td>5</td>\n",
       "    </tr>\n",
       "    <tr>\n",
       "      <th>1</th>\n",
       "      <td>BGF</td>\n",
       "      <td>860.773</td>\n",
       "      <td>9.315</td>\n",
       "      <td>214.481</td>\n",
       "      <td>1846.192</td>\n",
       "      <td>21.624</td>\n",
       "      <td>10.433</td>\n",
       "      <td>8.015</td>\n",
       "      <td>3703.577</td>\n",
       "      <td>18648.623</td>\n",
       "      <td>1737.263</td>\n",
       "      <td>22.757</td>\n",
       "      <td>4.519</td>\n",
       "      <td>48.514</td>\n",
       "      <td>42140.000</td>\n",
       "      <td>15250.000</td>\n",
       "      <td>-0.638</td>\n",
       "      <td>1.000</td>\n",
       "      <td>1</td>\n",
       "      <td>8</td>\n",
       "    </tr>\n",
       "    <tr>\n",
       "      <th>2</th>\n",
       "      <td>BNK금융지주</td>\n",
       "      <td>49126.760</td>\n",
       "      <td>14.499</td>\n",
       "      <td>10.546</td>\n",
       "      <td>5181.144</td>\n",
       "      <td>7.919</td>\n",
       "      <td>0.564</td>\n",
       "      <td>NaN</td>\n",
       "      <td>1568.237</td>\n",
       "      <td>20810.660</td>\n",
       "      <td>15358.993</td>\n",
       "      <td>5.535</td>\n",
       "      <td>0.417</td>\n",
       "      <td>0.565</td>\n",
       "      <td>8680.000</td>\n",
       "      <td>9420.000</td>\n",
       "      <td>0.085</td>\n",
       "      <td>2.000</td>\n",
       "      <td>2</td>\n",
       "      <td>3</td>\n",
       "    </tr>\n",
       "    <tr>\n",
       "      <th>3</th>\n",
       "      <td>BYC</td>\n",
       "      <td>2118.576</td>\n",
       "      <td>7.625</td>\n",
       "      <td>8.281</td>\n",
       "      <td>175.433</td>\n",
       "      <td>4.543</td>\n",
       "      <td>2.463</td>\n",
       "      <td>10.748</td>\n",
       "      <td>20872.312</td>\n",
       "      <td>471887.000</td>\n",
       "      <td>252211.450</td>\n",
       "      <td>19.020</td>\n",
       "      <td>0.841</td>\n",
       "      <td>1.574</td>\n",
       "      <td>397000.000</td>\n",
       "      <td>306000.000</td>\n",
       "      <td>-0.229</td>\n",
       "      <td>1.000</td>\n",
       "      <td>1</td>\n",
       "      <td>8</td>\n",
       "    </tr>\n",
       "    <tr>\n",
       "      <th>4</th>\n",
       "      <td>CJ</td>\n",
       "      <td>239541.970</td>\n",
       "      <td>5.230</td>\n",
       "      <td>2.379</td>\n",
       "      <td>5698.234</td>\n",
       "      <td>6.080</td>\n",
       "      <td>2.253</td>\n",
       "      <td>5.158</td>\n",
       "      <td>6257.152</td>\n",
       "      <td>114276.080</td>\n",
       "      <td>672045.900</td>\n",
       "      <td>28.181</td>\n",
       "      <td>1.543</td>\n",
       "      <td>0.262</td>\n",
       "      <td>176334.000</td>\n",
       "      <td>171148.000</td>\n",
       "      <td>-0.029</td>\n",
       "      <td>1.000</td>\n",
       "      <td>1</td>\n",
       "      <td>9</td>\n",
       "    </tr>\n",
       "  </tbody>\n",
       "</table>\n",
       "</div>"
      ]
     },
     "metadata": {},
     "execution_count": 33
    }
   ],
   "metadata": {}
  },
  {
   "cell_type": "code",
   "execution_count": 34,
   "source": [
    "df['PER_Score2'].value_counts()"
   ],
   "outputs": [
    {
     "output_type": "execute_result",
     "data": {
      "text/plain": [
       "1     67\n",
       "2     67\n",
       "3     67\n",
       "4     67\n",
       "5     67\n",
       "7     67\n",
       "8     67\n",
       "9     67\n",
       "10    67\n",
       "6     66\n",
       "Name: PER_Score2, dtype: int64"
      ]
     },
     "metadata": {},
     "execution_count": 34
    }
   ],
   "metadata": {}
  },
  {
   "cell_type": "code",
   "execution_count": 35,
   "source": [
    "df['PER_Score2'].hasnans"
   ],
   "outputs": [
    {
     "output_type": "execute_result",
     "data": {
      "text/plain": [
       "True"
      ]
     },
     "metadata": {},
     "execution_count": 35
    }
   ],
   "metadata": {}
  },
  {
   "cell_type": "code",
   "execution_count": 36,
   "source": [
    "df['PER_Score2'].isna().sum()"
   ],
   "outputs": [
    {
     "output_type": "execute_result",
     "data": {
      "text/plain": [
       "12"
      ]
     },
     "metadata": {},
     "execution_count": 36
    }
   ],
   "metadata": {}
  },
  {
   "cell_type": "code",
   "execution_count": 37,
   "source": [
    "df['PER_Score2'].dtype"
   ],
   "outputs": [
    {
     "output_type": "execute_result",
     "data": {
      "text/plain": [
       "CategoricalDtype(categories=range(1, 11), ordered=True)"
      ]
     },
     "metadata": {},
     "execution_count": 37
    }
   ],
   "metadata": {}
  },
  {
   "cell_type": "markdown",
   "source": [
    "- 'category' type: A string variable consisting of only a few different values"
   ],
   "metadata": {}
  },
  {
   "cell_type": "code",
   "execution_count": 38,
   "source": [
    "# DataFrame에서 category dtype인 columns들 추출하기\n",
    "# df.select_dtypes(include=['category']).columns"
   ],
   "outputs": [],
   "metadata": {}
  },
  {
   "cell_type": "code",
   "execution_count": 39,
   "source": [
    "df['PER_Score2'].head()"
   ],
   "outputs": [
    {
     "output_type": "execute_result",
     "data": {
      "text/plain": [
       "0    5\n",
       "1    8\n",
       "2    3\n",
       "3    8\n",
       "4    9\n",
       "Name: PER_Score2, dtype: category\n",
       "Categories (10, int64): [1 < 2 < 3 < 4 ... 7 < 8 < 9 < 10]"
      ]
     },
     "metadata": {},
     "execution_count": 39
    }
   ],
   "metadata": {}
  },
  {
   "cell_type": "code",
   "execution_count": 40,
   "source": [
    "df['PER_Score2'].value_counts()"
   ],
   "outputs": [
    {
     "output_type": "execute_result",
     "data": {
      "text/plain": [
       "1     67\n",
       "2     67\n",
       "3     67\n",
       "4     67\n",
       "5     67\n",
       "7     67\n",
       "8     67\n",
       "9     67\n",
       "10    67\n",
       "6     66\n",
       "Name: PER_Score2, dtype: int64"
      ]
     },
     "metadata": {},
     "execution_count": 40
    }
   ],
   "metadata": {}
  },
  {
   "cell_type": "code",
   "execution_count": 41,
   "source": [
    "df = df.dropna(subset=['PER(배)'])"
   ],
   "outputs": [],
   "metadata": {}
  },
  {
   "cell_type": "code",
   "execution_count": 42,
   "source": [
    "df['PER_Score2'].isna().sum()"
   ],
   "outputs": [
    {
     "output_type": "execute_result",
     "data": {
      "text/plain": [
       "0"
      ]
     },
     "metadata": {},
     "execution_count": 42
    }
   ],
   "metadata": {}
  },
  {
   "cell_type": "markdown",
   "source": [
    "# Split - Apply - Combine "
   ],
   "metadata": {}
  },
  {
   "cell_type": "code",
   "execution_count": 43,
   "source": [
    "df = pd.read_csv(\"my_data/naver_finance/2016_12.csv\")\n",
    "df.shape"
   ],
   "outputs": [
    {
     "output_type": "execute_result",
     "data": {
      "text/plain": [
       "(681, 16)"
      ]
     },
     "metadata": {},
     "execution_count": 43
    }
   ],
   "metadata": {}
  },
  {
   "cell_type": "code",
   "execution_count": 44,
   "source": [
    "df = df.dropna()\n",
    "df.shape"
   ],
   "outputs": [
    {
     "output_type": "execute_result",
     "data": {
      "text/plain": [
       "(609, 16)"
      ]
     },
     "metadata": {},
     "execution_count": 44
    }
   ],
   "metadata": {}
  },
  {
   "cell_type": "code",
   "execution_count": 45,
   "source": [
    "g_df = df.copy()\n",
    "g_df.head()"
   ],
   "outputs": [
    {
     "output_type": "execute_result",
     "data": {
      "text/plain": [
       "   ticker    매출액(억원)  영업이익률(%)  순이익률(%)  당기순이익(억원)  ROE(%)  ROA(%)  ROIC(%)  \\\n",
       "0   AK홀딩스  29218.310     7.313    4.563   1333.223  12.193   5.091   15.515   \n",
       "1     BGF    860.773     9.315  214.481   1846.192  21.624  10.433    8.015   \n",
       "3     BYC   2118.576     7.625    8.281    175.433   4.543   2.463   10.748   \n",
       "4      CJ 239541.970     5.230    2.379   5698.234   6.080   2.253    5.158   \n",
       "5  CJ CGV  14322.454     4.911    0.393     56.217   3.105   0.284    2.919   \n",
       "\n",
       "     EPS(원)     BPS(원)     SPS(원)  PER(배)  PBR(배)  PSR(배)      price  \\\n",
       "0  5436.413  48112.402 220556.160  10.301   1.164   0.254  56000.000   \n",
       "1  3703.577  18648.623   1737.263  22.757   4.519  48.514  42140.000   \n",
       "3 20872.312 471887.000 252211.450  19.020   0.841   1.574 397000.000   \n",
       "4  6257.152 114276.080 672045.900  28.181   1.543   0.262 176334.000   \n",
       "5   583.051  17654.154  67682.260 120.744   3.988   1.040  70400.000   \n",
       "\n",
       "      price2  \n",
       "0  68500.000  \n",
       "1  15250.000  \n",
       "3 306000.000  \n",
       "4 171148.000  \n",
       "5  74200.000  "
      ],
      "text/html": [
       "<div>\n",
       "<style scoped>\n",
       "    .dataframe tbody tr th:only-of-type {\n",
       "        vertical-align: middle;\n",
       "    }\n",
       "\n",
       "    .dataframe tbody tr th {\n",
       "        vertical-align: top;\n",
       "    }\n",
       "\n",
       "    .dataframe thead th {\n",
       "        text-align: right;\n",
       "    }\n",
       "</style>\n",
       "<table border=\"1\" class=\"dataframe\">\n",
       "  <thead>\n",
       "    <tr style=\"text-align: right;\">\n",
       "      <th></th>\n",
       "      <th>ticker</th>\n",
       "      <th>매출액(억원)</th>\n",
       "      <th>영업이익률(%)</th>\n",
       "      <th>순이익률(%)</th>\n",
       "      <th>당기순이익(억원)</th>\n",
       "      <th>ROE(%)</th>\n",
       "      <th>ROA(%)</th>\n",
       "      <th>ROIC(%)</th>\n",
       "      <th>EPS(원)</th>\n",
       "      <th>BPS(원)</th>\n",
       "      <th>SPS(원)</th>\n",
       "      <th>PER(배)</th>\n",
       "      <th>PBR(배)</th>\n",
       "      <th>PSR(배)</th>\n",
       "      <th>price</th>\n",
       "      <th>price2</th>\n",
       "    </tr>\n",
       "  </thead>\n",
       "  <tbody>\n",
       "    <tr>\n",
       "      <th>0</th>\n",
       "      <td>AK홀딩스</td>\n",
       "      <td>29218.310</td>\n",
       "      <td>7.313</td>\n",
       "      <td>4.563</td>\n",
       "      <td>1333.223</td>\n",
       "      <td>12.193</td>\n",
       "      <td>5.091</td>\n",
       "      <td>15.515</td>\n",
       "      <td>5436.413</td>\n",
       "      <td>48112.402</td>\n",
       "      <td>220556.160</td>\n",
       "      <td>10.301</td>\n",
       "      <td>1.164</td>\n",
       "      <td>0.254</td>\n",
       "      <td>56000.000</td>\n",
       "      <td>68500.000</td>\n",
       "    </tr>\n",
       "    <tr>\n",
       "      <th>1</th>\n",
       "      <td>BGF</td>\n",
       "      <td>860.773</td>\n",
       "      <td>9.315</td>\n",
       "      <td>214.481</td>\n",
       "      <td>1846.192</td>\n",
       "      <td>21.624</td>\n",
       "      <td>10.433</td>\n",
       "      <td>8.015</td>\n",
       "      <td>3703.577</td>\n",
       "      <td>18648.623</td>\n",
       "      <td>1737.263</td>\n",
       "      <td>22.757</td>\n",
       "      <td>4.519</td>\n",
       "      <td>48.514</td>\n",
       "      <td>42140.000</td>\n",
       "      <td>15250.000</td>\n",
       "    </tr>\n",
       "    <tr>\n",
       "      <th>3</th>\n",
       "      <td>BYC</td>\n",
       "      <td>2118.576</td>\n",
       "      <td>7.625</td>\n",
       "      <td>8.281</td>\n",
       "      <td>175.433</td>\n",
       "      <td>4.543</td>\n",
       "      <td>2.463</td>\n",
       "      <td>10.748</td>\n",
       "      <td>20872.312</td>\n",
       "      <td>471887.000</td>\n",
       "      <td>252211.450</td>\n",
       "      <td>19.020</td>\n",
       "      <td>0.841</td>\n",
       "      <td>1.574</td>\n",
       "      <td>397000.000</td>\n",
       "      <td>306000.000</td>\n",
       "    </tr>\n",
       "    <tr>\n",
       "      <th>4</th>\n",
       "      <td>CJ</td>\n",
       "      <td>239541.970</td>\n",
       "      <td>5.230</td>\n",
       "      <td>2.379</td>\n",
       "      <td>5698.234</td>\n",
       "      <td>6.080</td>\n",
       "      <td>2.253</td>\n",
       "      <td>5.158</td>\n",
       "      <td>6257.152</td>\n",
       "      <td>114276.080</td>\n",
       "      <td>672045.900</td>\n",
       "      <td>28.181</td>\n",
       "      <td>1.543</td>\n",
       "      <td>0.262</td>\n",
       "      <td>176334.000</td>\n",
       "      <td>171148.000</td>\n",
       "    </tr>\n",
       "    <tr>\n",
       "      <th>5</th>\n",
       "      <td>CJ CGV</td>\n",
       "      <td>14322.454</td>\n",
       "      <td>4.911</td>\n",
       "      <td>0.393</td>\n",
       "      <td>56.217</td>\n",
       "      <td>3.105</td>\n",
       "      <td>0.284</td>\n",
       "      <td>2.919</td>\n",
       "      <td>583.051</td>\n",
       "      <td>17654.154</td>\n",
       "      <td>67682.260</td>\n",
       "      <td>120.744</td>\n",
       "      <td>3.988</td>\n",
       "      <td>1.040</td>\n",
       "      <td>70400.000</td>\n",
       "      <td>74200.000</td>\n",
       "    </tr>\n",
       "  </tbody>\n",
       "</table>\n",
       "</div>"
      ]
     },
     "metadata": {},
     "execution_count": 45
    }
   ],
   "metadata": {}
  },
  {
   "cell_type": "markdown",
   "source": [
    "## Group score 생성"
   ],
   "metadata": {}
  },
  {
   "cell_type": "code",
   "execution_count": 46,
   "source": [
    "g_df['rtn'] = g_df['price2'] / g_df['price'] - 1"
   ],
   "outputs": [],
   "metadata": {}
  },
  {
   "cell_type": "code",
   "execution_count": 47,
   "source": [
    "g_df.loc[:, 'PER_score'] = pd.qcut(g_df['PER(배)'], 10, labels=range(1, 11))\n",
    "g_df.loc[:, 'PBR_score'] = pd.qcut(g_df['PBR(배)'], 10, labels=range(1, 11))"
   ],
   "outputs": [],
   "metadata": {}
  },
  {
   "cell_type": "code",
   "execution_count": 48,
   "source": [
    "g_df.set_index('ticker', inplace=True)"
   ],
   "outputs": [],
   "metadata": {}
  },
  {
   "cell_type": "code",
   "execution_count": 49,
   "source": [
    "g_df.head()"
   ],
   "outputs": [
    {
     "output_type": "execute_result",
     "data": {
      "text/plain": [
       "          매출액(억원)  영업이익률(%)  순이익률(%)  당기순이익(억원)  ROE(%)  ROA(%)  ROIC(%)  \\\n",
       "ticker                                                                     \n",
       "AK홀딩스   29218.310     7.313    4.563   1333.223  12.193   5.091   15.515   \n",
       "BGF       860.773     9.315  214.481   1846.192  21.624  10.433    8.015   \n",
       "BYC      2118.576     7.625    8.281    175.433   4.543   2.463   10.748   \n",
       "CJ     239541.970     5.230    2.379   5698.234   6.080   2.253    5.158   \n",
       "CJ CGV  14322.454     4.911    0.393     56.217   3.105   0.284    2.919   \n",
       "\n",
       "          EPS(원)     BPS(원)     SPS(원)  PER(배)  PBR(배)  PSR(배)      price  \\\n",
       "ticker                                                                      \n",
       "AK홀딩스   5436.413  48112.402 220556.160  10.301   1.164   0.254  56000.000   \n",
       "BGF     3703.577  18648.623   1737.263  22.757   4.519  48.514  42140.000   \n",
       "BYC    20872.312 471887.000 252211.450  19.020   0.841   1.574 397000.000   \n",
       "CJ      6257.152 114276.080 672045.900  28.181   1.543   0.262 176334.000   \n",
       "CJ CGV   583.051  17654.154  67682.260 120.744   3.988   1.040  70400.000   \n",
       "\n",
       "           price2    rtn PER_score PBR_score  \n",
       "ticker                                        \n",
       "AK홀딩스   68500.000  0.223         5         7  \n",
       "BGF     15250.000 -0.638         8        10  \n",
       "BYC    306000.000 -0.229         8         5  \n",
       "CJ     171148.000 -0.029         9         8  \n",
       "CJ CGV  74200.000  0.054        10        10  "
      ],
      "text/html": [
       "<div>\n",
       "<style scoped>\n",
       "    .dataframe tbody tr th:only-of-type {\n",
       "        vertical-align: middle;\n",
       "    }\n",
       "\n",
       "    .dataframe tbody tr th {\n",
       "        vertical-align: top;\n",
       "    }\n",
       "\n",
       "    .dataframe thead th {\n",
       "        text-align: right;\n",
       "    }\n",
       "</style>\n",
       "<table border=\"1\" class=\"dataframe\">\n",
       "  <thead>\n",
       "    <tr style=\"text-align: right;\">\n",
       "      <th></th>\n",
       "      <th>매출액(억원)</th>\n",
       "      <th>영업이익률(%)</th>\n",
       "      <th>순이익률(%)</th>\n",
       "      <th>당기순이익(억원)</th>\n",
       "      <th>ROE(%)</th>\n",
       "      <th>ROA(%)</th>\n",
       "      <th>ROIC(%)</th>\n",
       "      <th>EPS(원)</th>\n",
       "      <th>BPS(원)</th>\n",
       "      <th>SPS(원)</th>\n",
       "      <th>PER(배)</th>\n",
       "      <th>PBR(배)</th>\n",
       "      <th>PSR(배)</th>\n",
       "      <th>price</th>\n",
       "      <th>price2</th>\n",
       "      <th>rtn</th>\n",
       "      <th>PER_score</th>\n",
       "      <th>PBR_score</th>\n",
       "    </tr>\n",
       "    <tr>\n",
       "      <th>ticker</th>\n",
       "      <th></th>\n",
       "      <th></th>\n",
       "      <th></th>\n",
       "      <th></th>\n",
       "      <th></th>\n",
       "      <th></th>\n",
       "      <th></th>\n",
       "      <th></th>\n",
       "      <th></th>\n",
       "      <th></th>\n",
       "      <th></th>\n",
       "      <th></th>\n",
       "      <th></th>\n",
       "      <th></th>\n",
       "      <th></th>\n",
       "      <th></th>\n",
       "      <th></th>\n",
       "      <th></th>\n",
       "    </tr>\n",
       "  </thead>\n",
       "  <tbody>\n",
       "    <tr>\n",
       "      <th>AK홀딩스</th>\n",
       "      <td>29218.310</td>\n",
       "      <td>7.313</td>\n",
       "      <td>4.563</td>\n",
       "      <td>1333.223</td>\n",
       "      <td>12.193</td>\n",
       "      <td>5.091</td>\n",
       "      <td>15.515</td>\n",
       "      <td>5436.413</td>\n",
       "      <td>48112.402</td>\n",
       "      <td>220556.160</td>\n",
       "      <td>10.301</td>\n",
       "      <td>1.164</td>\n",
       "      <td>0.254</td>\n",
       "      <td>56000.000</td>\n",
       "      <td>68500.000</td>\n",
       "      <td>0.223</td>\n",
       "      <td>5</td>\n",
       "      <td>7</td>\n",
       "    </tr>\n",
       "    <tr>\n",
       "      <th>BGF</th>\n",
       "      <td>860.773</td>\n",
       "      <td>9.315</td>\n",
       "      <td>214.481</td>\n",
       "      <td>1846.192</td>\n",
       "      <td>21.624</td>\n",
       "      <td>10.433</td>\n",
       "      <td>8.015</td>\n",
       "      <td>3703.577</td>\n",
       "      <td>18648.623</td>\n",
       "      <td>1737.263</td>\n",
       "      <td>22.757</td>\n",
       "      <td>4.519</td>\n",
       "      <td>48.514</td>\n",
       "      <td>42140.000</td>\n",
       "      <td>15250.000</td>\n",
       "      <td>-0.638</td>\n",
       "      <td>8</td>\n",
       "      <td>10</td>\n",
       "    </tr>\n",
       "    <tr>\n",
       "      <th>BYC</th>\n",
       "      <td>2118.576</td>\n",
       "      <td>7.625</td>\n",
       "      <td>8.281</td>\n",
       "      <td>175.433</td>\n",
       "      <td>4.543</td>\n",
       "      <td>2.463</td>\n",
       "      <td>10.748</td>\n",
       "      <td>20872.312</td>\n",
       "      <td>471887.000</td>\n",
       "      <td>252211.450</td>\n",
       "      <td>19.020</td>\n",
       "      <td>0.841</td>\n",
       "      <td>1.574</td>\n",
       "      <td>397000.000</td>\n",
       "      <td>306000.000</td>\n",
       "      <td>-0.229</td>\n",
       "      <td>8</td>\n",
       "      <td>5</td>\n",
       "    </tr>\n",
       "    <tr>\n",
       "      <th>CJ</th>\n",
       "      <td>239541.970</td>\n",
       "      <td>5.230</td>\n",
       "      <td>2.379</td>\n",
       "      <td>5698.234</td>\n",
       "      <td>6.080</td>\n",
       "      <td>2.253</td>\n",
       "      <td>5.158</td>\n",
       "      <td>6257.152</td>\n",
       "      <td>114276.080</td>\n",
       "      <td>672045.900</td>\n",
       "      <td>28.181</td>\n",
       "      <td>1.543</td>\n",
       "      <td>0.262</td>\n",
       "      <td>176334.000</td>\n",
       "      <td>171148.000</td>\n",
       "      <td>-0.029</td>\n",
       "      <td>9</td>\n",
       "      <td>8</td>\n",
       "    </tr>\n",
       "    <tr>\n",
       "      <th>CJ CGV</th>\n",
       "      <td>14322.454</td>\n",
       "      <td>4.911</td>\n",
       "      <td>0.393</td>\n",
       "      <td>56.217</td>\n",
       "      <td>3.105</td>\n",
       "      <td>0.284</td>\n",
       "      <td>2.919</td>\n",
       "      <td>583.051</td>\n",
       "      <td>17654.154</td>\n",
       "      <td>67682.260</td>\n",
       "      <td>120.744</td>\n",
       "      <td>3.988</td>\n",
       "      <td>1.040</td>\n",
       "      <td>70400.000</td>\n",
       "      <td>74200.000</td>\n",
       "      <td>0.054</td>\n",
       "      <td>10</td>\n",
       "      <td>10</td>\n",
       "    </tr>\n",
       "  </tbody>\n",
       "</table>\n",
       "</div>"
      ]
     },
     "metadata": {},
     "execution_count": 49
    }
   ],
   "metadata": {}
  },
  {
   "cell_type": "code",
   "execution_count": 52,
   "source": [
    "# g_df.get_dtype_counts()\n",
    "g_df.dtypes.value_counts()"
   ],
   "outputs": [
    {
     "output_type": "execute_result",
     "data": {
      "text/plain": [
       "float64     16\n",
       "category     2\n",
       "dtype: int64"
      ]
     },
     "metadata": {},
     "execution_count": 52
    }
   ],
   "metadata": {}
  },
  {
   "cell_type": "markdown",
   "source": [
    "## groupby() & aggregation"
   ],
   "metadata": {}
  },
  {
   "cell_type": "markdown",
   "source": [
    "- `groupby()`\n",
    "    - 실제로 grouping까지는 하지 않고, grouping이 가능한지 validation만 진행(preparation)\n",
    "- Aggregation\n",
    "    - 2가지 요소로 구성\n",
    "        - aggregating columns\n",
    "        - aggregating functions\n",
    "            - e.g. `sum, min, max, mean, count, variacne, std` etc"
   ],
   "metadata": {}
  },
  {
   "cell_type": "markdown",
   "source": [
    "- 결국, 3가지 요소만 충족시키면 됨!\n",
    "    - Grouping columns (cateogorial data type)\n",
    "    - Aggregating columns\n",
    "    - Aggregating functions"
   ],
   "metadata": {}
  },
  {
   "cell_type": "markdown",
   "source": [
    "### `groupby` object 살펴보기"
   ],
   "metadata": {}
  },
  {
   "cell_type": "code",
   "execution_count": 53,
   "source": [
    "g_df.groupby('PER_score')"
   ],
   "outputs": [
    {
     "output_type": "execute_result",
     "data": {
      "text/plain": [
       "<pandas.core.groupby.generic.DataFrameGroupBy object at 0x7f80a0be9630>"
      ]
     },
     "metadata": {},
     "execution_count": 53
    }
   ],
   "metadata": {}
  },
  {
   "cell_type": "code",
   "execution_count": 54,
   "source": [
    "g_df_obj = g_df.groupby([\"PBR_score\", \"PER_score\"])\n",
    "g_df_obj"
   ],
   "outputs": [
    {
     "output_type": "execute_result",
     "data": {
      "text/plain": [
       "<pandas.core.groupby.generic.DataFrameGroupBy object at 0x7f80a0be98d0>"
      ]
     },
     "metadata": {},
     "execution_count": 54
    }
   ],
   "metadata": {}
  },
  {
   "cell_type": "code",
   "execution_count": 55,
   "source": [
    "type(g_df_obj)"
   ],
   "outputs": [
    {
     "output_type": "execute_result",
     "data": {
      "text/plain": [
       "pandas.core.groupby.generic.DataFrameGroupBy"
      ]
     },
     "metadata": {},
     "execution_count": 55
    }
   ],
   "metadata": {}
  },
  {
   "cell_type": "code",
   "execution_count": 56,
   "source": [
    "g_df_obj.ngroups"
   ],
   "outputs": [
    {
     "output_type": "execute_result",
     "data": {
      "text/plain": [
       "96"
      ]
     },
     "metadata": {},
     "execution_count": 56
    }
   ],
   "metadata": {}
  },
  {
   "cell_type": "code",
   "execution_count": 57,
   "source": [
    "g_df['PBR_score'].nunique()\n",
    "g_df['PER_score'].nunique()"
   ],
   "outputs": [
    {
     "output_type": "execute_result",
     "data": {
      "text/plain": [
       "10"
      ]
     },
     "metadata": {},
     "execution_count": 57
    },
    {
     "output_type": "execute_result",
     "data": {
      "text/plain": [
       "10"
      ]
     },
     "metadata": {},
     "execution_count": 57
    }
   ],
   "metadata": {}
  },
  {
   "cell_type": "markdown",
   "source": [
    "- \"ngroups와 (g_df['PBR_score'].nunique() x g_df['PER_score'].nunique())가 차이가 나는 이유\"에 대해서 생각해보기"
   ],
   "metadata": {}
  },
  {
   "cell_type": "code",
   "execution_count": 58,
   "source": [
    "type(g_df_obj.size())"
   ],
   "outputs": [
    {
     "output_type": "execute_result",
     "data": {
      "text/plain": [
       "pandas.core.series.Series"
      ]
     },
     "metadata": {},
     "execution_count": 58
    }
   ],
   "metadata": {}
  },
  {
   "cell_type": "code",
   "execution_count": 59,
   "source": [
    "g_df_obj.size().head()"
   ],
   "outputs": [
    {
     "output_type": "execute_result",
     "data": {
      "text/plain": [
       "PBR_score  PER_score\n",
       "1          1             5\n",
       "           2            11\n",
       "           3            11\n",
       "           4            11\n",
       "           5             7\n",
       "dtype: int64"
      ]
     },
     "metadata": {},
     "execution_count": 59
    }
   ],
   "metadata": {}
  },
  {
   "cell_type": "code",
   "execution_count": 60,
   "source": [
    "# Multi-level index를 가진 Series indexing하는 법 \n",
    "g_df_obj.size().loc[1]\n",
    "g_df_obj.size().loc[(1, 1)]"
   ],
   "outputs": [
    {
     "output_type": "execute_result",
     "data": {
      "text/plain": [
       "PER_score\n",
       "1      5\n",
       "2     11\n",
       "3     11\n",
       "4     11\n",
       "5      7\n",
       "6      2\n",
       "7      4\n",
       "8      0\n",
       "9      3\n",
       "10     7\n",
       "dtype: int64"
      ]
     },
     "metadata": {},
     "execution_count": 60
    },
    {
     "output_type": "execute_result",
     "data": {
      "text/plain": [
       "5"
      ]
     },
     "metadata": {},
     "execution_count": 60
    }
   ],
   "metadata": {}
  },
  {
   "cell_type": "code",
   "execution_count": 61,
   "source": [
    "# Series -> DataFrame으로 변환\n",
    "g_df_obj.size().to_frame().head()"
   ],
   "outputs": [
    {
     "output_type": "execute_result",
     "data": {
      "text/plain": [
       "                      0\n",
       "PBR_score PER_score    \n",
       "1         1           5\n",
       "          2          11\n",
       "          3          11\n",
       "          4          11\n",
       "          5           7"
      ],
      "text/html": [
       "<div>\n",
       "<style scoped>\n",
       "    .dataframe tbody tr th:only-of-type {\n",
       "        vertical-align: middle;\n",
       "    }\n",
       "\n",
       "    .dataframe tbody tr th {\n",
       "        vertical-align: top;\n",
       "    }\n",
       "\n",
       "    .dataframe thead th {\n",
       "        text-align: right;\n",
       "    }\n",
       "</style>\n",
       "<table border=\"1\" class=\"dataframe\">\n",
       "  <thead>\n",
       "    <tr style=\"text-align: right;\">\n",
       "      <th></th>\n",
       "      <th></th>\n",
       "      <th>0</th>\n",
       "    </tr>\n",
       "    <tr>\n",
       "      <th>PBR_score</th>\n",
       "      <th>PER_score</th>\n",
       "      <th></th>\n",
       "    </tr>\n",
       "  </thead>\n",
       "  <tbody>\n",
       "    <tr>\n",
       "      <th rowspan=\"5\" valign=\"top\">1</th>\n",
       "      <th>1</th>\n",
       "      <td>5</td>\n",
       "    </tr>\n",
       "    <tr>\n",
       "      <th>2</th>\n",
       "      <td>11</td>\n",
       "    </tr>\n",
       "    <tr>\n",
       "      <th>3</th>\n",
       "      <td>11</td>\n",
       "    </tr>\n",
       "    <tr>\n",
       "      <th>4</th>\n",
       "      <td>11</td>\n",
       "    </tr>\n",
       "    <tr>\n",
       "      <th>5</th>\n",
       "      <td>7</td>\n",
       "    </tr>\n",
       "  </tbody>\n",
       "</table>\n",
       "</div>"
      ]
     },
     "metadata": {},
     "execution_count": 61
    }
   ],
   "metadata": {}
  },
  {
   "cell_type": "code",
   "execution_count": 62,
   "source": [
    "type(g_df_obj.groups)\n",
    "g_df_obj.groups.keys()\n",
    "g_df_obj.groups.values ()"
   ],
   "outputs": [
    {
     "output_type": "execute_result",
     "data": {
      "text/plain": [
       "pandas.io.formats.printing.PrettyDict"
      ]
     },
     "metadata": {},
     "execution_count": 62
    },
    {
     "output_type": "execute_result",
     "data": {
      "text/plain": [
       "dict_keys([(1, 1), (1, 2), (1, 3), (1, 4), (1, 5), (1, 6), (1, 7), (1, 9), (1, 10), (2, 1), (2, 2), (2, 3), (2, 4), (2, 5), (2, 6), (2, 7), (2, 8), (2, 9), (2, 10), (3, 2), (3, 3), (3, 4), (3, 5), (3, 6), (3, 7), (3, 8), (3, 9), (3, 10), (4, 1), (4, 2), (4, 3), (4, 4), (4, 5), (4, 6), (4, 7), (4, 8), (4, 9), (4, 10), (5, 1), (5, 2), (5, 3), (5, 4), (5, 5), (5, 6), (5, 7), (5, 8), (5, 9), (5, 10), (6, 1), (6, 2), (6, 3), (6, 4), (6, 5), (6, 6), (6, 7), (6, 8), (6, 9), (6, 10), (7, 1), (7, 2), (7, 3), (7, 4), (7, 5), (7, 6), (7, 7), (7, 8), (7, 9), (7, 10), (8, 1), (8, 2), (8, 3), (8, 4), (8, 5), (8, 6), (8, 7), (8, 8), (8, 9), (8, 10), (9, 1), (9, 2), (9, 4), (9, 5), (9, 6), (9, 7), (9, 8), (9, 9), (9, 10), (10, 1), (10, 2), (10, 4), (10, 5), (10, 6), (10, 7), (10, 8), (10, 9), (10, 10)])"
      ]
     },
     "metadata": {},
     "execution_count": 62
    },
    {
     "output_type": "execute_result",
     "data": {
      "text/plain": [
       "dict_values([Index(['E1', 'S&T중공업', '디아이동일', '한국수출포장공업', '휴스틸'], dtype='object', name='ticker'), Index(['LS네트웍스', 'STX', 'STX중공업', '두산건설', '삼부토건', '서연', '전방', '한국가스공사',\n",
       "       '한국전자홀딩스', '한진중공업', '한진중공업홀딩스'],\n",
       "      dtype='object', name='ticker'), Index(['KISCO홀딩스', '세아홀딩스', '신대양제지', '아세아', '아세아시멘트', '예스코홀딩스', '지엠비코리아',\n",
       "       '지역난방공사', '케이비아이동국실업', '한국전력공사', '한국프랜지공업'],\n",
       "      dtype='object', name='ticker'), Index(['계룡건설산업', '대한화섬', '아세아제지', '인지컨트롤스', '평화홀딩스', '한국공항', '한국제지', '한국철강',\n",
       "       '한일홀딩스', '한진', '현대제철'],\n",
       "      dtype='object', name='ticker'), Index(['CS홀딩스', '대성홀딩스', '대한제분', '삼성공조', '삼천리', '성창기업지주', '하이스틸'], dtype='object', name='ticker'), Index(['경동인베스트', '유성기업'], dtype='object', name='ticker'), Index(['서울도시가스', '선창산업', '일신방직', '화천기공'], dtype='object', name='ticker'), Index(['가온전선', '롯데쇼핑', '삼아알미늄'], dtype='object', name='ticker'), Index(['KEC', 'S&T홀딩스', '무림페이퍼', '영흥철강', '유니온', '태광산업', '혜인'], dtype='object', name='ticker'), Index(['GS건설', '대한방직', '무림P&P', '삼성중공업', '신원', '한솔홀딩스'], dtype='object', name='ticker'), Index(['금호전기', '신송홀딩스'], dtype='object', name='ticker'), Index(['TCC스틸', '강남제비스코', '넥센', '대한제강', '서연이화', '우신시스템', '원림', '풍산홀딩스',\n",
       "       '한국석유공업', '화성산업'],\n",
       "      dtype='object', name='ticker'), Index(['SIMPAC', '롯데하이마트', '문배철강', '세방', '세이브존I&C', '신라교역', '신세계', '신영와코루',\n",
       "       '현대비앤지스틸'],\n",
       "      dtype='object', name='ticker'), Index(['KPX홀딩스', '경인전자', '대창', '대한제당', '세아베스틸', '세아제강지주', '하이트론씨스템즈',\n",
       "       '하이트진로홀딩스'],\n",
       "      dtype='object', name='ticker'), Index(['디와이', '모토닉', '성신양회', '세종공업', '에스제이엠홀딩스', '인터지스', '케이씨티시'], dtype='object', name='ticker'), Index(['고려제강', '동국제강', '삼영전자공업', '포스코', '한국조선해양'], dtype='object', name='ticker'), Index(['노루홀딩스', '부국철강', '일성건설', '조선내화', '한국종합기술'], dtype='object', name='ticker'), Index(['SBS미디어홀딩스', 'WISCOM', '남성', '코오롱글로벌', '코오롱머티리얼'], dtype='object', name='ticker'), Index(['샘표', '우성사료', '일성신약', '태영건설'], dtype='object', name='ticker'), Index(['삼영화학공업', '신한', '웅진', '한국주강'], dtype='object', name='ticker'), Index(['DRB동일', '금강공업', '기아자동차', '농심홀딩스', '대창단조', '동방', '미창석유공업', '삼양통상',\n",
       "       '삼호개발', '에스제이엠', '인팩', '조일알미늄', '화승알앤에이', '화신', '황금에스티'],\n",
       "      dtype='object', name='ticker'), Index(['KPX케미칼', 'OCI', '대원강업', '부산도시가스', '세방전지', '세아특수강', '유니드', '조광페인트',\n",
       "       '현대백화점', '현대자동차'],\n",
       "      dtype='object', name='ticker'), Index(['LS', '삼화왕관', '영풍', '일정실업', '진양홀딩스', '케이티'], dtype='object', name='ticker'), Index(['LF', '경방', '대성에너지', '영풍제지', '이마트', '제일연마', '한국내화'], dtype='object', name='ticker'), Index(['노루페인트', '동방아그로', '동일산업', '사조대림', '신도리코', '태경화학', '현대위아'], dtype='object', name='ticker'), Index(['경농', '케이씨씨', '텔코웨어', '한라'], dtype='object', name='ticker'), Index(['백광산업', '삼양홀딩스', '현대종합상사'], dtype='object', name='ticker'), Index(['S&TC', '광전자', '엔에이치엔', '이건산업', '일진전기'], dtype='object', name='ticker'), Index(['SK네트웍스', '롯데정밀화학', '성안', '유수홀딩스', '한성기업'], dtype='object', name='ticker'), Index(['대동공업', '동부제철', '성보화학', '코스모화학', '태림포장', '한화갤러리아타임월드'], dtype='object', name='ticker'), Index(['GS', 'SK가스', '새론오토모티브', '에스엘', '한화', '한화솔루션'], dtype='object', name='ticker'), Index(['SK이노베이션', '광주신세계', '대영포장', '진도', '한라홀딩스', '현대건설'], dtype='object', name='ticker'), Index(['LG', '동아지질', '삼원강재', '영원무역홀딩스', '현대에이치씨엔'], dtype='object', name='ticker'), Index(['KG케미칼', 'KSS해운', 'KTcs', 'KTis', '국도화학', '대림산업', '대상홀딩스', '대한해운',\n",
       "       '동양고속', '조광피혁'],\n",
       "      dtype='object', name='ticker'), Index(['남양유업', '대덕전자', '사조씨푸드', '삼화페인트공업', '이구산업', '인천도시가스', '한국카본'], dtype='object', name='ticker'), Index(['SK렌터카', '대웅', '롯데지주', '이수화학'], dtype='object', name='ticker'), Index(['LG헬로비전', '그린케미칼', '동양', '삼성SDI', '신세계I&C', '휴비스'], dtype='object', name='ticker'), Index(['LG전자', '대림통상', '도화엔지니어링', '삼일제약', '신화실업', '태경산업'], dtype='object', name='ticker'), Index(['대유플러스', '두산중공업', '세원셀론텍', '씨에스윈드', '웰바이오텍', '코리아써키트', '티비에이치글로벌'], dtype='object', name='ticker'), Index(['DB', '동부건설', '한진칼', '휠라홀딩스', '흥아해운'], dtype='object', name='ticker'), Index(['MH에탄올', '국동', '포스코강판', '한국특수형강'], dtype='object', name='ticker'), Index(['극동유화', '다스코', '다우기술', '동성코퍼레이션', '동일고무벨트', '동화약품', '디씨엠', '부산산업',\n",
       "       '상신브레이크', '엘브이엠씨', '지투알', '풍산', '현대모비스'],\n",
       "      dtype='object', name='ticker'), Index(['GS글로벌', '디티알오토모티브', '종근당홀딩스', '콤텍시스템', '태양금속공업', '한농화성', '한미글로벌'], dtype='object', name='ticker'), Index(['LG디스플레이', '두산', '사조산업', '아이마켓코리아', '조흥', '종근당바이오'], dtype='object', name='ticker'), Index(['광동제약', '대림비앤코', '롯데푸드', '아시아나항공', '퍼시스', '한섬', '한솔홈데코', '현대그린푸드'], dtype='object', name='ticker'), Index(['BYC', 'LG상사', '태원물산', '팬오션'], dtype='object', name='ticker'), Index(['SKC', '두산인프라코어', '삼익악기', '선도전기', '이수페타시스'], dtype='object', name='ticker'), Index(['삼성전기', '화인베스틸'], dtype='object', name='ticker'), Index(['덕양산업', '세기상사', '씨아이테크', '우진', '일진홀딩스', '카프로'], dtype='object', name='ticker'), Index(['대성산업', '대우건설', '엔케이', '티에이치엔', '페이퍼코리아'], dtype='object', name='ticker'), Index(['HDC현대EP', '남선알미늄', '동아쏘시오홀딩스', '삼호', '엔피씨', '우진플라임', '조선선재',\n",
       "       '한화에어로스페이스'],\n",
       "      dtype='object', name='ticker'), Index(['NI스틸', '넥센타이어', '동성화학', '미원상사', '비상교육'], dtype='object', name='ticker'), Index(['LG유플러스', 'SK텔레콤', '계양전기', '금호산업', '농심', '사조오양', '삼영무역', '영보화학'], dtype='object', name='ticker'), Index(['DSR제강', 'LG하우시스', 'LS산전', '대상', '디피씨', '모나미', '삼양사', '영원무역', '코오롱인더',\n",
       "       '한솔로지스틱스'],\n",
       "      dtype='object', name='ticker'), Index(['서원', '율촌화학', '필룩스', '환인제약'], dtype='object', name='ticker'), Index(['S&T모티브', 'SK', '대교', '빙그레', '삼광글라스', '신세계인터내셔날', '자화전자'], dtype='object', name='ticker'), Index(['KC그린홀딩스', '경인양행', '깨끗한나라', '대원전선', '한세엠케이'], dtype='object', name='ticker'), Index(['유니퀘스트', '현대로템'], dtype='object', name='ticker'), Index(['SG세계물산', 'SG충방', 'YG PLUS', '갤럭시아에스엠', '금호타이어', '넥스트사이언스', '엔케이물산',\n",
       "       '유엔젤', '한독'],\n",
       "      dtype='object', name='ticker'), Index(['대한항공', '웅진에너지', '진양폴리우레탄', '청호컴넷', '현대상선'], dtype='object', name='ticker'), Index(['대한유화', '대현', '롯데케미칼', '선진', '한창제지'], dtype='object', name='ticker'), Index(['F&F', '영화금속', '한국타이어앤테크놀로지'], dtype='object', name='ticker'), Index(['AK홀딩스', 'HDC', 'SK하이닉스', '동남합성', '무학', '송원산업'], dtype='object', name='ticker'), Index(['DSR', 'NICE', '벽산', '한국단자공업'], dtype='object', name='ticker'), Index(['락앤락', '에이프로젠 KIC', '웅진씽크빅', '포스코케미칼', '한신기계공업'], dtype='object', name='ticker'), Index(['SK디스커버리', '삼성출판사', '쌍용자동차', '유니온머티리얼', '일진다이아', '코스맥스비티아이'], dtype='object', name='ticker'), Index(['동원수산', '디아이씨', '수산중공업', '아남전자', '윌비스', '코오롱', '평화산업', '포스코인터내셔널',\n",
       "       '하이트진로', '한솔피엔에스'],\n",
       "      dtype='object', name='ticker'), Index(['KC코트렐', 'LG이노텍', '국제약품', '디아이', '마니커', '삼성물산', '신흥', '아이에이치큐'], dtype='object', name='ticker'), Index(['대유에이텍', '동성제약', '범양건영', '보해양조', '신풍제약', '쌍방울'], dtype='object', name='ticker'), Index(['국보', '동양철관', '부산주공', '에쓰씨엔지니어링', '이스타코', '인디에프', '큐로', '태평양물산',\n",
       "       '한솔테크닉스'],\n",
       "      dtype='object', name='ticker'), Index(['신세계건설', '아이에스동서'], dtype='object', name='ticker'), Index(['S-Oil', '애경유화'], dtype='object', name='ticker'), Index(['만도', '미원홀딩스', '오리온홀딩스', '케이티스카이라이프', '크라운해태홀딩스', '현대글로비스'], dtype='object', name='ticker'), Index(['광명전기', '삼성전자', '삼익THK', '코오롱플라스틱', '쿠쿠홀딩스', '한미반도체', '현대리바트', '효성'], dtype='object', name='ticker'), Index(['LG화학', '고려아연', '대원화성', '동원F&B', '동원산업', '명문제약', '서흥', '유나이티드', '유한양행',\n",
       "       '팜스코', '한익스프레스'],\n",
       "      dtype='object', name='ticker'), Index(['CJ제일제당', '녹십자홀딩스', '보락', '한세예스24홀딩스', '휴켐스'], dtype='object', name='ticker'), Index(['CJ', '금호석유화학', '대웅제약', '덕성', '진양산업', '진양화학'], dtype='object', name='ticker'), Index(['CJ대한통운', '동아에스티', '세우글로벌', '조비', '카카오', '코스모신소재'], dtype='object', name='ticker'), Index(['대호에이엘', '미래산업', '미래아이앤지', '일신석재', '키위미디어그룹', '퍼스텍'], dtype='object', name='ticker'), Index(['KR모터스', '메타랩스', '삼성제약', '이아이디', '일동홀딩스', '일진디스플', '지코', '코아스',\n",
       "       '키다리스튜디오'],\n",
       "      dtype='object', name='ticker'), Index(['DB하이텍'], dtype='object', name='ticker'), Index(['SH에너지화학', '미원화학', '백산', '케이티앤지', '한전산업', '현대엘리베이터', '휴니드테크놀러지스'], dtype='object', name='ticker'), Index(['GS리테일', '일진머티리얼즈', '케이씨', '한국화장품제조', '화승인더스트리'], dtype='object', name='ticker'), Index(['강원랜드', '경동나비엔', '대원제약', '삼양식품', '삼진제약', '알루코', '오뚜기', '한국콜마홀딩스'], dtype='object', name='ticker'), Index(['CJ씨푸드', '고려산업', '동서', '사조동아원', '삼성에스디에스', '삼화콘덴서공업', '에이블씨엔씨', '에이엔피',\n",
       "       '제일기획', '한세실업', '효성 ITX'],\n",
       "      dtype='object', name='ticker'), Index(['녹십자', '대우부품', '삼화전기', '신세계푸드', '신일산업', '이연제약', '티웨이홀딩스'], dtype='object', name='ticker'), Index(['롯데관광개발', '삼성엔지니어링', '서울식품공업', '시디즈', '에넥스', '이월드', '한전기술'], dtype='object', name='ticker'), Index(['JW중외제약', 'JW홀딩스', '대한전선', '비티원', '삼화전자공업', '성문전자', '에이프로젠제약',\n",
       "       '우리들휴브레인', '유양디앤유', '인스코비', '파미셀'],\n",
       "      dtype='object', name='ticker'), Index(['금양', '대우조선해양', '쎌마테라퓨틱스', '진원생명과학', '한일현대시멘트'], dtype='object', name='ticker'), Index(['세하'], dtype='object', name='ticker'), Index(['후성'], dtype='object', name='ticker'), Index(['한국화장품'], dtype='object', name='ticker'), Index(['제이준코스메틱', '한솔케미칼'], dtype='object', name='ticker'), Index(['BGF', 'LG생활건강', '나노메딕스', '대양금속', '더존비즈온', '동원시스템즈', '에스원', '엔씨소프트',\n",
       "       '제이콘텐트리', '종근당', '참엔지니어링', '한국쉘석유', '한국콜마', '한국항공우주', '한온시스템'],\n",
       "      dtype='object', name='ticker'), Index(['NAVER', 'SPC삼립', '모나리자', '아모레퍼시픽', '아모레퍼시픽그룹', '우리들제약', '코스맥스', '코웨이',\n",
       "       '한샘', '한전KPS', '한창'],\n",
       "      dtype='object', name='ticker'), Index(['CJ CGV', '동양물산기업', '보령제약', '부광약품', '셀트리온', '써니전자', '영진약품', '일양약품',\n",
       "       '천일고속', '하나투어', '한미사이언스', '한미약품', '한올바이오파마', '호텔신라'],\n",
       "      dtype='object', name='ticker')])"
      ]
     },
     "metadata": {},
     "execution_count": 62
    }
   ],
   "metadata": {}
  },
  {
   "cell_type": "code",
   "execution_count": 63,
   "source": [
    "# Retrieve specific group\n",
    "g_df_obj.get_group((1, 1))"
   ],
   "outputs": [
    {
     "output_type": "execute_result",
     "data": {
      "text/plain": [
       "           매출액(억원)  영업이익률(%)  순이익률(%)  당기순이익(억원)  ROE(%)  ROA(%)  ROIC(%)  \\\n",
       "ticker                                                                      \n",
       "E1       39959.008     0.277   -0.949   -379.397  -2.350  -1.076   -1.633   \n",
       "S&T중공업    4680.078    -0.309   -5.221   -244.358  -3.671  -2.697   -0.791   \n",
       "디아이동일     8224.145     2.100    0.132     10.885  -0.753   0.111    0.051   \n",
       "한국수출포장공업  2282.604     1.344   -0.091     -2.075  -0.092  -0.069    0.152   \n",
       "휴스틸       3640.215     0.370   -0.153     -5.562  -0.143  -0.101    0.059   \n",
       "\n",
       "            EPS(원)     BPS(원)     SPS(원)   PER(배)  PBR(배)  PSR(배)     price  \\\n",
       "ticker                                                                        \n",
       "E1       -3869.011 191789.690 582492.800  -16.206   0.327   0.108 62700.000   \n",
       "S&T중공업    -734.851  21043.785  14074.280  -12.369   0.432   0.646  9089.000   \n",
       "디아이동일    -1523.407 270773.030 333554.280  -37.365   0.210   0.171 56922.000   \n",
       "한국수출포장공업   -51.880  56026.280  57065.100 -345.030   0.319   0.314 17900.000   \n",
       "휴스틸        -80.399  55779.490  52614.773 -191.546   0.276   0.293 15400.000   \n",
       "\n",
       "            price2    rtn PER_score PBR_score  \n",
       "ticker                                         \n",
       "E1       56900.000 -0.093         1         1  \n",
       "S&T중공업    7310.000 -0.196         1         1  \n",
       "디아이동일    51884.000 -0.089         1         1  \n",
       "한국수출포장공업 15650.000 -0.126         1         1  \n",
       "휴스틸      15450.000  0.003         1         1  "
      ],
      "text/html": [
       "<div>\n",
       "<style scoped>\n",
       "    .dataframe tbody tr th:only-of-type {\n",
       "        vertical-align: middle;\n",
       "    }\n",
       "\n",
       "    .dataframe tbody tr th {\n",
       "        vertical-align: top;\n",
       "    }\n",
       "\n",
       "    .dataframe thead th {\n",
       "        text-align: right;\n",
       "    }\n",
       "</style>\n",
       "<table border=\"1\" class=\"dataframe\">\n",
       "  <thead>\n",
       "    <tr style=\"text-align: right;\">\n",
       "      <th></th>\n",
       "      <th>매출액(억원)</th>\n",
       "      <th>영업이익률(%)</th>\n",
       "      <th>순이익률(%)</th>\n",
       "      <th>당기순이익(억원)</th>\n",
       "      <th>ROE(%)</th>\n",
       "      <th>ROA(%)</th>\n",
       "      <th>ROIC(%)</th>\n",
       "      <th>EPS(원)</th>\n",
       "      <th>BPS(원)</th>\n",
       "      <th>SPS(원)</th>\n",
       "      <th>PER(배)</th>\n",
       "      <th>PBR(배)</th>\n",
       "      <th>PSR(배)</th>\n",
       "      <th>price</th>\n",
       "      <th>price2</th>\n",
       "      <th>rtn</th>\n",
       "      <th>PER_score</th>\n",
       "      <th>PBR_score</th>\n",
       "    </tr>\n",
       "    <tr>\n",
       "      <th>ticker</th>\n",
       "      <th></th>\n",
       "      <th></th>\n",
       "      <th></th>\n",
       "      <th></th>\n",
       "      <th></th>\n",
       "      <th></th>\n",
       "      <th></th>\n",
       "      <th></th>\n",
       "      <th></th>\n",
       "      <th></th>\n",
       "      <th></th>\n",
       "      <th></th>\n",
       "      <th></th>\n",
       "      <th></th>\n",
       "      <th></th>\n",
       "      <th></th>\n",
       "      <th></th>\n",
       "      <th></th>\n",
       "    </tr>\n",
       "  </thead>\n",
       "  <tbody>\n",
       "    <tr>\n",
       "      <th>E1</th>\n",
       "      <td>39959.008</td>\n",
       "      <td>0.277</td>\n",
       "      <td>-0.949</td>\n",
       "      <td>-379.397</td>\n",
       "      <td>-2.350</td>\n",
       "      <td>-1.076</td>\n",
       "      <td>-1.633</td>\n",
       "      <td>-3869.011</td>\n",
       "      <td>191789.690</td>\n",
       "      <td>582492.800</td>\n",
       "      <td>-16.206</td>\n",
       "      <td>0.327</td>\n",
       "      <td>0.108</td>\n",
       "      <td>62700.000</td>\n",
       "      <td>56900.000</td>\n",
       "      <td>-0.093</td>\n",
       "      <td>1</td>\n",
       "      <td>1</td>\n",
       "    </tr>\n",
       "    <tr>\n",
       "      <th>S&amp;T중공업</th>\n",
       "      <td>4680.078</td>\n",
       "      <td>-0.309</td>\n",
       "      <td>-5.221</td>\n",
       "      <td>-244.358</td>\n",
       "      <td>-3.671</td>\n",
       "      <td>-2.697</td>\n",
       "      <td>-0.791</td>\n",
       "      <td>-734.851</td>\n",
       "      <td>21043.785</td>\n",
       "      <td>14074.280</td>\n",
       "      <td>-12.369</td>\n",
       "      <td>0.432</td>\n",
       "      <td>0.646</td>\n",
       "      <td>9089.000</td>\n",
       "      <td>7310.000</td>\n",
       "      <td>-0.196</td>\n",
       "      <td>1</td>\n",
       "      <td>1</td>\n",
       "    </tr>\n",
       "    <tr>\n",
       "      <th>디아이동일</th>\n",
       "      <td>8224.145</td>\n",
       "      <td>2.100</td>\n",
       "      <td>0.132</td>\n",
       "      <td>10.885</td>\n",
       "      <td>-0.753</td>\n",
       "      <td>0.111</td>\n",
       "      <td>0.051</td>\n",
       "      <td>-1523.407</td>\n",
       "      <td>270773.030</td>\n",
       "      <td>333554.280</td>\n",
       "      <td>-37.365</td>\n",
       "      <td>0.210</td>\n",
       "      <td>0.171</td>\n",
       "      <td>56922.000</td>\n",
       "      <td>51884.000</td>\n",
       "      <td>-0.089</td>\n",
       "      <td>1</td>\n",
       "      <td>1</td>\n",
       "    </tr>\n",
       "    <tr>\n",
       "      <th>한국수출포장공업</th>\n",
       "      <td>2282.604</td>\n",
       "      <td>1.344</td>\n",
       "      <td>-0.091</td>\n",
       "      <td>-2.075</td>\n",
       "      <td>-0.092</td>\n",
       "      <td>-0.069</td>\n",
       "      <td>0.152</td>\n",
       "      <td>-51.880</td>\n",
       "      <td>56026.280</td>\n",
       "      <td>57065.100</td>\n",
       "      <td>-345.030</td>\n",
       "      <td>0.319</td>\n",
       "      <td>0.314</td>\n",
       "      <td>17900.000</td>\n",
       "      <td>15650.000</td>\n",
       "      <td>-0.126</td>\n",
       "      <td>1</td>\n",
       "      <td>1</td>\n",
       "    </tr>\n",
       "    <tr>\n",
       "      <th>휴스틸</th>\n",
       "      <td>3640.215</td>\n",
       "      <td>0.370</td>\n",
       "      <td>-0.153</td>\n",
       "      <td>-5.562</td>\n",
       "      <td>-0.143</td>\n",
       "      <td>-0.101</td>\n",
       "      <td>0.059</td>\n",
       "      <td>-80.399</td>\n",
       "      <td>55779.490</td>\n",
       "      <td>52614.773</td>\n",
       "      <td>-191.546</td>\n",
       "      <td>0.276</td>\n",
       "      <td>0.293</td>\n",
       "      <td>15400.000</td>\n",
       "      <td>15450.000</td>\n",
       "      <td>0.003</td>\n",
       "      <td>1</td>\n",
       "      <td>1</td>\n",
       "    </tr>\n",
       "  </tbody>\n",
       "</table>\n",
       "</div>"
      ]
     },
     "metadata": {},
     "execution_count": 63
    }
   ],
   "metadata": {}
  },
  {
   "cell_type": "markdown",
   "source": [
    "- For loop을 이용해서 grouping된 object 확인해보기 (많이는 안쓰임)"
   ],
   "metadata": {}
  },
  {
   "cell_type": "code",
   "execution_count": 64,
   "source": [
    "for name, group in g_df_obj:\n",
    "    print(name)\n",
    "    group.head(2)\n",
    "    break"
   ],
   "outputs": [
    {
     "output_type": "stream",
     "name": "stdout",
     "text": [
      "(1, 1)\n"
     ]
    },
    {
     "output_type": "execute_result",
     "data": {
      "text/plain": [
       "         매출액(억원)  영업이익률(%)  순이익률(%)  당기순이익(억원)  ROE(%)  ROA(%)  ROIC(%)  \\\n",
       "ticker                                                                    \n",
       "E1     39959.008     0.277   -0.949   -379.397  -2.350  -1.076   -1.633   \n",
       "S&T중공업  4680.078    -0.309   -5.221   -244.358  -3.671  -2.697   -0.791   \n",
       "\n",
       "          EPS(원)     BPS(원)     SPS(원)  PER(배)  PBR(배)  PSR(배)     price  \\\n",
       "ticker                                                                     \n",
       "E1     -3869.011 191789.690 582492.800 -16.206   0.327   0.108 62700.000   \n",
       "S&T중공업  -734.851  21043.785  14074.280 -12.369   0.432   0.646  9089.000   \n",
       "\n",
       "          price2    rtn PER_score PBR_score  \n",
       "ticker                                       \n",
       "E1     56900.000 -0.093         1         1  \n",
       "S&T중공업  7310.000 -0.196         1         1  "
      ],
      "text/html": [
       "<div>\n",
       "<style scoped>\n",
       "    .dataframe tbody tr th:only-of-type {\n",
       "        vertical-align: middle;\n",
       "    }\n",
       "\n",
       "    .dataframe tbody tr th {\n",
       "        vertical-align: top;\n",
       "    }\n",
       "\n",
       "    .dataframe thead th {\n",
       "        text-align: right;\n",
       "    }\n",
       "</style>\n",
       "<table border=\"1\" class=\"dataframe\">\n",
       "  <thead>\n",
       "    <tr style=\"text-align: right;\">\n",
       "      <th></th>\n",
       "      <th>매출액(억원)</th>\n",
       "      <th>영업이익률(%)</th>\n",
       "      <th>순이익률(%)</th>\n",
       "      <th>당기순이익(억원)</th>\n",
       "      <th>ROE(%)</th>\n",
       "      <th>ROA(%)</th>\n",
       "      <th>ROIC(%)</th>\n",
       "      <th>EPS(원)</th>\n",
       "      <th>BPS(원)</th>\n",
       "      <th>SPS(원)</th>\n",
       "      <th>PER(배)</th>\n",
       "      <th>PBR(배)</th>\n",
       "      <th>PSR(배)</th>\n",
       "      <th>price</th>\n",
       "      <th>price2</th>\n",
       "      <th>rtn</th>\n",
       "      <th>PER_score</th>\n",
       "      <th>PBR_score</th>\n",
       "    </tr>\n",
       "    <tr>\n",
       "      <th>ticker</th>\n",
       "      <th></th>\n",
       "      <th></th>\n",
       "      <th></th>\n",
       "      <th></th>\n",
       "      <th></th>\n",
       "      <th></th>\n",
       "      <th></th>\n",
       "      <th></th>\n",
       "      <th></th>\n",
       "      <th></th>\n",
       "      <th></th>\n",
       "      <th></th>\n",
       "      <th></th>\n",
       "      <th></th>\n",
       "      <th></th>\n",
       "      <th></th>\n",
       "      <th></th>\n",
       "      <th></th>\n",
       "    </tr>\n",
       "  </thead>\n",
       "  <tbody>\n",
       "    <tr>\n",
       "      <th>E1</th>\n",
       "      <td>39959.008</td>\n",
       "      <td>0.277</td>\n",
       "      <td>-0.949</td>\n",
       "      <td>-379.397</td>\n",
       "      <td>-2.350</td>\n",
       "      <td>-1.076</td>\n",
       "      <td>-1.633</td>\n",
       "      <td>-3869.011</td>\n",
       "      <td>191789.690</td>\n",
       "      <td>582492.800</td>\n",
       "      <td>-16.206</td>\n",
       "      <td>0.327</td>\n",
       "      <td>0.108</td>\n",
       "      <td>62700.000</td>\n",
       "      <td>56900.000</td>\n",
       "      <td>-0.093</td>\n",
       "      <td>1</td>\n",
       "      <td>1</td>\n",
       "    </tr>\n",
       "    <tr>\n",
       "      <th>S&amp;T중공업</th>\n",
       "      <td>4680.078</td>\n",
       "      <td>-0.309</td>\n",
       "      <td>-5.221</td>\n",
       "      <td>-244.358</td>\n",
       "      <td>-3.671</td>\n",
       "      <td>-2.697</td>\n",
       "      <td>-0.791</td>\n",
       "      <td>-734.851</td>\n",
       "      <td>21043.785</td>\n",
       "      <td>14074.280</td>\n",
       "      <td>-12.369</td>\n",
       "      <td>0.432</td>\n",
       "      <td>0.646</td>\n",
       "      <td>9089.000</td>\n",
       "      <td>7310.000</td>\n",
       "      <td>-0.196</td>\n",
       "      <td>1</td>\n",
       "      <td>1</td>\n",
       "    </tr>\n",
       "  </tbody>\n",
       "</table>\n",
       "</div>"
      ]
     },
     "metadata": {},
     "execution_count": 64
    }
   ],
   "metadata": {}
  },
  {
   "cell_type": "code",
   "execution_count": 65,
   "source": [
    "# 참고 :groupby()에 대해 head()를 적용하면, 기존이 head()가 작동하는 방식, 즉, 최상위 2개를 가지고 오는게 아니라\n",
    "# 각 그룹별 최상위 2개를 무작위로 섞어서 하나로 합친 DataFrame을 리턴함\n",
    "g_df.groupby('PER_score').head(2)"
   ],
   "outputs": [
    {
     "output_type": "execute_result",
     "data": {
      "text/plain": [
       "           매출액(억원)  영업이익률(%)  순이익률(%)  당기순이익(억원)  ROE(%)  ROA(%)  ROIC(%)  \\\n",
       "ticker                                                                      \n",
       "AK홀딩스    29218.310     7.313    4.563   1333.223  12.193   5.091   15.515   \n",
       "BGF        860.773     9.315  214.481   1846.192  21.624  10.433    8.015   \n",
       "BYC       2118.576     7.625    8.281    175.433   4.543   2.463   10.748   \n",
       "CJ      239541.970     5.230    2.379   5698.234   6.080   2.253    5.158   \n",
       "CJ CGV   14322.454     4.911    0.393     56.217   3.105   0.284    2.919   \n",
       "CJ대한통운   60819.457     3.756    1.122    682.101   2.390   1.361    4.947   \n",
       "CS홀딩스     1231.450    16.105   13.918    171.388   4.409   5.921   12.719   \n",
       "DB        2048.100     5.324  -10.113   -207.128 -13.052  -8.434   66.574   \n",
       "DB하이텍     7731.402    22.302   11.427    883.440  29.647   8.962   24.540   \n",
       "DRB동일     5512.525    12.239    8.873    489.136  12.550   7.299   10.930   \n",
       "DSR       2010.601     6.643    5.343    107.433   8.503   5.760    8.083   \n",
       "DSR제강     1725.359     4.442    5.036     86.884   7.107   4.640    5.689   \n",
       "E1       39959.008     0.277   -0.949   -379.397  -2.350  -1.076   -1.633   \n",
       "F&F       4389.796    10.393    6.886    302.279  14.180   9.461   18.376   \n",
       "GS      134624.270    13.031    6.858   9233.110  12.129   4.691    9.875   \n",
       "GS건설    110355.960     1.296   -0.185   -204.315  -0.786  -0.155   -5.159   \n",
       "KC그린홀딩스   3913.715     6.611    1.722     67.377   2.994   1.476    6.935   \n",
       "KR모터스      847.754    -9.604  -11.771    -99.786 -15.817  -6.513   -6.457   \n",
       "LG화학    206592.950     9.642    6.201  12809.940   9.515   6.558   10.113   \n",
       "강원랜드     16965.324    36.464   26.792   4545.336  14.547  11.853   57.869   \n",
       "\n",
       "           EPS(원)     BPS(원)     SPS(원)  PER(배)  PBR(배)  PSR(배)      price  \\\n",
       "ticker                                                                       \n",
       "AK홀딩스    5436.413  48112.402 220556.160  10.301   1.164   0.254  56000.000   \n",
       "BGF      3703.577  18648.623   1737.263  22.757   4.519  48.514  42140.000   \n",
       "BYC     20872.312 471887.000 252211.450  19.020   0.841   1.574 397000.000   \n",
       "CJ       6257.152 114276.080 672045.900  28.181   1.543   0.262 176334.000   \n",
       "CJ CGV    583.051  17654.154  67682.260 120.744   3.988   1.040  70400.000   \n",
       "CJ대한통운   2445.658 133105.080 266607.660  73.191   1.345   0.671 179000.000   \n",
       "CS홀딩스    7994.886 186451.840 106666.850  10.094   0.433   0.757  80700.000   \n",
       "DB       -113.728    881.178   1124.549  -6.454   0.833   0.653    734.000   \n",
       "DB하이텍    1984.761   7900.009  17369.578   8.011   2.013   0.915  15900.000   \n",
       "DRB동일    1975.509  17210.008  27659.432   5.959   0.684   0.426  11772.000   \n",
       "DSR       671.637   8252.385  12566.254  13.847   1.127   0.740   9300.000   \n",
       "DSR제강     603.364   8780.054  11981.659  14.618   1.005   0.736   8820.000   \n",
       "E1      -3869.011 191789.690 582492.800 -16.206   0.327   0.108  62700.000   \n",
       "F&F      1962.851  14721.138  28505.172   8.890   1.185   0.612  17450.000   \n",
       "GS       8507.933  73559.050 142158.360   6.359   0.735   0.381  54100.000   \n",
       "GS건설     -363.118  47135.676 155430.940 -72.979   0.562   0.170  26500.000   \n",
       "KC그린홀딩스   208.142   7143.173  17444.697  36.225   1.056   0.432   7540.000   \n",
       "KR모터스    -356.975   2085.488   3033.090 -11.752   2.012   1.383   1298.000   \n",
       "LG화학    17335.908 192954.620 279557.380  15.055   1.353   0.934 261000.000   \n",
       "강원랜드     2124.841  16042.903   7929.927  16.825   2.228   4.508  35750.000   \n",
       "\n",
       "            price2    rtn PER_score PBR_score  \n",
       "ticker                                         \n",
       "AK홀딩스    68500.000  0.223         5         7  \n",
       "BGF      15250.000 -0.638         8        10  \n",
       "BYC     306000.000 -0.229         8         5  \n",
       "CJ      171148.000 -0.029         9         8  \n",
       "CJ CGV   74200.000  0.054        10        10  \n",
       "CJ대한통운  140000.000 -0.218        10         8  \n",
       "CS홀딩스    80200.000 -0.006         5         1  \n",
       "DB         658.000 -0.104         2         5  \n",
       "DB하이텍    12000.000 -0.245         4         9  \n",
       "DRB동일     7682.000 -0.347         3         3  \n",
       "DSR       5170.000 -0.444         6         7  \n",
       "DSR제강     5240.000 -0.406         6         6  \n",
       "E1       56900.000 -0.093         1         1  \n",
       "F&F      41950.000  1.404         4         7  \n",
       "GS       62200.000  0.150         3         4  \n",
       "GS건설     28300.000  0.068         1         2  \n",
       "KC그린홀딩스   5200.000 -0.310         9         6  \n",
       "KR모터스      489.000 -0.623         2         9  \n",
       "LG화학    405000.000  0.552         7         8  \n",
       "강원랜드     34800.000 -0.027         7         9  "
      ],
      "text/html": [
       "<div>\n",
       "<style scoped>\n",
       "    .dataframe tbody tr th:only-of-type {\n",
       "        vertical-align: middle;\n",
       "    }\n",
       "\n",
       "    .dataframe tbody tr th {\n",
       "        vertical-align: top;\n",
       "    }\n",
       "\n",
       "    .dataframe thead th {\n",
       "        text-align: right;\n",
       "    }\n",
       "</style>\n",
       "<table border=\"1\" class=\"dataframe\">\n",
       "  <thead>\n",
       "    <tr style=\"text-align: right;\">\n",
       "      <th></th>\n",
       "      <th>매출액(억원)</th>\n",
       "      <th>영업이익률(%)</th>\n",
       "      <th>순이익률(%)</th>\n",
       "      <th>당기순이익(억원)</th>\n",
       "      <th>ROE(%)</th>\n",
       "      <th>ROA(%)</th>\n",
       "      <th>ROIC(%)</th>\n",
       "      <th>EPS(원)</th>\n",
       "      <th>BPS(원)</th>\n",
       "      <th>SPS(원)</th>\n",
       "      <th>PER(배)</th>\n",
       "      <th>PBR(배)</th>\n",
       "      <th>PSR(배)</th>\n",
       "      <th>price</th>\n",
       "      <th>price2</th>\n",
       "      <th>rtn</th>\n",
       "      <th>PER_score</th>\n",
       "      <th>PBR_score</th>\n",
       "    </tr>\n",
       "    <tr>\n",
       "      <th>ticker</th>\n",
       "      <th></th>\n",
       "      <th></th>\n",
       "      <th></th>\n",
       "      <th></th>\n",
       "      <th></th>\n",
       "      <th></th>\n",
       "      <th></th>\n",
       "      <th></th>\n",
       "      <th></th>\n",
       "      <th></th>\n",
       "      <th></th>\n",
       "      <th></th>\n",
       "      <th></th>\n",
       "      <th></th>\n",
       "      <th></th>\n",
       "      <th></th>\n",
       "      <th></th>\n",
       "      <th></th>\n",
       "    </tr>\n",
       "  </thead>\n",
       "  <tbody>\n",
       "    <tr>\n",
       "      <th>AK홀딩스</th>\n",
       "      <td>29218.310</td>\n",
       "      <td>7.313</td>\n",
       "      <td>4.563</td>\n",
       "      <td>1333.223</td>\n",
       "      <td>12.193</td>\n",
       "      <td>5.091</td>\n",
       "      <td>15.515</td>\n",
       "      <td>5436.413</td>\n",
       "      <td>48112.402</td>\n",
       "      <td>220556.160</td>\n",
       "      <td>10.301</td>\n",
       "      <td>1.164</td>\n",
       "      <td>0.254</td>\n",
       "      <td>56000.000</td>\n",
       "      <td>68500.000</td>\n",
       "      <td>0.223</td>\n",
       "      <td>5</td>\n",
       "      <td>7</td>\n",
       "    </tr>\n",
       "    <tr>\n",
       "      <th>BGF</th>\n",
       "      <td>860.773</td>\n",
       "      <td>9.315</td>\n",
       "      <td>214.481</td>\n",
       "      <td>1846.192</td>\n",
       "      <td>21.624</td>\n",
       "      <td>10.433</td>\n",
       "      <td>8.015</td>\n",
       "      <td>3703.577</td>\n",
       "      <td>18648.623</td>\n",
       "      <td>1737.263</td>\n",
       "      <td>22.757</td>\n",
       "      <td>4.519</td>\n",
       "      <td>48.514</td>\n",
       "      <td>42140.000</td>\n",
       "      <td>15250.000</td>\n",
       "      <td>-0.638</td>\n",
       "      <td>8</td>\n",
       "      <td>10</td>\n",
       "    </tr>\n",
       "    <tr>\n",
       "      <th>BYC</th>\n",
       "      <td>2118.576</td>\n",
       "      <td>7.625</td>\n",
       "      <td>8.281</td>\n",
       "      <td>175.433</td>\n",
       "      <td>4.543</td>\n",
       "      <td>2.463</td>\n",
       "      <td>10.748</td>\n",
       "      <td>20872.312</td>\n",
       "      <td>471887.000</td>\n",
       "      <td>252211.450</td>\n",
       "      <td>19.020</td>\n",
       "      <td>0.841</td>\n",
       "      <td>1.574</td>\n",
       "      <td>397000.000</td>\n",
       "      <td>306000.000</td>\n",
       "      <td>-0.229</td>\n",
       "      <td>8</td>\n",
       "      <td>5</td>\n",
       "    </tr>\n",
       "    <tr>\n",
       "      <th>CJ</th>\n",
       "      <td>239541.970</td>\n",
       "      <td>5.230</td>\n",
       "      <td>2.379</td>\n",
       "      <td>5698.234</td>\n",
       "      <td>6.080</td>\n",
       "      <td>2.253</td>\n",
       "      <td>5.158</td>\n",
       "      <td>6257.152</td>\n",
       "      <td>114276.080</td>\n",
       "      <td>672045.900</td>\n",
       "      <td>28.181</td>\n",
       "      <td>1.543</td>\n",
       "      <td>0.262</td>\n",
       "      <td>176334.000</td>\n",
       "      <td>171148.000</td>\n",
       "      <td>-0.029</td>\n",
       "      <td>9</td>\n",
       "      <td>8</td>\n",
       "    </tr>\n",
       "    <tr>\n",
       "      <th>CJ CGV</th>\n",
       "      <td>14322.454</td>\n",
       "      <td>4.911</td>\n",
       "      <td>0.393</td>\n",
       "      <td>56.217</td>\n",
       "      <td>3.105</td>\n",
       "      <td>0.284</td>\n",
       "      <td>2.919</td>\n",
       "      <td>583.051</td>\n",
       "      <td>17654.154</td>\n",
       "      <td>67682.260</td>\n",
       "      <td>120.744</td>\n",
       "      <td>3.988</td>\n",
       "      <td>1.040</td>\n",
       "      <td>70400.000</td>\n",
       "      <td>74200.000</td>\n",
       "      <td>0.054</td>\n",
       "      <td>10</td>\n",
       "      <td>10</td>\n",
       "    </tr>\n",
       "    <tr>\n",
       "      <th>CJ대한통운</th>\n",
       "      <td>60819.457</td>\n",
       "      <td>3.756</td>\n",
       "      <td>1.122</td>\n",
       "      <td>682.101</td>\n",
       "      <td>2.390</td>\n",
       "      <td>1.361</td>\n",
       "      <td>4.947</td>\n",
       "      <td>2445.658</td>\n",
       "      <td>133105.080</td>\n",
       "      <td>266607.660</td>\n",
       "      <td>73.191</td>\n",
       "      <td>1.345</td>\n",
       "      <td>0.671</td>\n",
       "      <td>179000.000</td>\n",
       "      <td>140000.000</td>\n",
       "      <td>-0.218</td>\n",
       "      <td>10</td>\n",
       "      <td>8</td>\n",
       "    </tr>\n",
       "    <tr>\n",
       "      <th>CS홀딩스</th>\n",
       "      <td>1231.450</td>\n",
       "      <td>16.105</td>\n",
       "      <td>13.918</td>\n",
       "      <td>171.388</td>\n",
       "      <td>4.409</td>\n",
       "      <td>5.921</td>\n",
       "      <td>12.719</td>\n",
       "      <td>7994.886</td>\n",
       "      <td>186451.840</td>\n",
       "      <td>106666.850</td>\n",
       "      <td>10.094</td>\n",
       "      <td>0.433</td>\n",
       "      <td>0.757</td>\n",
       "      <td>80700.000</td>\n",
       "      <td>80200.000</td>\n",
       "      <td>-0.006</td>\n",
       "      <td>5</td>\n",
       "      <td>1</td>\n",
       "    </tr>\n",
       "    <tr>\n",
       "      <th>DB</th>\n",
       "      <td>2048.100</td>\n",
       "      <td>5.324</td>\n",
       "      <td>-10.113</td>\n",
       "      <td>-207.128</td>\n",
       "      <td>-13.052</td>\n",
       "      <td>-8.434</td>\n",
       "      <td>66.574</td>\n",
       "      <td>-113.728</td>\n",
       "      <td>881.178</td>\n",
       "      <td>1124.549</td>\n",
       "      <td>-6.454</td>\n",
       "      <td>0.833</td>\n",
       "      <td>0.653</td>\n",
       "      <td>734.000</td>\n",
       "      <td>658.000</td>\n",
       "      <td>-0.104</td>\n",
       "      <td>2</td>\n",
       "      <td>5</td>\n",
       "    </tr>\n",
       "    <tr>\n",
       "      <th>DB하이텍</th>\n",
       "      <td>7731.402</td>\n",
       "      <td>22.302</td>\n",
       "      <td>11.427</td>\n",
       "      <td>883.440</td>\n",
       "      <td>29.647</td>\n",
       "      <td>8.962</td>\n",
       "      <td>24.540</td>\n",
       "      <td>1984.761</td>\n",
       "      <td>7900.009</td>\n",
       "      <td>17369.578</td>\n",
       "      <td>8.011</td>\n",
       "      <td>2.013</td>\n",
       "      <td>0.915</td>\n",
       "      <td>15900.000</td>\n",
       "      <td>12000.000</td>\n",
       "      <td>-0.245</td>\n",
       "      <td>4</td>\n",
       "      <td>9</td>\n",
       "    </tr>\n",
       "    <tr>\n",
       "      <th>DRB동일</th>\n",
       "      <td>5512.525</td>\n",
       "      <td>12.239</td>\n",
       "      <td>8.873</td>\n",
       "      <td>489.136</td>\n",
       "      <td>12.550</td>\n",
       "      <td>7.299</td>\n",
       "      <td>10.930</td>\n",
       "      <td>1975.509</td>\n",
       "      <td>17210.008</td>\n",
       "      <td>27659.432</td>\n",
       "      <td>5.959</td>\n",
       "      <td>0.684</td>\n",
       "      <td>0.426</td>\n",
       "      <td>11772.000</td>\n",
       "      <td>7682.000</td>\n",
       "      <td>-0.347</td>\n",
       "      <td>3</td>\n",
       "      <td>3</td>\n",
       "    </tr>\n",
       "    <tr>\n",
       "      <th>DSR</th>\n",
       "      <td>2010.601</td>\n",
       "      <td>6.643</td>\n",
       "      <td>5.343</td>\n",
       "      <td>107.433</td>\n",
       "      <td>8.503</td>\n",
       "      <td>5.760</td>\n",
       "      <td>8.083</td>\n",
       "      <td>671.637</td>\n",
       "      <td>8252.385</td>\n",
       "      <td>12566.254</td>\n",
       "      <td>13.847</td>\n",
       "      <td>1.127</td>\n",
       "      <td>0.740</td>\n",
       "      <td>9300.000</td>\n",
       "      <td>5170.000</td>\n",
       "      <td>-0.444</td>\n",
       "      <td>6</td>\n",
       "      <td>7</td>\n",
       "    </tr>\n",
       "    <tr>\n",
       "      <th>DSR제강</th>\n",
       "      <td>1725.359</td>\n",
       "      <td>4.442</td>\n",
       "      <td>5.036</td>\n",
       "      <td>86.884</td>\n",
       "      <td>7.107</td>\n",
       "      <td>4.640</td>\n",
       "      <td>5.689</td>\n",
       "      <td>603.364</td>\n",
       "      <td>8780.054</td>\n",
       "      <td>11981.659</td>\n",
       "      <td>14.618</td>\n",
       "      <td>1.005</td>\n",
       "      <td>0.736</td>\n",
       "      <td>8820.000</td>\n",
       "      <td>5240.000</td>\n",
       "      <td>-0.406</td>\n",
       "      <td>6</td>\n",
       "      <td>6</td>\n",
       "    </tr>\n",
       "    <tr>\n",
       "      <th>E1</th>\n",
       "      <td>39959.008</td>\n",
       "      <td>0.277</td>\n",
       "      <td>-0.949</td>\n",
       "      <td>-379.397</td>\n",
       "      <td>-2.350</td>\n",
       "      <td>-1.076</td>\n",
       "      <td>-1.633</td>\n",
       "      <td>-3869.011</td>\n",
       "      <td>191789.690</td>\n",
       "      <td>582492.800</td>\n",
       "      <td>-16.206</td>\n",
       "      <td>0.327</td>\n",
       "      <td>0.108</td>\n",
       "      <td>62700.000</td>\n",
       "      <td>56900.000</td>\n",
       "      <td>-0.093</td>\n",
       "      <td>1</td>\n",
       "      <td>1</td>\n",
       "    </tr>\n",
       "    <tr>\n",
       "      <th>F&amp;F</th>\n",
       "      <td>4389.796</td>\n",
       "      <td>10.393</td>\n",
       "      <td>6.886</td>\n",
       "      <td>302.279</td>\n",
       "      <td>14.180</td>\n",
       "      <td>9.461</td>\n",
       "      <td>18.376</td>\n",
       "      <td>1962.851</td>\n",
       "      <td>14721.138</td>\n",
       "      <td>28505.172</td>\n",
       "      <td>8.890</td>\n",
       "      <td>1.185</td>\n",
       "      <td>0.612</td>\n",
       "      <td>17450.000</td>\n",
       "      <td>41950.000</td>\n",
       "      <td>1.404</td>\n",
       "      <td>4</td>\n",
       "      <td>7</td>\n",
       "    </tr>\n",
       "    <tr>\n",
       "      <th>GS</th>\n",
       "      <td>134624.270</td>\n",
       "      <td>13.031</td>\n",
       "      <td>6.858</td>\n",
       "      <td>9233.110</td>\n",
       "      <td>12.129</td>\n",
       "      <td>4.691</td>\n",
       "      <td>9.875</td>\n",
       "      <td>8507.933</td>\n",
       "      <td>73559.050</td>\n",
       "      <td>142158.360</td>\n",
       "      <td>6.359</td>\n",
       "      <td>0.735</td>\n",
       "      <td>0.381</td>\n",
       "      <td>54100.000</td>\n",
       "      <td>62200.000</td>\n",
       "      <td>0.150</td>\n",
       "      <td>3</td>\n",
       "      <td>4</td>\n",
       "    </tr>\n",
       "    <tr>\n",
       "      <th>GS건설</th>\n",
       "      <td>110355.960</td>\n",
       "      <td>1.296</td>\n",
       "      <td>-0.185</td>\n",
       "      <td>-204.315</td>\n",
       "      <td>-0.786</td>\n",
       "      <td>-0.155</td>\n",
       "      <td>-5.159</td>\n",
       "      <td>-363.118</td>\n",
       "      <td>47135.676</td>\n",
       "      <td>155430.940</td>\n",
       "      <td>-72.979</td>\n",
       "      <td>0.562</td>\n",
       "      <td>0.170</td>\n",
       "      <td>26500.000</td>\n",
       "      <td>28300.000</td>\n",
       "      <td>0.068</td>\n",
       "      <td>1</td>\n",
       "      <td>2</td>\n",
       "    </tr>\n",
       "    <tr>\n",
       "      <th>KC그린홀딩스</th>\n",
       "      <td>3913.715</td>\n",
       "      <td>6.611</td>\n",
       "      <td>1.722</td>\n",
       "      <td>67.377</td>\n",
       "      <td>2.994</td>\n",
       "      <td>1.476</td>\n",
       "      <td>6.935</td>\n",
       "      <td>208.142</td>\n",
       "      <td>7143.173</td>\n",
       "      <td>17444.697</td>\n",
       "      <td>36.225</td>\n",
       "      <td>1.056</td>\n",
       "      <td>0.432</td>\n",
       "      <td>7540.000</td>\n",
       "      <td>5200.000</td>\n",
       "      <td>-0.310</td>\n",
       "      <td>9</td>\n",
       "      <td>6</td>\n",
       "    </tr>\n",
       "    <tr>\n",
       "      <th>KR모터스</th>\n",
       "      <td>847.754</td>\n",
       "      <td>-9.604</td>\n",
       "      <td>-11.771</td>\n",
       "      <td>-99.786</td>\n",
       "      <td>-15.817</td>\n",
       "      <td>-6.513</td>\n",
       "      <td>-6.457</td>\n",
       "      <td>-356.975</td>\n",
       "      <td>2085.488</td>\n",
       "      <td>3033.090</td>\n",
       "      <td>-11.752</td>\n",
       "      <td>2.012</td>\n",
       "      <td>1.383</td>\n",
       "      <td>1298.000</td>\n",
       "      <td>489.000</td>\n",
       "      <td>-0.623</td>\n",
       "      <td>2</td>\n",
       "      <td>9</td>\n",
       "    </tr>\n",
       "    <tr>\n",
       "      <th>LG화학</th>\n",
       "      <td>206592.950</td>\n",
       "      <td>9.642</td>\n",
       "      <td>6.201</td>\n",
       "      <td>12809.940</td>\n",
       "      <td>9.515</td>\n",
       "      <td>6.558</td>\n",
       "      <td>10.113</td>\n",
       "      <td>17335.908</td>\n",
       "      <td>192954.620</td>\n",
       "      <td>279557.380</td>\n",
       "      <td>15.055</td>\n",
       "      <td>1.353</td>\n",
       "      <td>0.934</td>\n",
       "      <td>261000.000</td>\n",
       "      <td>405000.000</td>\n",
       "      <td>0.552</td>\n",
       "      <td>7</td>\n",
       "      <td>8</td>\n",
       "    </tr>\n",
       "    <tr>\n",
       "      <th>강원랜드</th>\n",
       "      <td>16965.324</td>\n",
       "      <td>36.464</td>\n",
       "      <td>26.792</td>\n",
       "      <td>4545.336</td>\n",
       "      <td>14.547</td>\n",
       "      <td>11.853</td>\n",
       "      <td>57.869</td>\n",
       "      <td>2124.841</td>\n",
       "      <td>16042.903</td>\n",
       "      <td>7929.927</td>\n",
       "      <td>16.825</td>\n",
       "      <td>2.228</td>\n",
       "      <td>4.508</td>\n",
       "      <td>35750.000</td>\n",
       "      <td>34800.000</td>\n",
       "      <td>-0.027</td>\n",
       "      <td>7</td>\n",
       "      <td>9</td>\n",
       "    </tr>\n",
       "  </tbody>\n",
       "</table>\n",
       "</div>"
      ]
     },
     "metadata": {},
     "execution_count": 65
    }
   ],
   "metadata": {}
  },
  {
   "cell_type": "markdown",
   "source": [
    "### aggreggation"
   ],
   "metadata": {}
  },
  {
   "cell_type": "markdown",
   "source": [
    "- 반드시 \"aggregating\" 기능이 있는 function 을 써야함\n",
    "    - min, max, mean, median, sum, var, size, nunique, idxmax"
   ],
   "metadata": {}
  },
  {
   "cell_type": "code",
   "execution_count": 66,
   "source": [
    "g_df.groupby(\"PBR_score\").agg(\n",
    "    {\n",
    "        \"rtn\": \"mean\", # =  np.mean\n",
    "    }\n",
    ")"
   ],
   "outputs": [
    {
     "output_type": "execute_result",
     "data": {
      "text/plain": [
       "             rtn\n",
       "PBR_score       \n",
       "1         -0.001\n",
       "2          0.020\n",
       "3         -0.021\n",
       "4          0.161\n",
       "5         -0.012\n",
       "6         -0.043\n",
       "7          0.150\n",
       "8          0.058\n",
       "9          0.139\n",
       "10         0.054"
      ],
      "text/html": [
       "<div>\n",
       "<style scoped>\n",
       "    .dataframe tbody tr th:only-of-type {\n",
       "        vertical-align: middle;\n",
       "    }\n",
       "\n",
       "    .dataframe tbody tr th {\n",
       "        vertical-align: top;\n",
       "    }\n",
       "\n",
       "    .dataframe thead th {\n",
       "        text-align: right;\n",
       "    }\n",
       "</style>\n",
       "<table border=\"1\" class=\"dataframe\">\n",
       "  <thead>\n",
       "    <tr style=\"text-align: right;\">\n",
       "      <th></th>\n",
       "      <th>rtn</th>\n",
       "    </tr>\n",
       "    <tr>\n",
       "      <th>PBR_score</th>\n",
       "      <th></th>\n",
       "    </tr>\n",
       "  </thead>\n",
       "  <tbody>\n",
       "    <tr>\n",
       "      <th>1</th>\n",
       "      <td>-0.001</td>\n",
       "    </tr>\n",
       "    <tr>\n",
       "      <th>2</th>\n",
       "      <td>0.020</td>\n",
       "    </tr>\n",
       "    <tr>\n",
       "      <th>3</th>\n",
       "      <td>-0.021</td>\n",
       "    </tr>\n",
       "    <tr>\n",
       "      <th>4</th>\n",
       "      <td>0.161</td>\n",
       "    </tr>\n",
       "    <tr>\n",
       "      <th>5</th>\n",
       "      <td>-0.012</td>\n",
       "    </tr>\n",
       "    <tr>\n",
       "      <th>6</th>\n",
       "      <td>-0.043</td>\n",
       "    </tr>\n",
       "    <tr>\n",
       "      <th>7</th>\n",
       "      <td>0.150</td>\n",
       "    </tr>\n",
       "    <tr>\n",
       "      <th>8</th>\n",
       "      <td>0.058</td>\n",
       "    </tr>\n",
       "    <tr>\n",
       "      <th>9</th>\n",
       "      <td>0.139</td>\n",
       "    </tr>\n",
       "    <tr>\n",
       "      <th>10</th>\n",
       "      <td>0.054</td>\n",
       "    </tr>\n",
       "  </tbody>\n",
       "</table>\n",
       "</div>"
      ]
     },
     "metadata": {},
     "execution_count": 66
    }
   ],
   "metadata": {}
  },
  {
   "cell_type": "code",
   "execution_count": 67,
   "source": [
    "pbr_rtn_df = g_df.groupby(\"PBR_score\").agg({'rtn': 'mean'})\n",
    "per_rtn_df = g_df.groupby(\"PER_score\").agg({'rtn': 'mean'})"
   ],
   "outputs": [],
   "metadata": {}
  },
  {
   "cell_type": "code",
   "execution_count": 68,
   "source": [
    "pbr_rtn_df.head()"
   ],
   "outputs": [
    {
     "output_type": "execute_result",
     "data": {
      "text/plain": [
       "             rtn\n",
       "PBR_score       \n",
       "1         -0.001\n",
       "2          0.020\n",
       "3         -0.021\n",
       "4          0.161\n",
       "5         -0.012"
      ],
      "text/html": [
       "<div>\n",
       "<style scoped>\n",
       "    .dataframe tbody tr th:only-of-type {\n",
       "        vertical-align: middle;\n",
       "    }\n",
       "\n",
       "    .dataframe tbody tr th {\n",
       "        vertical-align: top;\n",
       "    }\n",
       "\n",
       "    .dataframe thead th {\n",
       "        text-align: right;\n",
       "    }\n",
       "</style>\n",
       "<table border=\"1\" class=\"dataframe\">\n",
       "  <thead>\n",
       "    <tr style=\"text-align: right;\">\n",
       "      <th></th>\n",
       "      <th>rtn</th>\n",
       "    </tr>\n",
       "    <tr>\n",
       "      <th>PBR_score</th>\n",
       "      <th></th>\n",
       "    </tr>\n",
       "  </thead>\n",
       "  <tbody>\n",
       "    <tr>\n",
       "      <th>1</th>\n",
       "      <td>-0.001</td>\n",
       "    </tr>\n",
       "    <tr>\n",
       "      <th>2</th>\n",
       "      <td>0.020</td>\n",
       "    </tr>\n",
       "    <tr>\n",
       "      <th>3</th>\n",
       "      <td>-0.021</td>\n",
       "    </tr>\n",
       "    <tr>\n",
       "      <th>4</th>\n",
       "      <td>0.161</td>\n",
       "    </tr>\n",
       "    <tr>\n",
       "      <th>5</th>\n",
       "      <td>-0.012</td>\n",
       "    </tr>\n",
       "  </tbody>\n",
       "</table>\n",
       "</div>"
      ]
     },
     "metadata": {},
     "execution_count": 68
    }
   ],
   "metadata": {}
  },
  {
   "cell_type": "code",
   "execution_count": 69,
   "source": [
    "# 다양한 방법으로 진행하기 (같은 결과)\n",
    "g_df.groupby(\"PER_score\")['rtn'].agg('mean').head()\n",
    "g_df.groupby(\"PER_score\")['rtn'].agg(np.mean).head()\n",
    "g_df.groupby(\"PER_score\")['rtn'].mean().head()"
   ],
   "outputs": [
    {
     "output_type": "execute_result",
     "data": {
      "text/plain": [
       "PER_score\n",
       "1   -0.062\n",
       "2   -0.083\n",
       "3   -0.038\n",
       "4    0.056\n",
       "5    0.000\n",
       "Name: rtn, dtype: float64"
      ]
     },
     "metadata": {},
     "execution_count": 69
    },
    {
     "output_type": "execute_result",
     "data": {
      "text/plain": [
       "PER_score\n",
       "1   -0.062\n",
       "2   -0.083\n",
       "3   -0.038\n",
       "4    0.056\n",
       "5    0.000\n",
       "Name: rtn, dtype: float64"
      ]
     },
     "metadata": {},
     "execution_count": 69
    },
    {
     "output_type": "execute_result",
     "data": {
      "text/plain": [
       "PER_score\n",
       "1   -0.062\n",
       "2   -0.083\n",
       "3   -0.038\n",
       "4    0.056\n",
       "5    0.000\n",
       "Name: rtn, dtype: float64"
      ]
     },
     "metadata": {},
     "execution_count": 69
    }
   ],
   "metadata": {}
  },
  {
   "cell_type": "code",
   "execution_count": 70,
   "source": [
    "# return type이 다를 수 있음에 주의\n",
    "g_df.groupby(\"PER_score\")['rtn'].agg(\"mean\").head(2)   # Series로 return\n",
    "g_df.groupby(\"PER_score\")[['rtn']].agg(\"mean\").head(2)  # DataFrame으로 return"
   ],
   "outputs": [
    {
     "output_type": "execute_result",
     "data": {
      "text/plain": [
       "PER_score\n",
       "1   -0.062\n",
       "2   -0.083\n",
       "Name: rtn, dtype: float64"
      ]
     },
     "metadata": {},
     "execution_count": 70
    },
    {
     "output_type": "execute_result",
     "data": {
      "text/plain": [
       "             rtn\n",
       "PER_score       \n",
       "1         -0.062\n",
       "2         -0.083"
      ],
      "text/html": [
       "<div>\n",
       "<style scoped>\n",
       "    .dataframe tbody tr th:only-of-type {\n",
       "        vertical-align: middle;\n",
       "    }\n",
       "\n",
       "    .dataframe tbody tr th {\n",
       "        vertical-align: top;\n",
       "    }\n",
       "\n",
       "    .dataframe thead th {\n",
       "        text-align: right;\n",
       "    }\n",
       "</style>\n",
       "<table border=\"1\" class=\"dataframe\">\n",
       "  <thead>\n",
       "    <tr style=\"text-align: right;\">\n",
       "      <th></th>\n",
       "      <th>rtn</th>\n",
       "    </tr>\n",
       "    <tr>\n",
       "      <th>PER_score</th>\n",
       "      <th></th>\n",
       "    </tr>\n",
       "  </thead>\n",
       "  <tbody>\n",
       "    <tr>\n",
       "      <th>1</th>\n",
       "      <td>-0.062</td>\n",
       "    </tr>\n",
       "    <tr>\n",
       "      <th>2</th>\n",
       "      <td>-0.083</td>\n",
       "    </tr>\n",
       "  </tbody>\n",
       "</table>\n",
       "</div>"
      ]
     },
     "metadata": {},
     "execution_count": 70
    }
   ],
   "metadata": {}
  },
  {
   "cell_type": "code",
   "execution_count": 71,
   "source": [
    "# 2개 이상의 컬럼에 대해 aggregation\n",
    "g_df.groupby(\"PER_score\")[['rtn', 'PBR(배)']].agg(\"mean\").head(2)"
   ],
   "outputs": [
    {
     "output_type": "execute_result",
     "data": {
      "text/plain": [
       "             rtn  PBR(배)\n",
       "PER_score               \n",
       "1         -0.062   1.839\n",
       "2         -0.083   1.323"
      ],
      "text/html": [
       "<div>\n",
       "<style scoped>\n",
       "    .dataframe tbody tr th:only-of-type {\n",
       "        vertical-align: middle;\n",
       "    }\n",
       "\n",
       "    .dataframe tbody tr th {\n",
       "        vertical-align: top;\n",
       "    }\n",
       "\n",
       "    .dataframe thead th {\n",
       "        text-align: right;\n",
       "    }\n",
       "</style>\n",
       "<table border=\"1\" class=\"dataframe\">\n",
       "  <thead>\n",
       "    <tr style=\"text-align: right;\">\n",
       "      <th></th>\n",
       "      <th>rtn</th>\n",
       "      <th>PBR(배)</th>\n",
       "    </tr>\n",
       "    <tr>\n",
       "      <th>PER_score</th>\n",
       "      <th></th>\n",
       "      <th></th>\n",
       "    </tr>\n",
       "  </thead>\n",
       "  <tbody>\n",
       "    <tr>\n",
       "      <th>1</th>\n",
       "      <td>-0.062</td>\n",
       "      <td>1.839</td>\n",
       "    </tr>\n",
       "    <tr>\n",
       "      <th>2</th>\n",
       "      <td>-0.083</td>\n",
       "      <td>1.323</td>\n",
       "    </tr>\n",
       "  </tbody>\n",
       "</table>\n",
       "</div>"
      ]
     },
     "metadata": {},
     "execution_count": 71
    }
   ],
   "metadata": {}
  },
  {
   "cell_type": "code",
   "execution_count": 72,
   "source": [
    "# 2개 이상의 aggregation\n",
    "g_df.groupby(\"PER_score\")[['rtn', 'PBR(배)']].agg([\"mean\", \"std\"]).head(2)"
   ],
   "outputs": [
    {
     "output_type": "execute_result",
     "data": {
      "text/plain": [
       "             rtn       PBR(배)      \n",
       "            mean   std   mean   std\n",
       "PER_score                          \n",
       "1         -0.062 0.328  1.839 2.215\n",
       "2         -0.083 0.781  1.323 1.167"
      ],
      "text/html": [
       "<div>\n",
       "<style scoped>\n",
       "    .dataframe tbody tr th:only-of-type {\n",
       "        vertical-align: middle;\n",
       "    }\n",
       "\n",
       "    .dataframe tbody tr th {\n",
       "        vertical-align: top;\n",
       "    }\n",
       "\n",
       "    .dataframe thead tr th {\n",
       "        text-align: left;\n",
       "    }\n",
       "\n",
       "    .dataframe thead tr:last-of-type th {\n",
       "        text-align: right;\n",
       "    }\n",
       "</style>\n",
       "<table border=\"1\" class=\"dataframe\">\n",
       "  <thead>\n",
       "    <tr>\n",
       "      <th></th>\n",
       "      <th colspan=\"2\" halign=\"left\">rtn</th>\n",
       "      <th colspan=\"2\" halign=\"left\">PBR(배)</th>\n",
       "    </tr>\n",
       "    <tr>\n",
       "      <th></th>\n",
       "      <th>mean</th>\n",
       "      <th>std</th>\n",
       "      <th>mean</th>\n",
       "      <th>std</th>\n",
       "    </tr>\n",
       "    <tr>\n",
       "      <th>PER_score</th>\n",
       "      <th></th>\n",
       "      <th></th>\n",
       "      <th></th>\n",
       "      <th></th>\n",
       "    </tr>\n",
       "  </thead>\n",
       "  <tbody>\n",
       "    <tr>\n",
       "      <th>1</th>\n",
       "      <td>-0.062</td>\n",
       "      <td>0.328</td>\n",
       "      <td>1.839</td>\n",
       "      <td>2.215</td>\n",
       "    </tr>\n",
       "    <tr>\n",
       "      <th>2</th>\n",
       "      <td>-0.083</td>\n",
       "      <td>0.781</td>\n",
       "      <td>1.323</td>\n",
       "      <td>1.167</td>\n",
       "    </tr>\n",
       "  </tbody>\n",
       "</table>\n",
       "</div>"
      ]
     },
     "metadata": {},
     "execution_count": 72
    }
   ],
   "metadata": {}
  },
  {
   "cell_type": "code",
   "execution_count": 73,
   "source": [
    "# 2개 이상의 컬럼 & 각각에 대해 다른 aggregation\n",
    "g_df.groupby(\"PBR_score\").agg(\n",
    "    {\n",
    "        'rtn': ['mean', 'std'],\n",
    "        'PER(배)': ['min']\n",
    "        \n",
    "    }\n",
    ")"
   ],
   "outputs": [
    {
     "output_type": "execute_result",
     "data": {
      "text/plain": [
       "             rtn           PER(배)\n",
       "            mean   std        min\n",
       "PBR_score                        \n",
       "1         -0.001 0.262   -345.030\n",
       "2          0.020 0.280   -319.356\n",
       "3         -0.021 0.219    -10.614\n",
       "4          0.161 0.770   -938.983\n",
       "5         -0.012 0.265    -62.397\n",
       "6         -0.043 0.251   -310.606\n",
       "7          0.150 0.704   -107.741\n",
       "8          0.058 0.472 -27857.496\n",
       "9          0.139 0.669   -352.735\n",
       "10         0.054 0.464   -442.464"
      ],
      "text/html": [
       "<div>\n",
       "<style scoped>\n",
       "    .dataframe tbody tr th:only-of-type {\n",
       "        vertical-align: middle;\n",
       "    }\n",
       "\n",
       "    .dataframe tbody tr th {\n",
       "        vertical-align: top;\n",
       "    }\n",
       "\n",
       "    .dataframe thead tr th {\n",
       "        text-align: left;\n",
       "    }\n",
       "\n",
       "    .dataframe thead tr:last-of-type th {\n",
       "        text-align: right;\n",
       "    }\n",
       "</style>\n",
       "<table border=\"1\" class=\"dataframe\">\n",
       "  <thead>\n",
       "    <tr>\n",
       "      <th></th>\n",
       "      <th colspan=\"2\" halign=\"left\">rtn</th>\n",
       "      <th>PER(배)</th>\n",
       "    </tr>\n",
       "    <tr>\n",
       "      <th></th>\n",
       "      <th>mean</th>\n",
       "      <th>std</th>\n",
       "      <th>min</th>\n",
       "    </tr>\n",
       "    <tr>\n",
       "      <th>PBR_score</th>\n",
       "      <th></th>\n",
       "      <th></th>\n",
       "      <th></th>\n",
       "    </tr>\n",
       "  </thead>\n",
       "  <tbody>\n",
       "    <tr>\n",
       "      <th>1</th>\n",
       "      <td>-0.001</td>\n",
       "      <td>0.262</td>\n",
       "      <td>-345.030</td>\n",
       "    </tr>\n",
       "    <tr>\n",
       "      <th>2</th>\n",
       "      <td>0.020</td>\n",
       "      <td>0.280</td>\n",
       "      <td>-319.356</td>\n",
       "    </tr>\n",
       "    <tr>\n",
       "      <th>3</th>\n",
       "      <td>-0.021</td>\n",
       "      <td>0.219</td>\n",
       "      <td>-10.614</td>\n",
       "    </tr>\n",
       "    <tr>\n",
       "      <th>4</th>\n",
       "      <td>0.161</td>\n",
       "      <td>0.770</td>\n",
       "      <td>-938.983</td>\n",
       "    </tr>\n",
       "    <tr>\n",
       "      <th>5</th>\n",
       "      <td>-0.012</td>\n",
       "      <td>0.265</td>\n",
       "      <td>-62.397</td>\n",
       "    </tr>\n",
       "    <tr>\n",
       "      <th>6</th>\n",
       "      <td>-0.043</td>\n",
       "      <td>0.251</td>\n",
       "      <td>-310.606</td>\n",
       "    </tr>\n",
       "    <tr>\n",
       "      <th>7</th>\n",
       "      <td>0.150</td>\n",
       "      <td>0.704</td>\n",
       "      <td>-107.741</td>\n",
       "    </tr>\n",
       "    <tr>\n",
       "      <th>8</th>\n",
       "      <td>0.058</td>\n",
       "      <td>0.472</td>\n",
       "      <td>-27857.496</td>\n",
       "    </tr>\n",
       "    <tr>\n",
       "      <th>9</th>\n",
       "      <td>0.139</td>\n",
       "      <td>0.669</td>\n",
       "      <td>-352.735</td>\n",
       "    </tr>\n",
       "    <tr>\n",
       "      <th>10</th>\n",
       "      <td>0.054</td>\n",
       "      <td>0.464</td>\n",
       "      <td>-442.464</td>\n",
       "    </tr>\n",
       "  </tbody>\n",
       "</table>\n",
       "</div>"
      ]
     },
     "metadata": {},
     "execution_count": 73
    }
   ],
   "metadata": {}
  },
  {
   "cell_type": "markdown",
   "source": [
    "- aggregation function이 아닌경우 => `agg()`가 error를 발생시킴\n"
   ],
   "metadata": {}
  },
  {
   "cell_type": "code",
   "execution_count": 74,
   "source": [
    "# sqrt는 aggregation 방식의 연산이 아님!\n",
    "np.sqrt([1, 2, 3, 4])"
   ],
   "outputs": [
    {
     "output_type": "execute_result",
     "data": {
      "text/plain": [
       "array([1.        , 1.41421356, 1.73205081, 2.        ])"
      ]
     },
     "metadata": {},
     "execution_count": 74
    }
   ],
   "metadata": {}
  },
  {
   "cell_type": "code",
   "execution_count": 75,
   "source": [
    "g_df.groupby(\"PER_score\")['rtn'].agg(np.sqrt)"
   ],
   "outputs": [
    {
     "output_type": "stream",
     "name": "stderr",
     "text": [
      "/Users/jihyunjeong/opt/anaconda3/envs/elastic_stack-finance/lib/python3.10/site-packages/pandas/core/arraylike.py:402: RuntimeWarning: invalid value encountered in sqrt\n",
      "  result = getattr(ufunc, method)(*inputs, **kwargs)\n"
     ]
    },
    {
     "output_type": "error",
     "ename": "ValueError",
     "evalue": "Must produce aggregated value",
     "traceback": [
      "\u001b[0;31m---------------------------------------------------------------------------\u001b[0m",
      "\u001b[0;31mValueError\u001b[0m                                Traceback (most recent call last)",
      "Cell \u001b[0;32mIn[75], line 1\u001b[0m\n\u001b[0;32m----> 1\u001b[0m \u001b[43mg_df\u001b[49m\u001b[38;5;241;43m.\u001b[39;49m\u001b[43mgroupby\u001b[49m\u001b[43m(\u001b[49m\u001b[38;5;124;43m\"\u001b[39;49m\u001b[38;5;124;43mPER_score\u001b[39;49m\u001b[38;5;124;43m\"\u001b[39;49m\u001b[43m)\u001b[49m\u001b[43m[\u001b[49m\u001b[38;5;124;43m'\u001b[39;49m\u001b[38;5;124;43mrtn\u001b[39;49m\u001b[38;5;124;43m'\u001b[39;49m\u001b[43m]\u001b[49m\u001b[38;5;241;43m.\u001b[39;49m\u001b[43magg\u001b[49m\u001b[43m(\u001b[49m\u001b[43mnp\u001b[49m\u001b[38;5;241;43m.\u001b[39;49m\u001b[43msqrt\u001b[49m\u001b[43m)\u001b[49m\n",
      "File \u001b[0;32m~/opt/anaconda3/envs/elastic_stack-finance/lib/python3.10/site-packages/pandas/core/groupby/generic.py:297\u001b[0m, in \u001b[0;36mSeriesGroupBy.aggregate\u001b[0;34m(self, func, engine, engine_kwargs, *args, **kwargs)\u001b[0m\n\u001b[1;32m    294\u001b[0m     \u001b[38;5;28;01mreturn\u001b[39;00m \u001b[38;5;28mself\u001b[39m\u001b[38;5;241m.\u001b[39m_python_agg_general(func, \u001b[38;5;241m*\u001b[39margs, \u001b[38;5;241m*\u001b[39m\u001b[38;5;241m*\u001b[39mkwargs)\n\u001b[1;32m    296\u001b[0m \u001b[38;5;28;01mtry\u001b[39;00m:\n\u001b[0;32m--> 297\u001b[0m     \u001b[38;5;28;01mreturn\u001b[39;00m \u001b[38;5;28;43mself\u001b[39;49m\u001b[38;5;241;43m.\u001b[39;49m\u001b[43m_python_agg_general\u001b[49m\u001b[43m(\u001b[49m\u001b[43mfunc\u001b[49m\u001b[43m,\u001b[49m\u001b[43m \u001b[49m\u001b[38;5;241;43m*\u001b[39;49m\u001b[43margs\u001b[49m\u001b[43m,\u001b[49m\u001b[43m \u001b[49m\u001b[38;5;241;43m*\u001b[39;49m\u001b[38;5;241;43m*\u001b[39;49m\u001b[43mkwargs\u001b[49m\u001b[43m)\u001b[49m\n\u001b[1;32m    298\u001b[0m \u001b[38;5;28;01mexcept\u001b[39;00m \u001b[38;5;167;01mKeyError\u001b[39;00m:\n\u001b[1;32m    299\u001b[0m     \u001b[38;5;66;03m# TODO: KeyError is raised in _python_agg_general,\u001b[39;00m\n\u001b[1;32m    300\u001b[0m     \u001b[38;5;66;03m#  see test_groupby.test_basic\u001b[39;00m\n\u001b[1;32m    301\u001b[0m     result \u001b[38;5;241m=\u001b[39m \u001b[38;5;28mself\u001b[39m\u001b[38;5;241m.\u001b[39m_aggregate_named(func, \u001b[38;5;241m*\u001b[39margs, \u001b[38;5;241m*\u001b[39m\u001b[38;5;241m*\u001b[39mkwargs)\n",
      "File \u001b[0;32m~/opt/anaconda3/envs/elastic_stack-finance/lib/python3.10/site-packages/pandas/core/groupby/groupby.py:1654\u001b[0m, in \u001b[0;36mGroupBy._python_agg_general\u001b[0;34m(self, func, raise_on_typeerror, *args, **kwargs)\u001b[0m\n\u001b[1;32m   1650\u001b[0m name \u001b[38;5;241m=\u001b[39m obj\u001b[38;5;241m.\u001b[39mname\n\u001b[1;32m   1652\u001b[0m \u001b[38;5;28;01mtry\u001b[39;00m:\n\u001b[1;32m   1653\u001b[0m     \u001b[38;5;66;03m# if this function is invalid for this dtype, we will ignore it.\u001b[39;00m\n\u001b[0;32m-> 1654\u001b[0m     result \u001b[38;5;241m=\u001b[39m \u001b[38;5;28;43mself\u001b[39;49m\u001b[38;5;241;43m.\u001b[39;49m\u001b[43mgrouper\u001b[49m\u001b[38;5;241;43m.\u001b[39;49m\u001b[43magg_series\u001b[49m\u001b[43m(\u001b[49m\u001b[43mobj\u001b[49m\u001b[43m,\u001b[49m\u001b[43m \u001b[49m\u001b[43mf\u001b[49m\u001b[43m)\u001b[49m\n\u001b[1;32m   1655\u001b[0m \u001b[38;5;28;01mexcept\u001b[39;00m \u001b[38;5;167;01mTypeError\u001b[39;00m:\n\u001b[1;32m   1656\u001b[0m     \u001b[38;5;28;01mif\u001b[39;00m raise_on_typeerror:\n",
      "File \u001b[0;32m~/opt/anaconda3/envs/elastic_stack-finance/lib/python3.10/site-packages/pandas/core/groupby/ops.py:1081\u001b[0m, in \u001b[0;36mBaseGrouper.agg_series\u001b[0;34m(self, obj, func, preserve_dtype)\u001b[0m\n\u001b[1;32m   1078\u001b[0m     preserve_dtype \u001b[38;5;241m=\u001b[39m \u001b[38;5;28;01mTrue\u001b[39;00m\n\u001b[1;32m   1080\u001b[0m \u001b[38;5;28;01melse\u001b[39;00m:\n\u001b[0;32m-> 1081\u001b[0m     result \u001b[38;5;241m=\u001b[39m \u001b[38;5;28;43mself\u001b[39;49m\u001b[38;5;241;43m.\u001b[39;49m\u001b[43m_aggregate_series_pure_python\u001b[49m\u001b[43m(\u001b[49m\u001b[43mobj\u001b[49m\u001b[43m,\u001b[49m\u001b[43m \u001b[49m\u001b[43mfunc\u001b[49m\u001b[43m)\u001b[49m\n\u001b[1;32m   1083\u001b[0m npvalues \u001b[38;5;241m=\u001b[39m lib\u001b[38;5;241m.\u001b[39mmaybe_convert_objects(result, try_float\u001b[38;5;241m=\u001b[39m\u001b[38;5;28;01mFalse\u001b[39;00m)\n\u001b[1;32m   1084\u001b[0m \u001b[38;5;28;01mif\u001b[39;00m preserve_dtype:\n",
      "File \u001b[0;32m~/opt/anaconda3/envs/elastic_stack-finance/lib/python3.10/site-packages/pandas/core/groupby/ops.py:1109\u001b[0m, in \u001b[0;36mBaseGrouper._aggregate_series_pure_python\u001b[0;34m(self, obj, func)\u001b[0m\n\u001b[1;32m   1105\u001b[0m res \u001b[38;5;241m=\u001b[39m libreduction\u001b[38;5;241m.\u001b[39mextract_result(res)\n\u001b[1;32m   1107\u001b[0m \u001b[38;5;28;01mif\u001b[39;00m \u001b[38;5;129;01mnot\u001b[39;00m initialized:\n\u001b[1;32m   1108\u001b[0m     \u001b[38;5;66;03m# We only do this validation on the first iteration\u001b[39;00m\n\u001b[0;32m-> 1109\u001b[0m     \u001b[43mlibreduction\u001b[49m\u001b[38;5;241;43m.\u001b[39;49m\u001b[43mcheck_result_array\u001b[49m\u001b[43m(\u001b[49m\u001b[43mres\u001b[49m\u001b[43m,\u001b[49m\u001b[43m \u001b[49m\u001b[43mgroup\u001b[49m\u001b[38;5;241;43m.\u001b[39;49m\u001b[43mdtype\u001b[49m\u001b[43m)\u001b[49m\n\u001b[1;32m   1110\u001b[0m     initialized \u001b[38;5;241m=\u001b[39m \u001b[38;5;28;01mTrue\u001b[39;00m\n\u001b[1;32m   1112\u001b[0m counts[i] \u001b[38;5;241m=\u001b[39m group\u001b[38;5;241m.\u001b[39mshape[\u001b[38;5;241m0\u001b[39m]\n",
      "File \u001b[0;32m~/opt/anaconda3/envs/elastic_stack-finance/lib/python3.10/site-packages/pandas/_libs/reduction.pyx:13\u001b[0m, in \u001b[0;36mpandas._libs.reduction.check_result_array\u001b[0;34m()\u001b[0m\n",
      "File \u001b[0;32m~/opt/anaconda3/envs/elastic_stack-finance/lib/python3.10/site-packages/pandas/_libs/reduction.pyx:21\u001b[0m, in \u001b[0;36mpandas._libs.reduction.check_result_array\u001b[0;34m()\u001b[0m\n",
      "\u001b[0;31mValueError\u001b[0m: Must produce aggregated value"
     ]
    }
   ],
   "metadata": {}
  },
  {
   "cell_type": "markdown",
   "source": [
    "- Visualization(시각화) 맛보기"
   ],
   "metadata": {}
  },
  {
   "cell_type": "code",
   "execution_count": 82,
   "source": [
    "import matplotlib.pyplot as plt\n",
    "\n",
    "%matplotlib inline"
   ],
   "outputs": [],
   "metadata": {}
  },
  {
   "cell_type": "code",
   "execution_count": 83,
   "source": [
    "pbr_rtn_df.plot(kind='bar')"
   ],
   "outputs": [
    {
     "output_type": "execute_result",
     "data": {
      "text/plain": [
       "<AxesSubplot: xlabel='PBR_score'>"
      ]
     },
     "metadata": {},
     "execution_count": 83
    },
    {
     "output_type": "display_data",
     "data": {
      "text/plain": [
       "<Figure size 640x480 with 1 Axes>"
      ],
      "image/svg+xml": "<?xml version=\"1.0\" encoding=\"utf-8\" standalone=\"no\"?>\n<!DOCTYPE svg PUBLIC \"-//W3C//DTD SVG 1.1//EN\"\n  \"http://www.w3.org/Graphics/SVG/1.1/DTD/svg11.dtd\">\n<svg xmlns:xlink=\"http://www.w3.org/1999/xlink\" width=\"415.527812pt\" height=\"313.915125pt\" viewBox=\"0 0 415.527812 313.915125\" xmlns=\"http://www.w3.org/2000/svg\" version=\"1.1\">\n <metadata>\n  <rdf:RDF xmlns:dc=\"http://purl.org/dc/elements/1.1/\" xmlns:cc=\"http://creativecommons.org/ns#\" xmlns:rdf=\"http://www.w3.org/1999/02/22-rdf-syntax-ns#\">\n   <cc:Work>\n    <dc:type rdf:resource=\"http://purl.org/dc/dcmitype/StillImage\"/>\n    <dc:date>2022-12-27T07:59:19.597333</dc:date>\n    <dc:format>image/svg+xml</dc:format>\n    <dc:creator>\n     <cc:Agent>\n      <dc:title>Matplotlib v3.6.2, https://matplotlib.org/</dc:title>\n     </cc:Agent>\n    </dc:creator>\n   </cc:Work>\n  </rdf:RDF>\n </metadata>\n <defs>\n  <style type=\"text/css\">*{stroke-linejoin: round; stroke-linecap: butt}</style>\n </defs>\n <g id=\"figure_1\">\n  <g id=\"patch_1\">\n   <path d=\"M 0 313.915125 \nL 415.527812 313.915125 \nL 415.527812 0 \nL 0 0 \nz\n\" style=\"fill: #ffffff\"/>\n  </g>\n  <g id=\"axes_1\">\n   <g id=\"patch_2\">\n    <path d=\"M 51.207813 273.312 \nL 408.327813 273.312 \nL 408.327813 7.2 \nL 51.207813 7.2 \nz\n\" style=\"fill: #ffffff\"/>\n   </g>\n   <g id=\"patch_3\">\n    <path d=\"M 60.135813 209.911567 \nL 77.991813 209.911567 \nL 77.991813 211.525857 \nL 60.135813 211.525857 \nz\n\" clip-path=\"url(#pef84965da7)\" style=\"fill: #1f77b4\"/>\n   </g>\n   <g id=\"patch_4\">\n    <path d=\"M 95.847813 209.911567 \nL 113.703813 209.911567 \nL 113.703813 185.693506 \nL 95.847813 185.693506 \nz\n\" clip-path=\"url(#pef84965da7)\" style=\"fill: #1f77b4\"/>\n   </g>\n   <g id=\"patch_5\">\n    <path d=\"M 131.559813 209.911567 \nL 149.415813 209.911567 \nL 149.415813 234.526117 \nL 131.559813 234.526117 \nz\n\" clip-path=\"url(#pef84965da7)\" style=\"fill: #1f77b4\"/>\n   </g>\n   <g id=\"patch_6\">\n    <path d=\"M 167.271813 209.911567 \nL 185.127813 209.911567 \nL 185.127813 19.296 \nL 167.271813 19.296 \nz\n\" clip-path=\"url(#pef84965da7)\" style=\"fill: #1f77b4\"/>\n   </g>\n   <g id=\"patch_7\">\n    <path d=\"M 202.983813 209.911567 \nL 220.839813 209.911567 \nL 220.839813 223.662814 \nL 202.983813 223.662814 \nz\n\" clip-path=\"url(#pef84965da7)\" style=\"fill: #1f77b4\"/>\n   </g>\n   <g id=\"patch_8\">\n    <path d=\"M 238.695813 209.911567 \nL 256.551813 209.911567 \nL 256.551813 261.216 \nL 238.695813 261.216 \nz\n\" clip-path=\"url(#pef84965da7)\" style=\"fill: #1f77b4\"/>\n   </g>\n   <g id=\"patch_9\">\n    <path d=\"M 274.407813 209.911567 \nL 292.263813 209.911567 \nL 292.263813 32.288778 \nL 274.407813 32.288778 \nz\n\" clip-path=\"url(#pef84965da7)\" style=\"fill: #1f77b4\"/>\n   </g>\n   <g id=\"patch_10\">\n    <path d=\"M 310.119813 209.911567 \nL 327.975813 209.911567 \nL 327.975813 141.382508 \nL 310.119813 141.382508 \nz\n\" clip-path=\"url(#pef84965da7)\" style=\"fill: #1f77b4\"/>\n   </g>\n   <g id=\"patch_11\">\n    <path d=\"M 345.831813 209.911567 \nL 363.687813 209.911567 \nL 363.687813 44.849829 \nL 345.831813 44.849829 \nz\n\" clip-path=\"url(#pef84965da7)\" style=\"fill: #1f77b4\"/>\n   </g>\n   <g id=\"patch_12\">\n    <path d=\"M 381.543813 209.911567 \nL 399.399813 209.911567 \nL 399.399813 146.533492 \nL 381.543813 146.533492 \nz\n\" clip-path=\"url(#pef84965da7)\" style=\"fill: #1f77b4\"/>\n   </g>\n   <g id=\"matplotlib.axis_1\">\n    <g id=\"xtick_1\">\n     <g id=\"line2d_1\">\n      <defs>\n       <path id=\"mc0bdd33274\" d=\"M 0 0 \nL 0 3.5 \n\" style=\"stroke: #000000; stroke-width: 0.8\"/>\n      </defs>\n      <g>\n       <use xlink:href=\"#mc0bdd33274\" x=\"69.063813\" y=\"273.312\" style=\"stroke: #000000; stroke-width: 0.8\"/>\n      </g>\n     </g>\n     <g id=\"text_1\">\n      <!-- 1 -->\n      <g transform=\"translate(71.823188 286.6745) rotate(-90) scale(0.1 -0.1)\">\n       <defs>\n        <path id=\"DejaVuSans-31\" d=\"M 794 531 \nL 1825 531 \nL 1825 4091 \nL 703 3866 \nL 703 4441 \nL 1819 4666 \nL 2450 4666 \nL 2450 531 \nL 3481 531 \nL 3481 0 \nL 794 0 \nL 794 531 \nz\n\" transform=\"scale(0.015625)\"/>\n       </defs>\n       <use xlink:href=\"#DejaVuSans-31\"/>\n      </g>\n     </g>\n    </g>\n    <g id=\"xtick_2\">\n     <g id=\"line2d_2\">\n      <g>\n       <use xlink:href=\"#mc0bdd33274\" x=\"104.775813\" y=\"273.312\" style=\"stroke: #000000; stroke-width: 0.8\"/>\n      </g>\n     </g>\n     <g id=\"text_2\">\n      <!-- 2 -->\n      <g transform=\"translate(107.535188 286.6745) rotate(-90) scale(0.1 -0.1)\">\n       <defs>\n        <path id=\"DejaVuSans-32\" d=\"M 1228 531 \nL 3431 531 \nL 3431 0 \nL 469 0 \nL 469 531 \nQ 828 903 1448 1529 \nQ 2069 2156 2228 2338 \nQ 2531 2678 2651 2914 \nQ 2772 3150 2772 3378 \nQ 2772 3750 2511 3984 \nQ 2250 4219 1831 4219 \nQ 1534 4219 1204 4116 \nQ 875 4013 500 3803 \nL 500 4441 \nQ 881 4594 1212 4672 \nQ 1544 4750 1819 4750 \nQ 2544 4750 2975 4387 \nQ 3406 4025 3406 3419 \nQ 3406 3131 3298 2873 \nQ 3191 2616 2906 2266 \nQ 2828 2175 2409 1742 \nQ 1991 1309 1228 531 \nz\n\" transform=\"scale(0.015625)\"/>\n       </defs>\n       <use xlink:href=\"#DejaVuSans-32\"/>\n      </g>\n     </g>\n    </g>\n    <g id=\"xtick_3\">\n     <g id=\"line2d_3\">\n      <g>\n       <use xlink:href=\"#mc0bdd33274\" x=\"140.487813\" y=\"273.312\" style=\"stroke: #000000; stroke-width: 0.8\"/>\n      </g>\n     </g>\n     <g id=\"text_3\">\n      <!-- 3 -->\n      <g transform=\"translate(143.247188 286.6745) rotate(-90) scale(0.1 -0.1)\">\n       <defs>\n        <path id=\"DejaVuSans-33\" d=\"M 2597 2516 \nQ 3050 2419 3304 2112 \nQ 3559 1806 3559 1356 \nQ 3559 666 3084 287 \nQ 2609 -91 1734 -91 \nQ 1441 -91 1130 -33 \nQ 819 25 488 141 \nL 488 750 \nQ 750 597 1062 519 \nQ 1375 441 1716 441 \nQ 2309 441 2620 675 \nQ 2931 909 2931 1356 \nQ 2931 1769 2642 2001 \nQ 2353 2234 1838 2234 \nL 1294 2234 \nL 1294 2753 \nL 1863 2753 \nQ 2328 2753 2575 2939 \nQ 2822 3125 2822 3475 \nQ 2822 3834 2567 4026 \nQ 2313 4219 1838 4219 \nQ 1578 4219 1281 4162 \nQ 984 4106 628 3988 \nL 628 4550 \nQ 988 4650 1302 4700 \nQ 1616 4750 1894 4750 \nQ 2613 4750 3031 4423 \nQ 3450 4097 3450 3541 \nQ 3450 3153 3228 2886 \nQ 3006 2619 2597 2516 \nz\n\" transform=\"scale(0.015625)\"/>\n       </defs>\n       <use xlink:href=\"#DejaVuSans-33\"/>\n      </g>\n     </g>\n    </g>\n    <g id=\"xtick_4\">\n     <g id=\"line2d_4\">\n      <g>\n       <use xlink:href=\"#mc0bdd33274\" x=\"176.199813\" y=\"273.312\" style=\"stroke: #000000; stroke-width: 0.8\"/>\n      </g>\n     </g>\n     <g id=\"text_4\">\n      <!-- 4 -->\n      <g transform=\"translate(178.959188 286.6745) rotate(-90) scale(0.1 -0.1)\">\n       <defs>\n        <path id=\"DejaVuSans-34\" d=\"M 2419 4116 \nL 825 1625 \nL 2419 1625 \nL 2419 4116 \nz\nM 2253 4666 \nL 3047 4666 \nL 3047 1625 \nL 3713 1625 \nL 3713 1100 \nL 3047 1100 \nL 3047 0 \nL 2419 0 \nL 2419 1100 \nL 313 1100 \nL 313 1709 \nL 2253 4666 \nz\n\" transform=\"scale(0.015625)\"/>\n       </defs>\n       <use xlink:href=\"#DejaVuSans-34\"/>\n      </g>\n     </g>\n    </g>\n    <g id=\"xtick_5\">\n     <g id=\"line2d_5\">\n      <g>\n       <use xlink:href=\"#mc0bdd33274\" x=\"211.911813\" y=\"273.312\" style=\"stroke: #000000; stroke-width: 0.8\"/>\n      </g>\n     </g>\n     <g id=\"text_5\">\n      <!-- 5 -->\n      <g transform=\"translate(214.671188 286.6745) rotate(-90) scale(0.1 -0.1)\">\n       <defs>\n        <path id=\"DejaVuSans-35\" d=\"M 691 4666 \nL 3169 4666 \nL 3169 4134 \nL 1269 4134 \nL 1269 2991 \nQ 1406 3038 1543 3061 \nQ 1681 3084 1819 3084 \nQ 2600 3084 3056 2656 \nQ 3513 2228 3513 1497 \nQ 3513 744 3044 326 \nQ 2575 -91 1722 -91 \nQ 1428 -91 1123 -41 \nQ 819 9 494 109 \nL 494 744 \nQ 775 591 1075 516 \nQ 1375 441 1709 441 \nQ 2250 441 2565 725 \nQ 2881 1009 2881 1497 \nQ 2881 1984 2565 2268 \nQ 2250 2553 1709 2553 \nQ 1456 2553 1204 2497 \nQ 953 2441 691 2322 \nL 691 4666 \nz\n\" transform=\"scale(0.015625)\"/>\n       </defs>\n       <use xlink:href=\"#DejaVuSans-35\"/>\n      </g>\n     </g>\n    </g>\n    <g id=\"xtick_6\">\n     <g id=\"line2d_6\">\n      <g>\n       <use xlink:href=\"#mc0bdd33274\" x=\"247.623813\" y=\"273.312\" style=\"stroke: #000000; stroke-width: 0.8\"/>\n      </g>\n     </g>\n     <g id=\"text_6\">\n      <!-- 6 -->\n      <g transform=\"translate(250.383188 286.6745) rotate(-90) scale(0.1 -0.1)\">\n       <defs>\n        <path id=\"DejaVuSans-36\" d=\"M 2113 2584 \nQ 1688 2584 1439 2293 \nQ 1191 2003 1191 1497 \nQ 1191 994 1439 701 \nQ 1688 409 2113 409 \nQ 2538 409 2786 701 \nQ 3034 994 3034 1497 \nQ 3034 2003 2786 2293 \nQ 2538 2584 2113 2584 \nz\nM 3366 4563 \nL 3366 3988 \nQ 3128 4100 2886 4159 \nQ 2644 4219 2406 4219 \nQ 1781 4219 1451 3797 \nQ 1122 3375 1075 2522 \nQ 1259 2794 1537 2939 \nQ 1816 3084 2150 3084 \nQ 2853 3084 3261 2657 \nQ 3669 2231 3669 1497 \nQ 3669 778 3244 343 \nQ 2819 -91 2113 -91 \nQ 1303 -91 875 529 \nQ 447 1150 447 2328 \nQ 447 3434 972 4092 \nQ 1497 4750 2381 4750 \nQ 2619 4750 2861 4703 \nQ 3103 4656 3366 4563 \nz\n\" transform=\"scale(0.015625)\"/>\n       </defs>\n       <use xlink:href=\"#DejaVuSans-36\"/>\n      </g>\n     </g>\n    </g>\n    <g id=\"xtick_7\">\n     <g id=\"line2d_7\">\n      <g>\n       <use xlink:href=\"#mc0bdd33274\" x=\"283.335813\" y=\"273.312\" style=\"stroke: #000000; stroke-width: 0.8\"/>\n      </g>\n     </g>\n     <g id=\"text_7\">\n      <!-- 7 -->\n      <g transform=\"translate(286.095188 286.6745) rotate(-90) scale(0.1 -0.1)\">\n       <defs>\n        <path id=\"DejaVuSans-37\" d=\"M 525 4666 \nL 3525 4666 \nL 3525 4397 \nL 1831 0 \nL 1172 0 \nL 2766 4134 \nL 525 4134 \nL 525 4666 \nz\n\" transform=\"scale(0.015625)\"/>\n       </defs>\n       <use xlink:href=\"#DejaVuSans-37\"/>\n      </g>\n     </g>\n    </g>\n    <g id=\"xtick_8\">\n     <g id=\"line2d_8\">\n      <g>\n       <use xlink:href=\"#mc0bdd33274\" x=\"319.047813\" y=\"273.312\" style=\"stroke: #000000; stroke-width: 0.8\"/>\n      </g>\n     </g>\n     <g id=\"text_8\">\n      <!-- 8 -->\n      <g transform=\"translate(321.807188 286.6745) rotate(-90) scale(0.1 -0.1)\">\n       <defs>\n        <path id=\"DejaVuSans-38\" d=\"M 2034 2216 \nQ 1584 2216 1326 1975 \nQ 1069 1734 1069 1313 \nQ 1069 891 1326 650 \nQ 1584 409 2034 409 \nQ 2484 409 2743 651 \nQ 3003 894 3003 1313 \nQ 3003 1734 2745 1975 \nQ 2488 2216 2034 2216 \nz\nM 1403 2484 \nQ 997 2584 770 2862 \nQ 544 3141 544 3541 \nQ 544 4100 942 4425 \nQ 1341 4750 2034 4750 \nQ 2731 4750 3128 4425 \nQ 3525 4100 3525 3541 \nQ 3525 3141 3298 2862 \nQ 3072 2584 2669 2484 \nQ 3125 2378 3379 2068 \nQ 3634 1759 3634 1313 \nQ 3634 634 3220 271 \nQ 2806 -91 2034 -91 \nQ 1263 -91 848 271 \nQ 434 634 434 1313 \nQ 434 1759 690 2068 \nQ 947 2378 1403 2484 \nz\nM 1172 3481 \nQ 1172 3119 1398 2916 \nQ 1625 2713 2034 2713 \nQ 2441 2713 2670 2916 \nQ 2900 3119 2900 3481 \nQ 2900 3844 2670 4047 \nQ 2441 4250 2034 4250 \nQ 1625 4250 1398 4047 \nQ 1172 3844 1172 3481 \nz\n\" transform=\"scale(0.015625)\"/>\n       </defs>\n       <use xlink:href=\"#DejaVuSans-38\"/>\n      </g>\n     </g>\n    </g>\n    <g id=\"xtick_9\">\n     <g id=\"line2d_9\">\n      <g>\n       <use xlink:href=\"#mc0bdd33274\" x=\"354.759813\" y=\"273.312\" style=\"stroke: #000000; stroke-width: 0.8\"/>\n      </g>\n     </g>\n     <g id=\"text_9\">\n      <!-- 9 -->\n      <g transform=\"translate(357.519188 286.6745) rotate(-90) scale(0.1 -0.1)\">\n       <defs>\n        <path id=\"DejaVuSans-39\" d=\"M 703 97 \nL 703 672 \nQ 941 559 1184 500 \nQ 1428 441 1663 441 \nQ 2288 441 2617 861 \nQ 2947 1281 2994 2138 \nQ 2813 1869 2534 1725 \nQ 2256 1581 1919 1581 \nQ 1219 1581 811 2004 \nQ 403 2428 403 3163 \nQ 403 3881 828 4315 \nQ 1253 4750 1959 4750 \nQ 2769 4750 3195 4129 \nQ 3622 3509 3622 2328 \nQ 3622 1225 3098 567 \nQ 2575 -91 1691 -91 \nQ 1453 -91 1209 -44 \nQ 966 3 703 97 \nz\nM 1959 2075 \nQ 2384 2075 2632 2365 \nQ 2881 2656 2881 3163 \nQ 2881 3666 2632 3958 \nQ 2384 4250 1959 4250 \nQ 1534 4250 1286 3958 \nQ 1038 3666 1038 3163 \nQ 1038 2656 1286 2365 \nQ 1534 2075 1959 2075 \nz\n\" transform=\"scale(0.015625)\"/>\n       </defs>\n       <use xlink:href=\"#DejaVuSans-39\"/>\n      </g>\n     </g>\n    </g>\n    <g id=\"xtick_10\">\n     <g id=\"line2d_10\">\n      <g>\n       <use xlink:href=\"#mc0bdd33274\" x=\"390.471813\" y=\"273.312\" style=\"stroke: #000000; stroke-width: 0.8\"/>\n      </g>\n     </g>\n     <g id=\"text_10\">\n      <!-- 10 -->\n      <g transform=\"translate(393.231188 293.037) rotate(-90) scale(0.1 -0.1)\">\n       <defs>\n        <path id=\"DejaVuSans-30\" d=\"M 2034 4250 \nQ 1547 4250 1301 3770 \nQ 1056 3291 1056 2328 \nQ 1056 1369 1301 889 \nQ 1547 409 2034 409 \nQ 2525 409 2770 889 \nQ 3016 1369 3016 2328 \nQ 3016 3291 2770 3770 \nQ 2525 4250 2034 4250 \nz\nM 2034 4750 \nQ 2819 4750 3233 4129 \nQ 3647 3509 3647 2328 \nQ 3647 1150 3233 529 \nQ 2819 -91 2034 -91 \nQ 1250 -91 836 529 \nQ 422 1150 422 2328 \nQ 422 3509 836 4129 \nQ 1250 4750 2034 4750 \nz\n\" transform=\"scale(0.015625)\"/>\n       </defs>\n       <use xlink:href=\"#DejaVuSans-31\"/>\n       <use xlink:href=\"#DejaVuSans-30\" x=\"63.623047\"/>\n      </g>\n     </g>\n    </g>\n    <g id=\"text_11\">\n     <!-- PBR_score -->\n     <g transform=\"translate(203.915469 304.357312) scale(0.1 -0.1)\">\n      <defs>\n       <path id=\"DejaVuSans-50\" d=\"M 1259 4147 \nL 1259 2394 \nL 2053 2394 \nQ 2494 2394 2734 2622 \nQ 2975 2850 2975 3272 \nQ 2975 3691 2734 3919 \nQ 2494 4147 2053 4147 \nL 1259 4147 \nz\nM 628 4666 \nL 2053 4666 \nQ 2838 4666 3239 4311 \nQ 3641 3956 3641 3272 \nQ 3641 2581 3239 2228 \nQ 2838 1875 2053 1875 \nL 1259 1875 \nL 1259 0 \nL 628 0 \nL 628 4666 \nz\n\" transform=\"scale(0.015625)\"/>\n       <path id=\"DejaVuSans-42\" d=\"M 1259 2228 \nL 1259 519 \nL 2272 519 \nQ 2781 519 3026 730 \nQ 3272 941 3272 1375 \nQ 3272 1813 3026 2020 \nQ 2781 2228 2272 2228 \nL 1259 2228 \nz\nM 1259 4147 \nL 1259 2741 \nL 2194 2741 \nQ 2656 2741 2882 2914 \nQ 3109 3088 3109 3444 \nQ 3109 3797 2882 3972 \nQ 2656 4147 2194 4147 \nL 1259 4147 \nz\nM 628 4666 \nL 2241 4666 \nQ 2963 4666 3353 4366 \nQ 3744 4066 3744 3513 \nQ 3744 3084 3544 2831 \nQ 3344 2578 2956 2516 \nQ 3422 2416 3680 2098 \nQ 3938 1781 3938 1306 \nQ 3938 681 3513 340 \nQ 3088 0 2303 0 \nL 628 0 \nL 628 4666 \nz\n\" transform=\"scale(0.015625)\"/>\n       <path id=\"DejaVuSans-52\" d=\"M 2841 2188 \nQ 3044 2119 3236 1894 \nQ 3428 1669 3622 1275 \nL 4263 0 \nL 3584 0 \nL 2988 1197 \nQ 2756 1666 2539 1819 \nQ 2322 1972 1947 1972 \nL 1259 1972 \nL 1259 0 \nL 628 0 \nL 628 4666 \nL 2053 4666 \nQ 2853 4666 3247 4331 \nQ 3641 3997 3641 3322 \nQ 3641 2881 3436 2590 \nQ 3231 2300 2841 2188 \nz\nM 1259 4147 \nL 1259 2491 \nL 2053 2491 \nQ 2509 2491 2742 2702 \nQ 2975 2913 2975 3322 \nQ 2975 3731 2742 3939 \nQ 2509 4147 2053 4147 \nL 1259 4147 \nz\n\" transform=\"scale(0.015625)\"/>\n       <path id=\"DejaVuSans-5f\" d=\"M 3263 -1063 \nL 3263 -1509 \nL -63 -1509 \nL -63 -1063 \nL 3263 -1063 \nz\n\" transform=\"scale(0.015625)\"/>\n       <path id=\"DejaVuSans-73\" d=\"M 2834 3397 \nL 2834 2853 \nQ 2591 2978 2328 3040 \nQ 2066 3103 1784 3103 \nQ 1356 3103 1142 2972 \nQ 928 2841 928 2578 \nQ 928 2378 1081 2264 \nQ 1234 2150 1697 2047 \nL 1894 2003 \nQ 2506 1872 2764 1633 \nQ 3022 1394 3022 966 \nQ 3022 478 2636 193 \nQ 2250 -91 1575 -91 \nQ 1294 -91 989 -36 \nQ 684 19 347 128 \nL 347 722 \nQ 666 556 975 473 \nQ 1284 391 1588 391 \nQ 1994 391 2212 530 \nQ 2431 669 2431 922 \nQ 2431 1156 2273 1281 \nQ 2116 1406 1581 1522 \nL 1381 1569 \nQ 847 1681 609 1914 \nQ 372 2147 372 2553 \nQ 372 3047 722 3315 \nQ 1072 3584 1716 3584 \nQ 2034 3584 2315 3537 \nQ 2597 3491 2834 3397 \nz\n\" transform=\"scale(0.015625)\"/>\n       <path id=\"DejaVuSans-63\" d=\"M 3122 3366 \nL 3122 2828 \nQ 2878 2963 2633 3030 \nQ 2388 3097 2138 3097 \nQ 1578 3097 1268 2742 \nQ 959 2388 959 1747 \nQ 959 1106 1268 751 \nQ 1578 397 2138 397 \nQ 2388 397 2633 464 \nQ 2878 531 3122 666 \nL 3122 134 \nQ 2881 22 2623 -34 \nQ 2366 -91 2075 -91 \nQ 1284 -91 818 406 \nQ 353 903 353 1747 \nQ 353 2603 823 3093 \nQ 1294 3584 2113 3584 \nQ 2378 3584 2631 3529 \nQ 2884 3475 3122 3366 \nz\n\" transform=\"scale(0.015625)\"/>\n       <path id=\"DejaVuSans-6f\" d=\"M 1959 3097 \nQ 1497 3097 1228 2736 \nQ 959 2375 959 1747 \nQ 959 1119 1226 758 \nQ 1494 397 1959 397 \nQ 2419 397 2687 759 \nQ 2956 1122 2956 1747 \nQ 2956 2369 2687 2733 \nQ 2419 3097 1959 3097 \nz\nM 1959 3584 \nQ 2709 3584 3137 3096 \nQ 3566 2609 3566 1747 \nQ 3566 888 3137 398 \nQ 2709 -91 1959 -91 \nQ 1206 -91 779 398 \nQ 353 888 353 1747 \nQ 353 2609 779 3096 \nQ 1206 3584 1959 3584 \nz\n\" transform=\"scale(0.015625)\"/>\n       <path id=\"DejaVuSans-72\" d=\"M 2631 2963 \nQ 2534 3019 2420 3045 \nQ 2306 3072 2169 3072 \nQ 1681 3072 1420 2755 \nQ 1159 2438 1159 1844 \nL 1159 0 \nL 581 0 \nL 581 3500 \nL 1159 3500 \nL 1159 2956 \nQ 1341 3275 1631 3429 \nQ 1922 3584 2338 3584 \nQ 2397 3584 2469 3576 \nQ 2541 3569 2628 3553 \nL 2631 2963 \nz\n\" transform=\"scale(0.015625)\"/>\n       <path id=\"DejaVuSans-65\" d=\"M 3597 1894 \nL 3597 1613 \nL 953 1613 \nQ 991 1019 1311 708 \nQ 1631 397 2203 397 \nQ 2534 397 2845 478 \nQ 3156 559 3463 722 \nL 3463 178 \nQ 3153 47 2828 -22 \nQ 2503 -91 2169 -91 \nQ 1331 -91 842 396 \nQ 353 884 353 1716 \nQ 353 2575 817 3079 \nQ 1281 3584 2069 3584 \nQ 2775 3584 3186 3129 \nQ 3597 2675 3597 1894 \nz\nM 3022 2063 \nQ 3016 2534 2758 2815 \nQ 2500 3097 2075 3097 \nQ 1594 3097 1305 2825 \nQ 1016 2553 972 2059 \nL 3022 2063 \nz\n\" transform=\"scale(0.015625)\"/>\n      </defs>\n      <use xlink:href=\"#DejaVuSans-50\"/>\n      <use xlink:href=\"#DejaVuSans-42\" x=\"60.302734\"/>\n      <use xlink:href=\"#DejaVuSans-52\" x=\"128.90625\"/>\n      <use xlink:href=\"#DejaVuSans-5f\" x=\"198.388672\"/>\n      <use xlink:href=\"#DejaVuSans-73\" x=\"248.388672\"/>\n      <use xlink:href=\"#DejaVuSans-63\" x=\"300.488281\"/>\n      <use xlink:href=\"#DejaVuSans-6f\" x=\"355.46875\"/>\n      <use xlink:href=\"#DejaVuSans-72\" x=\"416.650391\"/>\n      <use xlink:href=\"#DejaVuSans-65\" x=\"455.513672\"/>\n     </g>\n    </g>\n   </g>\n   <g id=\"matplotlib.axis_2\">\n    <g id=\"ytick_1\">\n     <g id=\"line2d_11\">\n      <defs>\n       <path id=\"m88c20c7830\" d=\"M 0 0 \nL -3.5 0 \n\" style=\"stroke: #000000; stroke-width: 0.8\"/>\n      </defs>\n      <g>\n       <use xlink:href=\"#m88c20c7830\" x=\"51.207813\" y=\"269.114582\" style=\"stroke: #000000; stroke-width: 0.8\"/>\n      </g>\n     </g>\n     <g id=\"text_12\">\n      <!-- −0.050 -->\n      <g transform=\"translate(7.2 272.913801) scale(0.1 -0.1)\">\n       <defs>\n        <path id=\"DejaVuSans-2212\" d=\"M 678 2272 \nL 4684 2272 \nL 4684 1741 \nL 678 1741 \nL 678 2272 \nz\n\" transform=\"scale(0.015625)\"/>\n        <path id=\"DejaVuSans-2e\" d=\"M 684 794 \nL 1344 794 \nL 1344 0 \nL 684 0 \nL 684 794 \nz\n\" transform=\"scale(0.015625)\"/>\n       </defs>\n       <use xlink:href=\"#DejaVuSans-2212\"/>\n       <use xlink:href=\"#DejaVuSans-30\" x=\"83.789062\"/>\n       <use xlink:href=\"#DejaVuSans-2e\" x=\"147.412109\"/>\n       <use xlink:href=\"#DejaVuSans-30\" x=\"179.199219\"/>\n       <use xlink:href=\"#DejaVuSans-35\" x=\"242.822266\"/>\n       <use xlink:href=\"#DejaVuSans-30\" x=\"306.445312\"/>\n      </g>\n     </g>\n    </g>\n    <g id=\"ytick_2\">\n     <g id=\"line2d_12\">\n      <g>\n       <use xlink:href=\"#m88c20c7830\" x=\"51.207813\" y=\"239.513075\" style=\"stroke: #000000; stroke-width: 0.8\"/>\n      </g>\n     </g>\n     <g id=\"text_13\">\n      <!-- −0.025 -->\n      <g transform=\"translate(7.2 243.312294) scale(0.1 -0.1)\">\n       <use xlink:href=\"#DejaVuSans-2212\"/>\n       <use xlink:href=\"#DejaVuSans-30\" x=\"83.789062\"/>\n       <use xlink:href=\"#DejaVuSans-2e\" x=\"147.412109\"/>\n       <use xlink:href=\"#DejaVuSans-30\" x=\"179.199219\"/>\n       <use xlink:href=\"#DejaVuSans-32\" x=\"242.822266\"/>\n       <use xlink:href=\"#DejaVuSans-35\" x=\"306.445312\"/>\n      </g>\n     </g>\n    </g>\n    <g id=\"ytick_3\">\n     <g id=\"line2d_13\">\n      <g>\n       <use xlink:href=\"#m88c20c7830\" x=\"51.207813\" y=\"209.911567\" style=\"stroke: #000000; stroke-width: 0.8\"/>\n      </g>\n     </g>\n     <g id=\"text_14\">\n      <!-- 0.000 -->\n      <g transform=\"translate(15.579688 213.710786) scale(0.1 -0.1)\">\n       <use xlink:href=\"#DejaVuSans-30\"/>\n       <use xlink:href=\"#DejaVuSans-2e\" x=\"63.623047\"/>\n       <use xlink:href=\"#DejaVuSans-30\" x=\"95.410156\"/>\n       <use xlink:href=\"#DejaVuSans-30\" x=\"159.033203\"/>\n       <use xlink:href=\"#DejaVuSans-30\" x=\"222.65625\"/>\n      </g>\n     </g>\n    </g>\n    <g id=\"ytick_4\">\n     <g id=\"line2d_14\">\n      <g>\n       <use xlink:href=\"#m88c20c7830\" x=\"51.207813\" y=\"180.31006\" style=\"stroke: #000000; stroke-width: 0.8\"/>\n      </g>\n     </g>\n     <g id=\"text_15\">\n      <!-- 0.025 -->\n      <g transform=\"translate(15.579688 184.109279) scale(0.1 -0.1)\">\n       <use xlink:href=\"#DejaVuSans-30\"/>\n       <use xlink:href=\"#DejaVuSans-2e\" x=\"63.623047\"/>\n       <use xlink:href=\"#DejaVuSans-30\" x=\"95.410156\"/>\n       <use xlink:href=\"#DejaVuSans-32\" x=\"159.033203\"/>\n       <use xlink:href=\"#DejaVuSans-35\" x=\"222.65625\"/>\n      </g>\n     </g>\n    </g>\n    <g id=\"ytick_5\">\n     <g id=\"line2d_15\">\n      <g>\n       <use xlink:href=\"#m88c20c7830\" x=\"51.207813\" y=\"150.708552\" style=\"stroke: #000000; stroke-width: 0.8\"/>\n      </g>\n     </g>\n     <g id=\"text_16\">\n      <!-- 0.050 -->\n      <g transform=\"translate(15.579688 154.507771) scale(0.1 -0.1)\">\n       <use xlink:href=\"#DejaVuSans-30\"/>\n       <use xlink:href=\"#DejaVuSans-2e\" x=\"63.623047\"/>\n       <use xlink:href=\"#DejaVuSans-30\" x=\"95.410156\"/>\n       <use xlink:href=\"#DejaVuSans-35\" x=\"159.033203\"/>\n       <use xlink:href=\"#DejaVuSans-30\" x=\"222.65625\"/>\n      </g>\n     </g>\n    </g>\n    <g id=\"ytick_6\">\n     <g id=\"line2d_16\">\n      <g>\n       <use xlink:href=\"#m88c20c7830\" x=\"51.207813\" y=\"121.107045\" style=\"stroke: #000000; stroke-width: 0.8\"/>\n      </g>\n     </g>\n     <g id=\"text_17\">\n      <!-- 0.075 -->\n      <g transform=\"translate(15.579688 124.906264) scale(0.1 -0.1)\">\n       <use xlink:href=\"#DejaVuSans-30\"/>\n       <use xlink:href=\"#DejaVuSans-2e\" x=\"63.623047\"/>\n       <use xlink:href=\"#DejaVuSans-30\" x=\"95.410156\"/>\n       <use xlink:href=\"#DejaVuSans-37\" x=\"159.033203\"/>\n       <use xlink:href=\"#DejaVuSans-35\" x=\"222.65625\"/>\n      </g>\n     </g>\n    </g>\n    <g id=\"ytick_7\">\n     <g id=\"line2d_17\">\n      <g>\n       <use xlink:href=\"#m88c20c7830\" x=\"51.207813\" y=\"91.505537\" style=\"stroke: #000000; stroke-width: 0.8\"/>\n      </g>\n     </g>\n     <g id=\"text_18\">\n      <!-- 0.100 -->\n      <g transform=\"translate(15.579688 95.304756) scale(0.1 -0.1)\">\n       <use xlink:href=\"#DejaVuSans-30\"/>\n       <use xlink:href=\"#DejaVuSans-2e\" x=\"63.623047\"/>\n       <use xlink:href=\"#DejaVuSans-31\" x=\"95.410156\"/>\n       <use xlink:href=\"#DejaVuSans-30\" x=\"159.033203\"/>\n       <use xlink:href=\"#DejaVuSans-30\" x=\"222.65625\"/>\n      </g>\n     </g>\n    </g>\n    <g id=\"ytick_8\">\n     <g id=\"line2d_18\">\n      <g>\n       <use xlink:href=\"#m88c20c7830\" x=\"51.207813\" y=\"61.90403\" style=\"stroke: #000000; stroke-width: 0.8\"/>\n      </g>\n     </g>\n     <g id=\"text_19\">\n      <!-- 0.125 -->\n      <g transform=\"translate(15.579688 65.703248) scale(0.1 -0.1)\">\n       <use xlink:href=\"#DejaVuSans-30\"/>\n       <use xlink:href=\"#DejaVuSans-2e\" x=\"63.623047\"/>\n       <use xlink:href=\"#DejaVuSans-31\" x=\"95.410156\"/>\n       <use xlink:href=\"#DejaVuSans-32\" x=\"159.033203\"/>\n       <use xlink:href=\"#DejaVuSans-35\" x=\"222.65625\"/>\n      </g>\n     </g>\n    </g>\n    <g id=\"ytick_9\">\n     <g id=\"line2d_19\">\n      <g>\n       <use xlink:href=\"#m88c20c7830\" x=\"51.207813\" y=\"32.302522\" style=\"stroke: #000000; stroke-width: 0.8\"/>\n      </g>\n     </g>\n     <g id=\"text_20\">\n      <!-- 0.150 -->\n      <g transform=\"translate(15.579688 36.101741) scale(0.1 -0.1)\">\n       <use xlink:href=\"#DejaVuSans-30\"/>\n       <use xlink:href=\"#DejaVuSans-2e\" x=\"63.623047\"/>\n       <use xlink:href=\"#DejaVuSans-31\" x=\"95.410156\"/>\n       <use xlink:href=\"#DejaVuSans-35\" x=\"159.033203\"/>\n       <use xlink:href=\"#DejaVuSans-30\" x=\"222.65625\"/>\n      </g>\n     </g>\n    </g>\n   </g>\n   <g id=\"patch_13\">\n    <path d=\"M 51.207813 273.312 \nL 51.207813 7.2 \n\" style=\"fill: none; stroke: #000000; stroke-width: 0.8; stroke-linejoin: miter; stroke-linecap: square\"/>\n   </g>\n   <g id=\"patch_14\">\n    <path d=\"M 408.327813 273.312 \nL 408.327813 7.2 \n\" style=\"fill: none; stroke: #000000; stroke-width: 0.8; stroke-linejoin: miter; stroke-linecap: square\"/>\n   </g>\n   <g id=\"patch_15\">\n    <path d=\"M 51.207813 273.312 \nL 408.327813 273.312 \n\" style=\"fill: none; stroke: #000000; stroke-width: 0.8; stroke-linejoin: miter; stroke-linecap: square\"/>\n   </g>\n   <g id=\"patch_16\">\n    <path d=\"M 51.207813 7.2 \nL 408.327813 7.2 \n\" style=\"fill: none; stroke: #000000; stroke-width: 0.8; stroke-linejoin: miter; stroke-linecap: square\"/>\n   </g>\n   <g id=\"legend_1\">\n    <g id=\"patch_17\">\n     <path d=\"M 354.959063 29.878125 \nL 401.327813 29.878125 \nQ 403.327813 29.878125 403.327813 27.878125 \nL 403.327813 14.2 \nQ 403.327813 12.2 401.327813 12.2 \nL 354.959063 12.2 \nQ 352.959063 12.2 352.959063 14.2 \nL 352.959063 27.878125 \nQ 352.959063 29.878125 354.959063 29.878125 \nz\n\" style=\"fill: #ffffff; opacity: 0.8; stroke: #cccccc; stroke-linejoin: miter\"/>\n    </g>\n    <g id=\"patch_18\">\n     <path d=\"M 356.959063 23.798437 \nL 376.959063 23.798437 \nL 376.959063 16.798437 \nL 356.959063 16.798437 \nz\n\" style=\"fill: #1f77b4\"/>\n    </g>\n    <g id=\"text_21\">\n     <!-- rtn -->\n     <g transform=\"translate(384.959063 23.798437) scale(0.1 -0.1)\">\n      <defs>\n       <path id=\"DejaVuSans-74\" d=\"M 1172 4494 \nL 1172 3500 \nL 2356 3500 \nL 2356 3053 \nL 1172 3053 \nL 1172 1153 \nQ 1172 725 1289 603 \nQ 1406 481 1766 481 \nL 2356 481 \nL 2356 0 \nL 1766 0 \nQ 1100 0 847 248 \nQ 594 497 594 1153 \nL 594 3053 \nL 172 3053 \nL 172 3500 \nL 594 3500 \nL 594 4494 \nL 1172 4494 \nz\n\" transform=\"scale(0.015625)\"/>\n       <path id=\"DejaVuSans-6e\" d=\"M 3513 2113 \nL 3513 0 \nL 2938 0 \nL 2938 2094 \nQ 2938 2591 2744 2837 \nQ 2550 3084 2163 3084 \nQ 1697 3084 1428 2787 \nQ 1159 2491 1159 1978 \nL 1159 0 \nL 581 0 \nL 581 3500 \nL 1159 3500 \nL 1159 2956 \nQ 1366 3272 1645 3428 \nQ 1925 3584 2291 3584 \nQ 2894 3584 3203 3211 \nQ 3513 2838 3513 2113 \nz\n\" transform=\"scale(0.015625)\"/>\n      </defs>\n      <use xlink:href=\"#DejaVuSans-72\"/>\n      <use xlink:href=\"#DejaVuSans-74\" x=\"41.113281\"/>\n      <use xlink:href=\"#DejaVuSans-6e\" x=\"80.322266\"/>\n     </g>\n    </g>\n   </g>\n  </g>\n </g>\n <defs>\n  <clipPath id=\"pef84965da7\">\n   <rect x=\"51.207813\" y=\"7.2\" width=\"357.12\" height=\"266.112\"/>\n  </clipPath>\n </defs>\n</svg>\n",
      "image/png": "[encoded data removed]"
     },
     "metadata": {}
    }
   ],
   "metadata": {}
  },
  {
   "cell_type": "code",
   "execution_count": 84,
   "source": [
    "pbr_rtn_df.plot(kind='bar');\n",
    "per_rtn_df.plot(kind='bar');"
   ],
   "outputs": [
    {
     "output_type": "display_data",
     "data": {
      "text/plain": [
       "<Figure size 640x480 with 1 Axes>"
      ],
      "image/svg+xml": "<?xml version=\"1.0\" encoding=\"utf-8\" standalone=\"no\"?>\n<!DOCTYPE svg PUBLIC \"-//W3C//DTD SVG 1.1//EN\"\n  \"http://www.w3.org/Graphics/SVG/1.1/DTD/svg11.dtd\">\n<svg xmlns:xlink=\"http://www.w3.org/1999/xlink\" width=\"415.527812pt\" height=\"313.915125pt\" viewBox=\"0 0 415.527812 313.915125\" xmlns=\"http://www.w3.org/2000/svg\" version=\"1.1\">\n <metadata>\n  <rdf:RDF xmlns:dc=\"http://purl.org/dc/elements/1.1/\" xmlns:cc=\"http://creativecommons.org/ns#\" xmlns:rdf=\"http://www.w3.org/1999/02/22-rdf-syntax-ns#\">\n   <cc:Work>\n    <dc:type rdf:resource=\"http://purl.org/dc/dcmitype/StillImage\"/>\n    <dc:date>2022-12-27T07:59:20.481877</dc:date>\n    <dc:format>image/svg+xml</dc:format>\n    <dc:creator>\n     <cc:Agent>\n      <dc:title>Matplotlib v3.6.2, https://matplotlib.org/</dc:title>\n     </cc:Agent>\n    </dc:creator>\n   </cc:Work>\n  </rdf:RDF>\n </metadata>\n <defs>\n  <style type=\"text/css\">*{stroke-linejoin: round; stroke-linecap: butt}</style>\n </defs>\n <g id=\"figure_1\">\n  <g id=\"patch_1\">\n   <path d=\"M 0 313.915125 \nL 415.527812 313.915125 \nL 415.527812 0 \nL 0 0 \nz\n\" style=\"fill: #ffffff\"/>\n  </g>\n  <g id=\"axes_1\">\n   <g id=\"patch_2\">\n    <path d=\"M 51.207813 273.312 \nL 408.327813 273.312 \nL 408.327813 7.2 \nL 51.207813 7.2 \nz\n\" style=\"fill: #ffffff\"/>\n   </g>\n   <g id=\"patch_3\">\n    <path d=\"M 60.135813 209.911567 \nL 77.991813 209.911567 \nL 77.991813 211.525857 \nL 60.135813 211.525857 \nz\n\" clip-path=\"url(#p320caefc67)\" style=\"fill: #1f77b4\"/>\n   </g>\n   <g id=\"patch_4\">\n    <path d=\"M 95.847813 209.911567 \nL 113.703813 209.911567 \nL 113.703813 185.693506 \nL 95.847813 185.693506 \nz\n\" clip-path=\"url(#p320caefc67)\" style=\"fill: #1f77b4\"/>\n   </g>\n   <g id=\"patch_5\">\n    <path d=\"M 131.559813 209.911567 \nL 149.415813 209.911567 \nL 149.415813 234.526117 \nL 131.559813 234.526117 \nz\n\" clip-path=\"url(#p320caefc67)\" style=\"fill: #1f77b4\"/>\n   </g>\n   <g id=\"patch_6\">\n    <path d=\"M 167.271813 209.911567 \nL 185.127813 209.911567 \nL 185.127813 19.296 \nL 167.271813 19.296 \nz\n\" clip-path=\"url(#p320caefc67)\" style=\"fill: #1f77b4\"/>\n   </g>\n   <g id=\"patch_7\">\n    <path d=\"M 202.983813 209.911567 \nL 220.839813 209.911567 \nL 220.839813 223.662814 \nL 202.983813 223.662814 \nz\n\" clip-path=\"url(#p320caefc67)\" style=\"fill: #1f77b4\"/>\n   </g>\n   <g id=\"patch_8\">\n    <path d=\"M 238.695813 209.911567 \nL 256.551813 209.911567 \nL 256.551813 261.216 \nL 238.695813 261.216 \nz\n\" clip-path=\"url(#p320caefc67)\" style=\"fill: #1f77b4\"/>\n   </g>\n   <g id=\"patch_9\">\n    <path d=\"M 274.407813 209.911567 \nL 292.263813 209.911567 \nL 292.263813 32.288778 \nL 274.407813 32.288778 \nz\n\" clip-path=\"url(#p320caefc67)\" style=\"fill: #1f77b4\"/>\n   </g>\n   <g id=\"patch_10\">\n    <path d=\"M 310.119813 209.911567 \nL 327.975813 209.911567 \nL 327.975813 141.382508 \nL 310.119813 141.382508 \nz\n\" clip-path=\"url(#p320caefc67)\" style=\"fill: #1f77b4\"/>\n   </g>\n   <g id=\"patch_11\">\n    <path d=\"M 345.831813 209.911567 \nL 363.687813 209.911567 \nL 363.687813 44.849829 \nL 345.831813 44.849829 \nz\n\" clip-path=\"url(#p320caefc67)\" style=\"fill: #1f77b4\"/>\n   </g>\n   <g id=\"patch_12\">\n    <path d=\"M 381.543813 209.911567 \nL 399.399813 209.911567 \nL 399.399813 146.533492 \nL 381.543813 146.533492 \nz\n\" clip-path=\"url(#p320caefc67)\" style=\"fill: #1f77b4\"/>\n   </g>\n   <g id=\"matplotlib.axis_1\">\n    <g id=\"xtick_1\">\n     <g id=\"line2d_1\">\n      <defs>\n       <path id=\"md6b775fe99\" d=\"M 0 0 \nL 0 3.5 \n\" style=\"stroke: #000000; stroke-width: 0.8\"/>\n      </defs>\n      <g>\n       <use xlink:href=\"#md6b775fe99\" x=\"69.063813\" y=\"273.312\" style=\"stroke: #000000; stroke-width: 0.8\"/>\n      </g>\n     </g>\n     <g id=\"text_1\">\n      <!-- 1 -->\n      <g transform=\"translate(71.823188 286.6745) rotate(-90) scale(0.1 -0.1)\">\n       <defs>\n        <path id=\"DejaVuSans-31\" d=\"M 794 531 \nL 1825 531 \nL 1825 4091 \nL 703 3866 \nL 703 4441 \nL 1819 4666 \nL 2450 4666 \nL 2450 531 \nL 3481 531 \nL 3481 0 \nL 794 0 \nL 794 531 \nz\n\" transform=\"scale(0.015625)\"/>\n       </defs>\n       <use xlink:href=\"#DejaVuSans-31\"/>\n      </g>\n     </g>\n    </g>\n    <g id=\"xtick_2\">\n     <g id=\"line2d_2\">\n      <g>\n       <use xlink:href=\"#md6b775fe99\" x=\"104.775813\" y=\"273.312\" style=\"stroke: #000000; stroke-width: 0.8\"/>\n      </g>\n     </g>\n     <g id=\"text_2\">\n      <!-- 2 -->\n      <g transform=\"translate(107.535188 286.6745) rotate(-90) scale(0.1 -0.1)\">\n       <defs>\n        <path id=\"DejaVuSans-32\" d=\"M 1228 531 \nL 3431 531 \nL 3431 0 \nL 469 0 \nL 469 531 \nQ 828 903 1448 1529 \nQ 2069 2156 2228 2338 \nQ 2531 2678 2651 2914 \nQ 2772 3150 2772 3378 \nQ 2772 3750 2511 3984 \nQ 2250 4219 1831 4219 \nQ 1534 4219 1204 4116 \nQ 875 4013 500 3803 \nL 500 4441 \nQ 881 4594 1212 4672 \nQ 1544 4750 1819 4750 \nQ 2544 4750 2975 4387 \nQ 3406 4025 3406 3419 \nQ 3406 3131 3298 2873 \nQ 3191 2616 2906 2266 \nQ 2828 2175 2409 1742 \nQ 1991 1309 1228 531 \nz\n\" transform=\"scale(0.015625)\"/>\n       </defs>\n       <use xlink:href=\"#DejaVuSans-32\"/>\n      </g>\n     </g>\n    </g>\n    <g id=\"xtick_3\">\n     <g id=\"line2d_3\">\n      <g>\n       <use xlink:href=\"#md6b775fe99\" x=\"140.487813\" y=\"273.312\" style=\"stroke: #000000; stroke-width: 0.8\"/>\n      </g>\n     </g>\n     <g id=\"text_3\">\n      <!-- 3 -->\n      <g transform=\"translate(143.247188 286.6745) rotate(-90) scale(0.1 -0.1)\">\n       <defs>\n        <path id=\"DejaVuSans-33\" d=\"M 2597 2516 \nQ 3050 2419 3304 2112 \nQ 3559 1806 3559 1356 \nQ 3559 666 3084 287 \nQ 2609 -91 1734 -91 \nQ 1441 -91 1130 -33 \nQ 819 25 488 141 \nL 488 750 \nQ 750 597 1062 519 \nQ 1375 441 1716 441 \nQ 2309 441 2620 675 \nQ 2931 909 2931 1356 \nQ 2931 1769 2642 2001 \nQ 2353 2234 1838 2234 \nL 1294 2234 \nL 1294 2753 \nL 1863 2753 \nQ 2328 2753 2575 2939 \nQ 2822 3125 2822 3475 \nQ 2822 3834 2567 4026 \nQ 2313 4219 1838 4219 \nQ 1578 4219 1281 4162 \nQ 984 4106 628 3988 \nL 628 4550 \nQ 988 4650 1302 4700 \nQ 1616 4750 1894 4750 \nQ 2613 4750 3031 4423 \nQ 3450 4097 3450 3541 \nQ 3450 3153 3228 2886 \nQ 3006 2619 2597 2516 \nz\n\" transform=\"scale(0.015625)\"/>\n       </defs>\n       <use xlink:href=\"#DejaVuSans-33\"/>\n      </g>\n     </g>\n    </g>\n    <g id=\"xtick_4\">\n     <g id=\"line2d_4\">\n      <g>\n       <use xlink:href=\"#md6b775fe99\" x=\"176.199813\" y=\"273.312\" style=\"stroke: #000000; stroke-width: 0.8\"/>\n      </g>\n     </g>\n     <g id=\"text_4\">\n      <!-- 4 -->\n      <g transform=\"translate(178.959188 286.6745) rotate(-90) scale(0.1 -0.1)\">\n       <defs>\n        <path id=\"DejaVuSans-34\" d=\"M 2419 4116 \nL 825 1625 \nL 2419 1625 \nL 2419 4116 \nz\nM 2253 4666 \nL 3047 4666 \nL 3047 1625 \nL 3713 1625 \nL 3713 1100 \nL 3047 1100 \nL 3047 0 \nL 2419 0 \nL 2419 1100 \nL 313 1100 \nL 313 1709 \nL 2253 4666 \nz\n\" transform=\"scale(0.015625)\"/>\n       </defs>\n       <use xlink:href=\"#DejaVuSans-34\"/>\n      </g>\n     </g>\n    </g>\n    <g id=\"xtick_5\">\n     <g id=\"line2d_5\">\n      <g>\n       <use xlink:href=\"#md6b775fe99\" x=\"211.911813\" y=\"273.312\" style=\"stroke: #000000; stroke-width: 0.8\"/>\n      </g>\n     </g>\n     <g id=\"text_5\">\n      <!-- 5 -->\n      <g transform=\"translate(214.671188 286.6745) rotate(-90) scale(0.1 -0.1)\">\n       <defs>\n        <path id=\"DejaVuSans-35\" d=\"M 691 4666 \nL 3169 4666 \nL 3169 4134 \nL 1269 4134 \nL 1269 2991 \nQ 1406 3038 1543 3061 \nQ 1681 3084 1819 3084 \nQ 2600 3084 3056 2656 \nQ 3513 2228 3513 1497 \nQ 3513 744 3044 326 \nQ 2575 -91 1722 -91 \nQ 1428 -91 1123 -41 \nQ 819 9 494 109 \nL 494 744 \nQ 775 591 1075 516 \nQ 1375 441 1709 441 \nQ 2250 441 2565 725 \nQ 2881 1009 2881 1497 \nQ 2881 1984 2565 2268 \nQ 2250 2553 1709 2553 \nQ 1456 2553 1204 2497 \nQ 953 2441 691 2322 \nL 691 4666 \nz\n\" transform=\"scale(0.015625)\"/>\n       </defs>\n       <use xlink:href=\"#DejaVuSans-35\"/>\n      </g>\n     </g>\n    </g>\n    <g id=\"xtick_6\">\n     <g id=\"line2d_6\">\n      <g>\n       <use xlink:href=\"#md6b775fe99\" x=\"247.623813\" y=\"273.312\" style=\"stroke: #000000; stroke-width: 0.8\"/>\n      </g>\n     </g>\n     <g id=\"text_6\">\n      <!-- 6 -->\n      <g transform=\"translate(250.383188 286.6745) rotate(-90) scale(0.1 -0.1)\">\n       <defs>\n        <path id=\"DejaVuSans-36\" d=\"M 2113 2584 \nQ 1688 2584 1439 2293 \nQ 1191 2003 1191 1497 \nQ 1191 994 1439 701 \nQ 1688 409 2113 409 \nQ 2538 409 2786 701 \nQ 3034 994 3034 1497 \nQ 3034 2003 2786 2293 \nQ 2538 2584 2113 2584 \nz\nM 3366 4563 \nL 3366 3988 \nQ 3128 4100 2886 4159 \nQ 2644 4219 2406 4219 \nQ 1781 4219 1451 3797 \nQ 1122 3375 1075 2522 \nQ 1259 2794 1537 2939 \nQ 1816 3084 2150 3084 \nQ 2853 3084 3261 2657 \nQ 3669 2231 3669 1497 \nQ 3669 778 3244 343 \nQ 2819 -91 2113 -91 \nQ 1303 -91 875 529 \nQ 447 1150 447 2328 \nQ 447 3434 972 4092 \nQ 1497 4750 2381 4750 \nQ 2619 4750 2861 4703 \nQ 3103 4656 3366 4563 \nz\n\" transform=\"scale(0.015625)\"/>\n       </defs>\n       <use xlink:href=\"#DejaVuSans-36\"/>\n      </g>\n     </g>\n    </g>\n    <g id=\"xtick_7\">\n     <g id=\"line2d_7\">\n      <g>\n       <use xlink:href=\"#md6b775fe99\" x=\"283.335813\" y=\"273.312\" style=\"stroke: #000000; stroke-width: 0.8\"/>\n      </g>\n     </g>\n     <g id=\"text_7\">\n      <!-- 7 -->\n      <g transform=\"translate(286.095188 286.6745) rotate(-90) scale(0.1 -0.1)\">\n       <defs>\n        <path id=\"DejaVuSans-37\" d=\"M 525 4666 \nL 3525 4666 \nL 3525 4397 \nL 1831 0 \nL 1172 0 \nL 2766 4134 \nL 525 4134 \nL 525 4666 \nz\n\" transform=\"scale(0.015625)\"/>\n       </defs>\n       <use xlink:href=\"#DejaVuSans-37\"/>\n      </g>\n     </g>\n    </g>\n    <g id=\"xtick_8\">\n     <g id=\"line2d_8\">\n      <g>\n       <use xlink:href=\"#md6b775fe99\" x=\"319.047813\" y=\"273.312\" style=\"stroke: #000000; stroke-width: 0.8\"/>\n      </g>\n     </g>\n     <g id=\"text_8\">\n      <!-- 8 -->\n      <g transform=\"translate(321.807188 286.6745) rotate(-90) scale(0.1 -0.1)\">\n       <defs>\n        <path id=\"DejaVuSans-38\" d=\"M 2034 2216 \nQ 1584 2216 1326 1975 \nQ 1069 1734 1069 1313 \nQ 1069 891 1326 650 \nQ 1584 409 2034 409 \nQ 2484 409 2743 651 \nQ 3003 894 3003 1313 \nQ 3003 1734 2745 1975 \nQ 2488 2216 2034 2216 \nz\nM 1403 2484 \nQ 997 2584 770 2862 \nQ 544 3141 544 3541 \nQ 544 4100 942 4425 \nQ 1341 4750 2034 4750 \nQ 2731 4750 3128 4425 \nQ 3525 4100 3525 3541 \nQ 3525 3141 3298 2862 \nQ 3072 2584 2669 2484 \nQ 3125 2378 3379 2068 \nQ 3634 1759 3634 1313 \nQ 3634 634 3220 271 \nQ 2806 -91 2034 -91 \nQ 1263 -91 848 271 \nQ 434 634 434 1313 \nQ 434 1759 690 2068 \nQ 947 2378 1403 2484 \nz\nM 1172 3481 \nQ 1172 3119 1398 2916 \nQ 1625 2713 2034 2713 \nQ 2441 2713 2670 2916 \nQ 2900 3119 2900 3481 \nQ 2900 3844 2670 4047 \nQ 2441 4250 2034 4250 \nQ 1625 4250 1398 4047 \nQ 1172 3844 1172 3481 \nz\n\" transform=\"scale(0.015625)\"/>\n       </defs>\n       <use xlink:href=\"#DejaVuSans-38\"/>\n      </g>\n     </g>\n    </g>\n    <g id=\"xtick_9\">\n     <g id=\"line2d_9\">\n      <g>\n       <use xlink:href=\"#md6b775fe99\" x=\"354.759813\" y=\"273.312\" style=\"stroke: #000000; stroke-width: 0.8\"/>\n      </g>\n     </g>\n     <g id=\"text_9\">\n      <!-- 9 -->\n      <g transform=\"translate(357.519188 286.6745) rotate(-90) scale(0.1 -0.1)\">\n       <defs>\n        <path id=\"DejaVuSans-39\" d=\"M 703 97 \nL 703 672 \nQ 941 559 1184 500 \nQ 1428 441 1663 441 \nQ 2288 441 2617 861 \nQ 2947 1281 2994 2138 \nQ 2813 1869 2534 1725 \nQ 2256 1581 1919 1581 \nQ 1219 1581 811 2004 \nQ 403 2428 403 3163 \nQ 403 3881 828 4315 \nQ 1253 4750 1959 4750 \nQ 2769 4750 3195 4129 \nQ 3622 3509 3622 2328 \nQ 3622 1225 3098 567 \nQ 2575 -91 1691 -91 \nQ 1453 -91 1209 -44 \nQ 966 3 703 97 \nz\nM 1959 2075 \nQ 2384 2075 2632 2365 \nQ 2881 2656 2881 3163 \nQ 2881 3666 2632 3958 \nQ 2384 4250 1959 4250 \nQ 1534 4250 1286 3958 \nQ 1038 3666 1038 3163 \nQ 1038 2656 1286 2365 \nQ 1534 2075 1959 2075 \nz\n\" transform=\"scale(0.015625)\"/>\n       </defs>\n       <use xlink:href=\"#DejaVuSans-39\"/>\n      </g>\n     </g>\n    </g>\n    <g id=\"xtick_10\">\n     <g id=\"line2d_10\">\n      <g>\n       <use xlink:href=\"#md6b775fe99\" x=\"390.471813\" y=\"273.312\" style=\"stroke: #000000; stroke-width: 0.8\"/>\n      </g>\n     </g>\n     <g id=\"text_10\">\n      <!-- 10 -->\n      <g transform=\"translate(393.231188 293.037) rotate(-90) scale(0.1 -0.1)\">\n       <defs>\n        <path id=\"DejaVuSans-30\" d=\"M 2034 4250 \nQ 1547 4250 1301 3770 \nQ 1056 3291 1056 2328 \nQ 1056 1369 1301 889 \nQ 1547 409 2034 409 \nQ 2525 409 2770 889 \nQ 3016 1369 3016 2328 \nQ 3016 3291 2770 3770 \nQ 2525 4250 2034 4250 \nz\nM 2034 4750 \nQ 2819 4750 3233 4129 \nQ 3647 3509 3647 2328 \nQ 3647 1150 3233 529 \nQ 2819 -91 2034 -91 \nQ 1250 -91 836 529 \nQ 422 1150 422 2328 \nQ 422 3509 836 4129 \nQ 1250 4750 2034 4750 \nz\n\" transform=\"scale(0.015625)\"/>\n       </defs>\n       <use xlink:href=\"#DejaVuSans-31\"/>\n       <use xlink:href=\"#DejaVuSans-30\" x=\"63.623047\"/>\n      </g>\n     </g>\n    </g>\n    <g id=\"text_11\">\n     <!-- PBR_score -->\n     <g transform=\"translate(203.915469 304.357312) scale(0.1 -0.1)\">\n      <defs>\n       <path id=\"DejaVuSans-50\" d=\"M 1259 4147 \nL 1259 2394 \nL 2053 2394 \nQ 2494 2394 2734 2622 \nQ 2975 2850 2975 3272 \nQ 2975 3691 2734 3919 \nQ 2494 4147 2053 4147 \nL 1259 4147 \nz\nM 628 4666 \nL 2053 4666 \nQ 2838 4666 3239 4311 \nQ 3641 3956 3641 3272 \nQ 3641 2581 3239 2228 \nQ 2838 1875 2053 1875 \nL 1259 1875 \nL 1259 0 \nL 628 0 \nL 628 4666 \nz\n\" transform=\"scale(0.015625)\"/>\n       <path id=\"DejaVuSans-42\" d=\"M 1259 2228 \nL 1259 519 \nL 2272 519 \nQ 2781 519 3026 730 \nQ 3272 941 3272 1375 \nQ 3272 1813 3026 2020 \nQ 2781 2228 2272 2228 \nL 1259 2228 \nz\nM 1259 4147 \nL 1259 2741 \nL 2194 2741 \nQ 2656 2741 2882 2914 \nQ 3109 3088 3109 3444 \nQ 3109 3797 2882 3972 \nQ 2656 4147 2194 4147 \nL 1259 4147 \nz\nM 628 4666 \nL 2241 4666 \nQ 2963 4666 3353 4366 \nQ 3744 4066 3744 3513 \nQ 3744 3084 3544 2831 \nQ 3344 2578 2956 2516 \nQ 3422 2416 3680 2098 \nQ 3938 1781 3938 1306 \nQ 3938 681 3513 340 \nQ 3088 0 2303 0 \nL 628 0 \nL 628 4666 \nz\n\" transform=\"scale(0.015625)\"/>\n       <path id=\"DejaVuSans-52\" d=\"M 2841 2188 \nQ 3044 2119 3236 1894 \nQ 3428 1669 3622 1275 \nL 4263 0 \nL 3584 0 \nL 2988 1197 \nQ 2756 1666 2539 1819 \nQ 2322 1972 1947 1972 \nL 1259 1972 \nL 1259 0 \nL 628 0 \nL 628 4666 \nL 2053 4666 \nQ 2853 4666 3247 4331 \nQ 3641 3997 3641 3322 \nQ 3641 2881 3436 2590 \nQ 3231 2300 2841 2188 \nz\nM 1259 4147 \nL 1259 2491 \nL 2053 2491 \nQ 2509 2491 2742 2702 \nQ 2975 2913 2975 3322 \nQ 2975 3731 2742 3939 \nQ 2509 4147 2053 4147 \nL 1259 4147 \nz\n\" transform=\"scale(0.015625)\"/>\n       <path id=\"DejaVuSans-5f\" d=\"M 3263 -1063 \nL 3263 -1509 \nL -63 -1509 \nL -63 -1063 \nL 3263 -1063 \nz\n\" transform=\"scale(0.015625)\"/>\n       <path id=\"DejaVuSans-73\" d=\"M 2834 3397 \nL 2834 2853 \nQ 2591 2978 2328 3040 \nQ 2066 3103 1784 3103 \nQ 1356 3103 1142 2972 \nQ 928 2841 928 2578 \nQ 928 2378 1081 2264 \nQ 1234 2150 1697 2047 \nL 1894 2003 \nQ 2506 1872 2764 1633 \nQ 3022 1394 3022 966 \nQ 3022 478 2636 193 \nQ 2250 -91 1575 -91 \nQ 1294 -91 989 -36 \nQ 684 19 347 128 \nL 347 722 \nQ 666 556 975 473 \nQ 1284 391 1588 391 \nQ 1994 391 2212 530 \nQ 2431 669 2431 922 \nQ 2431 1156 2273 1281 \nQ 2116 1406 1581 1522 \nL 1381 1569 \nQ 847 1681 609 1914 \nQ 372 2147 372 2553 \nQ 372 3047 722 3315 \nQ 1072 3584 1716 3584 \nQ 2034 3584 2315 3537 \nQ 2597 3491 2834 3397 \nz\n\" transform=\"scale(0.015625)\"/>\n       <path id=\"DejaVuSans-63\" d=\"M 3122 3366 \nL 3122 2828 \nQ 2878 2963 2633 3030 \nQ 2388 3097 2138 3097 \nQ 1578 3097 1268 2742 \nQ 959 2388 959 1747 \nQ 959 1106 1268 751 \nQ 1578 397 2138 397 \nQ 2388 397 2633 464 \nQ 2878 531 3122 666 \nL 3122 134 \nQ 2881 22 2623 -34 \nQ 2366 -91 2075 -91 \nQ 1284 -91 818 406 \nQ 353 903 353 1747 \nQ 353 2603 823 3093 \nQ 1294 3584 2113 3584 \nQ 2378 3584 2631 3529 \nQ 2884 3475 3122 3366 \nz\n\" transform=\"scale(0.015625)\"/>\n       <path id=\"DejaVuSans-6f\" d=\"M 1959 3097 \nQ 1497 3097 1228 2736 \nQ 959 2375 959 1747 \nQ 959 1119 1226 758 \nQ 1494 397 1959 397 \nQ 2419 397 2687 759 \nQ 2956 1122 2956 1747 \nQ 2956 2369 2687 2733 \nQ 2419 3097 1959 3097 \nz\nM 1959 3584 \nQ 2709 3584 3137 3096 \nQ 3566 2609 3566 1747 \nQ 3566 888 3137 398 \nQ 2709 -91 1959 -91 \nQ 1206 -91 779 398 \nQ 353 888 353 1747 \nQ 353 2609 779 3096 \nQ 1206 3584 1959 3584 \nz\n\" transform=\"scale(0.015625)\"/>\n       <path id=\"DejaVuSans-72\" d=\"M 2631 2963 \nQ 2534 3019 2420 3045 \nQ 2306 3072 2169 3072 \nQ 1681 3072 1420 2755 \nQ 1159 2438 1159 1844 \nL 1159 0 \nL 581 0 \nL 581 3500 \nL 1159 3500 \nL 1159 2956 \nQ 1341 3275 1631 3429 \nQ 1922 3584 2338 3584 \nQ 2397 3584 2469 3576 \nQ 2541 3569 2628 3553 \nL 2631 2963 \nz\n\" transform=\"scale(0.015625)\"/>\n       <path id=\"DejaVuSans-65\" d=\"M 3597 1894 \nL 3597 1613 \nL 953 1613 \nQ 991 1019 1311 708 \nQ 1631 397 2203 397 \nQ 2534 397 2845 478 \nQ 3156 559 3463 722 \nL 3463 178 \nQ 3153 47 2828 -22 \nQ 2503 -91 2169 -91 \nQ 1331 -91 842 396 \nQ 353 884 353 1716 \nQ 353 2575 817 3079 \nQ 1281 3584 2069 3584 \nQ 2775 3584 3186 3129 \nQ 3597 2675 3597 1894 \nz\nM 3022 2063 \nQ 3016 2534 2758 2815 \nQ 2500 3097 2075 3097 \nQ 1594 3097 1305 2825 \nQ 1016 2553 972 2059 \nL 3022 2063 \nz\n\" transform=\"scale(0.015625)\"/>\n      </defs>\n      <use xlink:href=\"#DejaVuSans-50\"/>\n      <use xlink:href=\"#DejaVuSans-42\" x=\"60.302734\"/>\n      <use xlink:href=\"#DejaVuSans-52\" x=\"128.90625\"/>\n      <use xlink:href=\"#DejaVuSans-5f\" x=\"198.388672\"/>\n      <use xlink:href=\"#DejaVuSans-73\" x=\"248.388672\"/>\n      <use xlink:href=\"#DejaVuSans-63\" x=\"300.488281\"/>\n      <use xlink:href=\"#DejaVuSans-6f\" x=\"355.46875\"/>\n      <use xlink:href=\"#DejaVuSans-72\" x=\"416.650391\"/>\n      <use xlink:href=\"#DejaVuSans-65\" x=\"455.513672\"/>\n     </g>\n    </g>\n   </g>\n   <g id=\"matplotlib.axis_2\">\n    <g id=\"ytick_1\">\n     <g id=\"line2d_11\">\n      <defs>\n       <path id=\"m793f07cf83\" d=\"M 0 0 \nL -3.5 0 \n\" style=\"stroke: #000000; stroke-width: 0.8\"/>\n      </defs>\n      <g>\n       <use xlink:href=\"#m793f07cf83\" x=\"51.207813\" y=\"269.114582\" style=\"stroke: #000000; stroke-width: 0.8\"/>\n      </g>\n     </g>\n     <g id=\"text_12\">\n      <!-- −0.050 -->\n      <g transform=\"translate(7.2 272.913801) scale(0.1 -0.1)\">\n       <defs>\n        <path id=\"DejaVuSans-2212\" d=\"M 678 2272 \nL 4684 2272 \nL 4684 1741 \nL 678 1741 \nL 678 2272 \nz\n\" transform=\"scale(0.015625)\"/>\n        <path id=\"DejaVuSans-2e\" d=\"M 684 794 \nL 1344 794 \nL 1344 0 \nL 684 0 \nL 684 794 \nz\n\" transform=\"scale(0.015625)\"/>\n       </defs>\n       <use xlink:href=\"#DejaVuSans-2212\"/>\n       <use xlink:href=\"#DejaVuSans-30\" x=\"83.789062\"/>\n       <use xlink:href=\"#DejaVuSans-2e\" x=\"147.412109\"/>\n       <use xlink:href=\"#DejaVuSans-30\" x=\"179.199219\"/>\n       <use xlink:href=\"#DejaVuSans-35\" x=\"242.822266\"/>\n       <use xlink:href=\"#DejaVuSans-30\" x=\"306.445312\"/>\n      </g>\n     </g>\n    </g>\n    <g id=\"ytick_2\">\n     <g id=\"line2d_12\">\n      <g>\n       <use xlink:href=\"#m793f07cf83\" x=\"51.207813\" y=\"239.513075\" style=\"stroke: #000000; stroke-width: 0.8\"/>\n      </g>\n     </g>\n     <g id=\"text_13\">\n      <!-- −0.025 -->\n      <g transform=\"translate(7.2 243.312294) scale(0.1 -0.1)\">\n       <use xlink:href=\"#DejaVuSans-2212\"/>\n       <use xlink:href=\"#DejaVuSans-30\" x=\"83.789062\"/>\n       <use xlink:href=\"#DejaVuSans-2e\" x=\"147.412109\"/>\n       <use xlink:href=\"#DejaVuSans-30\" x=\"179.199219\"/>\n       <use xlink:href=\"#DejaVuSans-32\" x=\"242.822266\"/>\n       <use xlink:href=\"#DejaVuSans-35\" x=\"306.445312\"/>\n      </g>\n     </g>\n    </g>\n    <g id=\"ytick_3\">\n     <g id=\"line2d_13\">\n      <g>\n       <use xlink:href=\"#m793f07cf83\" x=\"51.207813\" y=\"209.911567\" style=\"stroke: #000000; stroke-width: 0.8\"/>\n      </g>\n     </g>\n     <g id=\"text_14\">\n      <!-- 0.000 -->\n      <g transform=\"translate(15.579688 213.710786) scale(0.1 -0.1)\">\n       <use xlink:href=\"#DejaVuSans-30\"/>\n       <use xlink:href=\"#DejaVuSans-2e\" x=\"63.623047\"/>\n       <use xlink:href=\"#DejaVuSans-30\" x=\"95.410156\"/>\n       <use xlink:href=\"#DejaVuSans-30\" x=\"159.033203\"/>\n       <use xlink:href=\"#DejaVuSans-30\" x=\"222.65625\"/>\n      </g>\n     </g>\n    </g>\n    <g id=\"ytick_4\">\n     <g id=\"line2d_14\">\n      <g>\n       <use xlink:href=\"#m793f07cf83\" x=\"51.207813\" y=\"180.31006\" style=\"stroke: #000000; stroke-width: 0.8\"/>\n      </g>\n     </g>\n     <g id=\"text_15\">\n      <!-- 0.025 -->\n      <g transform=\"translate(15.579688 184.109279) scale(0.1 -0.1)\">\n       <use xlink:href=\"#DejaVuSans-30\"/>\n       <use xlink:href=\"#DejaVuSans-2e\" x=\"63.623047\"/>\n       <use xlink:href=\"#DejaVuSans-30\" x=\"95.410156\"/>\n       <use xlink:href=\"#DejaVuSans-32\" x=\"159.033203\"/>\n       <use xlink:href=\"#DejaVuSans-35\" x=\"222.65625\"/>\n      </g>\n     </g>\n    </g>\n    <g id=\"ytick_5\">\n     <g id=\"line2d_15\">\n      <g>\n       <use xlink:href=\"#m793f07cf83\" x=\"51.207813\" y=\"150.708552\" style=\"stroke: #000000; stroke-width: 0.8\"/>\n      </g>\n     </g>\n     <g id=\"text_16\">\n      <!-- 0.050 -->\n      <g transform=\"translate(15.579688 154.507771) scale(0.1 -0.1)\">\n       <use xlink:href=\"#DejaVuSans-30\"/>\n       <use xlink:href=\"#DejaVuSans-2e\" x=\"63.623047\"/>\n       <use xlink:href=\"#DejaVuSans-30\" x=\"95.410156\"/>\n       <use xlink:href=\"#DejaVuSans-35\" x=\"159.033203\"/>\n       <use xlink:href=\"#DejaVuSans-30\" x=\"222.65625\"/>\n      </g>\n     </g>\n    </g>\n    <g id=\"ytick_6\">\n     <g id=\"line2d_16\">\n      <g>\n       <use xlink:href=\"#m793f07cf83\" x=\"51.207813\" y=\"121.107045\" style=\"stroke: #000000; stroke-width: 0.8\"/>\n      </g>\n     </g>\n     <g id=\"text_17\">\n      <!-- 0.075 -->\n      <g transform=\"translate(15.579688 124.906264) scale(0.1 -0.1)\">\n       <use xlink:href=\"#DejaVuSans-30\"/>\n       <use xlink:href=\"#DejaVuSans-2e\" x=\"63.623047\"/>\n       <use xlink:href=\"#DejaVuSans-30\" x=\"95.410156\"/>\n       <use xlink:href=\"#DejaVuSans-37\" x=\"159.033203\"/>\n       <use xlink:href=\"#DejaVuSans-35\" x=\"222.65625\"/>\n      </g>\n     </g>\n    </g>\n    <g id=\"ytick_7\">\n     <g id=\"line2d_17\">\n      <g>\n       <use xlink:href=\"#m793f07cf83\" x=\"51.207813\" y=\"91.505537\" style=\"stroke: #000000; stroke-width: 0.8\"/>\n      </g>\n     </g>\n     <g id=\"text_18\">\n      <!-- 0.100 -->\n      <g transform=\"translate(15.579688 95.304756) scale(0.1 -0.1)\">\n       <use xlink:href=\"#DejaVuSans-30\"/>\n       <use xlink:href=\"#DejaVuSans-2e\" x=\"63.623047\"/>\n       <use xlink:href=\"#DejaVuSans-31\" x=\"95.410156\"/>\n       <use xlink:href=\"#DejaVuSans-30\" x=\"159.033203\"/>\n       <use xlink:href=\"#DejaVuSans-30\" x=\"222.65625\"/>\n      </g>\n     </g>\n    </g>\n    <g id=\"ytick_8\">\n     <g id=\"line2d_18\">\n      <g>\n       <use xlink:href=\"#m793f07cf83\" x=\"51.207813\" y=\"61.90403\" style=\"stroke: #000000; stroke-width: 0.8\"/>\n      </g>\n     </g>\n     <g id=\"text_19\">\n      <!-- 0.125 -->\n      <g transform=\"translate(15.579688 65.703248) scale(0.1 -0.1)\">\n       <use xlink:href=\"#DejaVuSans-30\"/>\n       <use xlink:href=\"#DejaVuSans-2e\" x=\"63.623047\"/>\n       <use xlink:href=\"#DejaVuSans-31\" x=\"95.410156\"/>\n       <use xlink:href=\"#DejaVuSans-32\" x=\"159.033203\"/>\n       <use xlink:href=\"#DejaVuSans-35\" x=\"222.65625\"/>\n      </g>\n     </g>\n    </g>\n    <g id=\"ytick_9\">\n     <g id=\"line2d_19\">\n      <g>\n       <use xlink:href=\"#m793f07cf83\" x=\"51.207813\" y=\"32.302522\" style=\"stroke: #000000; stroke-width: 0.8\"/>\n      </g>\n     </g>\n     <g id=\"text_20\">\n      <!-- 0.150 -->\n      <g transform=\"translate(15.579688 36.101741) scale(0.1 -0.1)\">\n       <use xlink:href=\"#DejaVuSans-30\"/>\n       <use xlink:href=\"#DejaVuSans-2e\" x=\"63.623047\"/>\n       <use xlink:href=\"#DejaVuSans-31\" x=\"95.410156\"/>\n       <use xlink:href=\"#DejaVuSans-35\" x=\"159.033203\"/>\n       <use xlink:href=\"#DejaVuSans-30\" x=\"222.65625\"/>\n      </g>\n     </g>\n    </g>\n   </g>\n   <g id=\"patch_13\">\n    <path d=\"M 51.207813 273.312 \nL 51.207813 7.2 \n\" style=\"fill: none; stroke: #000000; stroke-width: 0.8; stroke-linejoin: miter; stroke-linecap: square\"/>\n   </g>\n   <g id=\"patch_14\">\n    <path d=\"M 408.327813 273.312 \nL 408.327813 7.2 \n\" style=\"fill: none; stroke: #000000; stroke-width: 0.8; stroke-linejoin: miter; stroke-linecap: square\"/>\n   </g>\n   <g id=\"patch_15\">\n    <path d=\"M 51.207813 273.312 \nL 408.327813 273.312 \n\" style=\"fill: none; stroke: #000000; stroke-width: 0.8; stroke-linejoin: miter; stroke-linecap: square\"/>\n   </g>\n   <g id=\"patch_16\">\n    <path d=\"M 51.207813 7.2 \nL 408.327813 7.2 \n\" style=\"fill: none; stroke: #000000; stroke-width: 0.8; stroke-linejoin: miter; stroke-linecap: square\"/>\n   </g>\n   <g id=\"legend_1\">\n    <g id=\"patch_17\">\n     <path d=\"M 354.959063 29.878125 \nL 401.327813 29.878125 \nQ 403.327813 29.878125 403.327813 27.878125 \nL 403.327813 14.2 \nQ 403.327813 12.2 401.327813 12.2 \nL 354.959063 12.2 \nQ 352.959063 12.2 352.959063 14.2 \nL 352.959063 27.878125 \nQ 352.959063 29.878125 354.959063 29.878125 \nz\n\" style=\"fill: #ffffff; opacity: 0.8; stroke: #cccccc; stroke-linejoin: miter\"/>\n    </g>\n    <g id=\"patch_18\">\n     <path d=\"M 356.959063 23.798437 \nL 376.959063 23.798437 \nL 376.959063 16.798437 \nL 356.959063 16.798437 \nz\n\" style=\"fill: #1f77b4\"/>\n    </g>\n    <g id=\"text_21\">\n     <!-- rtn -->\n     <g transform=\"translate(384.959063 23.798437) scale(0.1 -0.1)\">\n      <defs>\n       <path id=\"DejaVuSans-74\" d=\"M 1172 4494 \nL 1172 3500 \nL 2356 3500 \nL 2356 3053 \nL 1172 3053 \nL 1172 1153 \nQ 1172 725 1289 603 \nQ 1406 481 1766 481 \nL 2356 481 \nL 2356 0 \nL 1766 0 \nQ 1100 0 847 248 \nQ 594 497 594 1153 \nL 594 3053 \nL 172 3053 \nL 172 3500 \nL 594 3500 \nL 594 4494 \nL 1172 4494 \nz\n\" transform=\"scale(0.015625)\"/>\n       <path id=\"DejaVuSans-6e\" d=\"M 3513 2113 \nL 3513 0 \nL 2938 0 \nL 2938 2094 \nQ 2938 2591 2744 2837 \nQ 2550 3084 2163 3084 \nQ 1697 3084 1428 2787 \nQ 1159 2491 1159 1978 \nL 1159 0 \nL 581 0 \nL 581 3500 \nL 1159 3500 \nL 1159 2956 \nQ 1366 3272 1645 3428 \nQ 1925 3584 2291 3584 \nQ 2894 3584 3203 3211 \nQ 3513 2838 3513 2113 \nz\n\" transform=\"scale(0.015625)\"/>\n      </defs>\n      <use xlink:href=\"#DejaVuSans-72\"/>\n      <use xlink:href=\"#DejaVuSans-74\" x=\"41.113281\"/>\n      <use xlink:href=\"#DejaVuSans-6e\" x=\"80.322266\"/>\n     </g>\n    </g>\n   </g>\n  </g>\n </g>\n <defs>\n  <clipPath id=\"p320caefc67\">\n   <rect x=\"51.207813\" y=\"7.2\" width=\"357.12\" height=\"266.112\"/>\n  </clipPath>\n </defs>\n</svg>\n",
      "image/png": "[encoded data removed]"
     },
     "metadata": {}
    },
    {
     "output_type": "display_data",
     "data": {
      "text/plain": [
       "<Figure size 640x480 with 1 Axes>"
      ],
      "image/svg+xml": "<?xml version=\"1.0\" encoding=\"utf-8\" standalone=\"no\"?>\n<!DOCTYPE svg PUBLIC \"-//W3C//DTD SVG 1.1//EN\"\n  \"http://www.w3.org/Graphics/SVG/1.1/DTD/svg11.dtd\">\n<svg xmlns:xlink=\"http://www.w3.org/1999/xlink\" width=\"409.165312pt\" height=\"313.915125pt\" viewBox=\"0 0 409.165312 313.915125\" xmlns=\"http://www.w3.org/2000/svg\" version=\"1.1\">\n <metadata>\n  <rdf:RDF xmlns:dc=\"http://purl.org/dc/elements/1.1/\" xmlns:cc=\"http://creativecommons.org/ns#\" xmlns:rdf=\"http://www.w3.org/1999/02/22-rdf-syntax-ns#\">\n   <cc:Work>\n    <dc:type rdf:resource=\"http://purl.org/dc/dcmitype/StillImage\"/>\n    <dc:date>2022-12-27T07:59:20.681791</dc:date>\n    <dc:format>image/svg+xml</dc:format>\n    <dc:creator>\n     <cc:Agent>\n      <dc:title>Matplotlib v3.6.2, https://matplotlib.org/</dc:title>\n     </cc:Agent>\n    </dc:creator>\n   </cc:Work>\n  </rdf:RDF>\n </metadata>\n <defs>\n  <style type=\"text/css\">*{stroke-linejoin: round; stroke-linecap: butt}</style>\n </defs>\n <g id=\"figure_1\">\n  <g id=\"patch_1\">\n   <path d=\"M 0 313.915125 \nL 409.165312 313.915125 \nL 409.165312 0 \nL 0 0 \nz\n\" style=\"fill: #ffffff\"/>\n  </g>\n  <g id=\"axes_1\">\n   <g id=\"patch_2\">\n    <path d=\"M 44.845313 273.312 \nL 401.965312 273.312 \nL 401.965312 7.2 \nL 44.845313 7.2 \nz\n\" style=\"fill: #ffffff\"/>\n   </g>\n   <g id=\"patch_3\">\n    <path d=\"M 53.773313 189.019487 \nL 71.629312 189.019487 \nL 71.629312 242.737704 \nL 53.773313 242.737704 \nz\n\" clip-path=\"url(#pa5410c077a)\" style=\"fill: #1f77b4\"/>\n   </g>\n   <g id=\"patch_4\">\n    <path d=\"M 89.485313 189.019487 \nL 107.341313 189.019487 \nL 107.341313 261.216 \nL 89.485313 261.216 \nz\n\" clip-path=\"url(#pa5410c077a)\" style=\"fill: #1f77b4\"/>\n   </g>\n   <g id=\"patch_5\">\n    <path d=\"M 125.197313 189.019487 \nL 143.053313 189.019487 \nL 143.053313 221.628172 \nL 125.197313 221.628172 \nz\n\" clip-path=\"url(#pa5410c077a)\" style=\"fill: #1f77b4\"/>\n   </g>\n   <g id=\"patch_6\">\n    <path d=\"M 160.909313 189.019487 \nL 178.765313 189.019487 \nL 178.765313 140.248058 \nL 160.909313 140.248058 \nz\n\" clip-path=\"url(#pa5410c077a)\" style=\"fill: #1f77b4\"/>\n   </g>\n   <g id=\"patch_7\">\n    <path d=\"M 196.621313 189.019487 \nL 214.477313 189.019487 \nL 214.477313 188.952979 \nL 196.621313 188.952979 \nz\n\" clip-path=\"url(#pa5410c077a)\" style=\"fill: #1f77b4\"/>\n   </g>\n   <g id=\"patch_8\">\n    <path d=\"M 232.333313 189.019487 \nL 250.189312 189.019487 \nL 250.189312 106.271866 \nL 232.333313 106.271866 \nz\n\" clip-path=\"url(#pa5410c077a)\" style=\"fill: #1f77b4\"/>\n   </g>\n   <g id=\"patch_9\">\n    <path d=\"M 268.045313 189.019487 \nL 285.901313 189.019487 \nL 285.901313 58.323508 \nL 268.045313 58.323508 \nz\n\" clip-path=\"url(#pa5410c077a)\" style=\"fill: #1f77b4\"/>\n   </g>\n   <g id=\"patch_10\">\n    <path d=\"M 303.757313 189.019487 \nL 321.613313 189.019487 \nL 321.613313 63.883139 \nL 303.757313 63.883139 \nz\n\" clip-path=\"url(#pa5410c077a)\" style=\"fill: #1f77b4\"/>\n   </g>\n   <g id=\"patch_11\">\n    <path d=\"M 339.469313 189.019487 \nL 357.325313 189.019487 \nL 357.325313 147.377779 \nL 339.469313 147.377779 \nz\n\" clip-path=\"url(#pa5410c077a)\" style=\"fill: #1f77b4\"/>\n   </g>\n   <g id=\"patch_12\">\n    <path d=\"M 375.181313 189.019487 \nL 393.037313 189.019487 \nL 393.037313 19.296 \nL 375.181313 19.296 \nz\n\" clip-path=\"url(#pa5410c077a)\" style=\"fill: #1f77b4\"/>\n   </g>\n   <g id=\"matplotlib.axis_1\">\n    <g id=\"xtick_1\">\n     <g id=\"line2d_1\">\n      <defs>\n       <path id=\"ma0a188fa74\" d=\"M 0 0 \nL 0 3.5 \n\" style=\"stroke: #000000; stroke-width: 0.8\"/>\n      </defs>\n      <g>\n       <use xlink:href=\"#ma0a188fa74\" x=\"62.701313\" y=\"273.312\" style=\"stroke: #000000; stroke-width: 0.8\"/>\n      </g>\n     </g>\n     <g id=\"text_1\">\n      <!-- 1 -->\n      <g transform=\"translate(65.460688 286.6745) rotate(-90) scale(0.1 -0.1)\">\n       <defs>\n        <path id=\"DejaVuSans-31\" d=\"M 794 531 \nL 1825 531 \nL 1825 4091 \nL 703 3866 \nL 703 4441 \nL 1819 4666 \nL 2450 4666 \nL 2450 531 \nL 3481 531 \nL 3481 0 \nL 794 0 \nL 794 531 \nz\n\" transform=\"scale(0.015625)\"/>\n       </defs>\n       <use xlink:href=\"#DejaVuSans-31\"/>\n      </g>\n     </g>\n    </g>\n    <g id=\"xtick_2\">\n     <g id=\"line2d_2\">\n      <g>\n       <use xlink:href=\"#ma0a188fa74\" x=\"98.413313\" y=\"273.312\" style=\"stroke: #000000; stroke-width: 0.8\"/>\n      </g>\n     </g>\n     <g id=\"text_2\">\n      <!-- 2 -->\n      <g transform=\"translate(101.172688 286.6745) rotate(-90) scale(0.1 -0.1)\">\n       <defs>\n        <path id=\"DejaVuSans-32\" d=\"M 1228 531 \nL 3431 531 \nL 3431 0 \nL 469 0 \nL 469 531 \nQ 828 903 1448 1529 \nQ 2069 2156 2228 2338 \nQ 2531 2678 2651 2914 \nQ 2772 3150 2772 3378 \nQ 2772 3750 2511 3984 \nQ 2250 4219 1831 4219 \nQ 1534 4219 1204 4116 \nQ 875 4013 500 3803 \nL 500 4441 \nQ 881 4594 1212 4672 \nQ 1544 4750 1819 4750 \nQ 2544 4750 2975 4387 \nQ 3406 4025 3406 3419 \nQ 3406 3131 3298 2873 \nQ 3191 2616 2906 2266 \nQ 2828 2175 2409 1742 \nQ 1991 1309 1228 531 \nz\n\" transform=\"scale(0.015625)\"/>\n       </defs>\n       <use xlink:href=\"#DejaVuSans-32\"/>\n      </g>\n     </g>\n    </g>\n    <g id=\"xtick_3\">\n     <g id=\"line2d_3\">\n      <g>\n       <use xlink:href=\"#ma0a188fa74\" x=\"134.125313\" y=\"273.312\" style=\"stroke: #000000; stroke-width: 0.8\"/>\n      </g>\n     </g>\n     <g id=\"text_3\">\n      <!-- 3 -->\n      <g transform=\"translate(136.884688 286.6745) rotate(-90) scale(0.1 -0.1)\">\n       <defs>\n        <path id=\"DejaVuSans-33\" d=\"M 2597 2516 \nQ 3050 2419 3304 2112 \nQ 3559 1806 3559 1356 \nQ 3559 666 3084 287 \nQ 2609 -91 1734 -91 \nQ 1441 -91 1130 -33 \nQ 819 25 488 141 \nL 488 750 \nQ 750 597 1062 519 \nQ 1375 441 1716 441 \nQ 2309 441 2620 675 \nQ 2931 909 2931 1356 \nQ 2931 1769 2642 2001 \nQ 2353 2234 1838 2234 \nL 1294 2234 \nL 1294 2753 \nL 1863 2753 \nQ 2328 2753 2575 2939 \nQ 2822 3125 2822 3475 \nQ 2822 3834 2567 4026 \nQ 2313 4219 1838 4219 \nQ 1578 4219 1281 4162 \nQ 984 4106 628 3988 \nL 628 4550 \nQ 988 4650 1302 4700 \nQ 1616 4750 1894 4750 \nQ 2613 4750 3031 4423 \nQ 3450 4097 3450 3541 \nQ 3450 3153 3228 2886 \nQ 3006 2619 2597 2516 \nz\n\" transform=\"scale(0.015625)\"/>\n       </defs>\n       <use xlink:href=\"#DejaVuSans-33\"/>\n      </g>\n     </g>\n    </g>\n    <g id=\"xtick_4\">\n     <g id=\"line2d_4\">\n      <g>\n       <use xlink:href=\"#ma0a188fa74\" x=\"169.837313\" y=\"273.312\" style=\"stroke: #000000; stroke-width: 0.8\"/>\n      </g>\n     </g>\n     <g id=\"text_4\">\n      <!-- 4 -->\n      <g transform=\"translate(172.596688 286.6745) rotate(-90) scale(0.1 -0.1)\">\n       <defs>\n        <path id=\"DejaVuSans-34\" d=\"M 2419 4116 \nL 825 1625 \nL 2419 1625 \nL 2419 4116 \nz\nM 2253 4666 \nL 3047 4666 \nL 3047 1625 \nL 3713 1625 \nL 3713 1100 \nL 3047 1100 \nL 3047 0 \nL 2419 0 \nL 2419 1100 \nL 313 1100 \nL 313 1709 \nL 2253 4666 \nz\n\" transform=\"scale(0.015625)\"/>\n       </defs>\n       <use xlink:href=\"#DejaVuSans-34\"/>\n      </g>\n     </g>\n    </g>\n    <g id=\"xtick_5\">\n     <g id=\"line2d_5\">\n      <g>\n       <use xlink:href=\"#ma0a188fa74\" x=\"205.549313\" y=\"273.312\" style=\"stroke: #000000; stroke-width: 0.8\"/>\n      </g>\n     </g>\n     <g id=\"text_5\">\n      <!-- 5 -->\n      <g transform=\"translate(208.308688 286.6745) rotate(-90) scale(0.1 -0.1)\">\n       <defs>\n        <path id=\"DejaVuSans-35\" d=\"M 691 4666 \nL 3169 4666 \nL 3169 4134 \nL 1269 4134 \nL 1269 2991 \nQ 1406 3038 1543 3061 \nQ 1681 3084 1819 3084 \nQ 2600 3084 3056 2656 \nQ 3513 2228 3513 1497 \nQ 3513 744 3044 326 \nQ 2575 -91 1722 -91 \nQ 1428 -91 1123 -41 \nQ 819 9 494 109 \nL 494 744 \nQ 775 591 1075 516 \nQ 1375 441 1709 441 \nQ 2250 441 2565 725 \nQ 2881 1009 2881 1497 \nQ 2881 1984 2565 2268 \nQ 2250 2553 1709 2553 \nQ 1456 2553 1204 2497 \nQ 953 2441 691 2322 \nL 691 4666 \nz\n\" transform=\"scale(0.015625)\"/>\n       </defs>\n       <use xlink:href=\"#DejaVuSans-35\"/>\n      </g>\n     </g>\n    </g>\n    <g id=\"xtick_6\">\n     <g id=\"line2d_6\">\n      <g>\n       <use xlink:href=\"#ma0a188fa74\" x=\"241.261313\" y=\"273.312\" style=\"stroke: #000000; stroke-width: 0.8\"/>\n      </g>\n     </g>\n     <g id=\"text_6\">\n      <!-- 6 -->\n      <g transform=\"translate(244.020688 286.6745) rotate(-90) scale(0.1 -0.1)\">\n       <defs>\n        <path id=\"DejaVuSans-36\" d=\"M 2113 2584 \nQ 1688 2584 1439 2293 \nQ 1191 2003 1191 1497 \nQ 1191 994 1439 701 \nQ 1688 409 2113 409 \nQ 2538 409 2786 701 \nQ 3034 994 3034 1497 \nQ 3034 2003 2786 2293 \nQ 2538 2584 2113 2584 \nz\nM 3366 4563 \nL 3366 3988 \nQ 3128 4100 2886 4159 \nQ 2644 4219 2406 4219 \nQ 1781 4219 1451 3797 \nQ 1122 3375 1075 2522 \nQ 1259 2794 1537 2939 \nQ 1816 3084 2150 3084 \nQ 2853 3084 3261 2657 \nQ 3669 2231 3669 1497 \nQ 3669 778 3244 343 \nQ 2819 -91 2113 -91 \nQ 1303 -91 875 529 \nQ 447 1150 447 2328 \nQ 447 3434 972 4092 \nQ 1497 4750 2381 4750 \nQ 2619 4750 2861 4703 \nQ 3103 4656 3366 4563 \nz\n\" transform=\"scale(0.015625)\"/>\n       </defs>\n       <use xlink:href=\"#DejaVuSans-36\"/>\n      </g>\n     </g>\n    </g>\n    <g id=\"xtick_7\">\n     <g id=\"line2d_7\">\n      <g>\n       <use xlink:href=\"#ma0a188fa74\" x=\"276.973313\" y=\"273.312\" style=\"stroke: #000000; stroke-width: 0.8\"/>\n      </g>\n     </g>\n     <g id=\"text_7\">\n      <!-- 7 -->\n      <g transform=\"translate(279.732687 286.6745) rotate(-90) scale(0.1 -0.1)\">\n       <defs>\n        <path id=\"DejaVuSans-37\" d=\"M 525 4666 \nL 3525 4666 \nL 3525 4397 \nL 1831 0 \nL 1172 0 \nL 2766 4134 \nL 525 4134 \nL 525 4666 \nz\n\" transform=\"scale(0.015625)\"/>\n       </defs>\n       <use xlink:href=\"#DejaVuSans-37\"/>\n      </g>\n     </g>\n    </g>\n    <g id=\"xtick_8\">\n     <g id=\"line2d_8\">\n      <g>\n       <use xlink:href=\"#ma0a188fa74\" x=\"312.685313\" y=\"273.312\" style=\"stroke: #000000; stroke-width: 0.8\"/>\n      </g>\n     </g>\n     <g id=\"text_8\">\n      <!-- 8 -->\n      <g transform=\"translate(315.444688 286.6745) rotate(-90) scale(0.1 -0.1)\">\n       <defs>\n        <path id=\"DejaVuSans-38\" d=\"M 2034 2216 \nQ 1584 2216 1326 1975 \nQ 1069 1734 1069 1313 \nQ 1069 891 1326 650 \nQ 1584 409 2034 409 \nQ 2484 409 2743 651 \nQ 3003 894 3003 1313 \nQ 3003 1734 2745 1975 \nQ 2488 2216 2034 2216 \nz\nM 1403 2484 \nQ 997 2584 770 2862 \nQ 544 3141 544 3541 \nQ 544 4100 942 4425 \nQ 1341 4750 2034 4750 \nQ 2731 4750 3128 4425 \nQ 3525 4100 3525 3541 \nQ 3525 3141 3298 2862 \nQ 3072 2584 2669 2484 \nQ 3125 2378 3379 2068 \nQ 3634 1759 3634 1313 \nQ 3634 634 3220 271 \nQ 2806 -91 2034 -91 \nQ 1263 -91 848 271 \nQ 434 634 434 1313 \nQ 434 1759 690 2068 \nQ 947 2378 1403 2484 \nz\nM 1172 3481 \nQ 1172 3119 1398 2916 \nQ 1625 2713 2034 2713 \nQ 2441 2713 2670 2916 \nQ 2900 3119 2900 3481 \nQ 2900 3844 2670 4047 \nQ 2441 4250 2034 4250 \nQ 1625 4250 1398 4047 \nQ 1172 3844 1172 3481 \nz\n\" transform=\"scale(0.015625)\"/>\n       </defs>\n       <use xlink:href=\"#DejaVuSans-38\"/>\n      </g>\n     </g>\n    </g>\n    <g id=\"xtick_9\">\n     <g id=\"line2d_9\">\n      <g>\n       <use xlink:href=\"#ma0a188fa74\" x=\"348.397313\" y=\"273.312\" style=\"stroke: #000000; stroke-width: 0.8\"/>\n      </g>\n     </g>\n     <g id=\"text_9\">\n      <!-- 9 -->\n      <g transform=\"translate(351.156688 286.6745) rotate(-90) scale(0.1 -0.1)\">\n       <defs>\n        <path id=\"DejaVuSans-39\" d=\"M 703 97 \nL 703 672 \nQ 941 559 1184 500 \nQ 1428 441 1663 441 \nQ 2288 441 2617 861 \nQ 2947 1281 2994 2138 \nQ 2813 1869 2534 1725 \nQ 2256 1581 1919 1581 \nQ 1219 1581 811 2004 \nQ 403 2428 403 3163 \nQ 403 3881 828 4315 \nQ 1253 4750 1959 4750 \nQ 2769 4750 3195 4129 \nQ 3622 3509 3622 2328 \nQ 3622 1225 3098 567 \nQ 2575 -91 1691 -91 \nQ 1453 -91 1209 -44 \nQ 966 3 703 97 \nz\nM 1959 2075 \nQ 2384 2075 2632 2365 \nQ 2881 2656 2881 3163 \nQ 2881 3666 2632 3958 \nQ 2384 4250 1959 4250 \nQ 1534 4250 1286 3958 \nQ 1038 3666 1038 3163 \nQ 1038 2656 1286 2365 \nQ 1534 2075 1959 2075 \nz\n\" transform=\"scale(0.015625)\"/>\n       </defs>\n       <use xlink:href=\"#DejaVuSans-39\"/>\n      </g>\n     </g>\n    </g>\n    <g id=\"xtick_10\">\n     <g id=\"line2d_10\">\n      <g>\n       <use xlink:href=\"#ma0a188fa74\" x=\"384.109313\" y=\"273.312\" style=\"stroke: #000000; stroke-width: 0.8\"/>\n      </g>\n     </g>\n     <g id=\"text_10\">\n      <!-- 10 -->\n      <g transform=\"translate(386.868688 293.037) rotate(-90) scale(0.1 -0.1)\">\n       <defs>\n        <path id=\"DejaVuSans-30\" d=\"M 2034 4250 \nQ 1547 4250 1301 3770 \nQ 1056 3291 1056 2328 \nQ 1056 1369 1301 889 \nQ 1547 409 2034 409 \nQ 2525 409 2770 889 \nQ 3016 1369 3016 2328 \nQ 3016 3291 2770 3770 \nQ 2525 4250 2034 4250 \nz\nM 2034 4750 \nQ 2819 4750 3233 4129 \nQ 3647 3509 3647 2328 \nQ 3647 1150 3233 529 \nQ 2819 -91 2034 -91 \nQ 1250 -91 836 529 \nQ 422 1150 422 2328 \nQ 422 3509 836 4129 \nQ 1250 4750 2034 4750 \nz\n\" transform=\"scale(0.015625)\"/>\n       </defs>\n       <use xlink:href=\"#DejaVuSans-31\"/>\n       <use xlink:href=\"#DejaVuSans-30\" x=\"63.623047\"/>\n      </g>\n     </g>\n    </g>\n    <g id=\"text_11\">\n     <!-- PER_score -->\n     <g transform=\"translate(197.824062 304.357312) scale(0.1 -0.1)\">\n      <defs>\n       <path id=\"DejaVuSans-50\" d=\"M 1259 4147 \nL 1259 2394 \nL 2053 2394 \nQ 2494 2394 2734 2622 \nQ 2975 2850 2975 3272 \nQ 2975 3691 2734 3919 \nQ 2494 4147 2053 4147 \nL 1259 4147 \nz\nM 628 4666 \nL 2053 4666 \nQ 2838 4666 3239 4311 \nQ 3641 3956 3641 3272 \nQ 3641 2581 3239 2228 \nQ 2838 1875 2053 1875 \nL 1259 1875 \nL 1259 0 \nL 628 0 \nL 628 4666 \nz\n\" transform=\"scale(0.015625)\"/>\n       <path id=\"DejaVuSans-45\" d=\"M 628 4666 \nL 3578 4666 \nL 3578 4134 \nL 1259 4134 \nL 1259 2753 \nL 3481 2753 \nL 3481 2222 \nL 1259 2222 \nL 1259 531 \nL 3634 531 \nL 3634 0 \nL 628 0 \nL 628 4666 \nz\n\" transform=\"scale(0.015625)\"/>\n       <path id=\"DejaVuSans-52\" d=\"M 2841 2188 \nQ 3044 2119 3236 1894 \nQ 3428 1669 3622 1275 \nL 4263 0 \nL 3584 0 \nL 2988 1197 \nQ 2756 1666 2539 1819 \nQ 2322 1972 1947 1972 \nL 1259 1972 \nL 1259 0 \nL 628 0 \nL 628 4666 \nL 2053 4666 \nQ 2853 4666 3247 4331 \nQ 3641 3997 3641 3322 \nQ 3641 2881 3436 2590 \nQ 3231 2300 2841 2188 \nz\nM 1259 4147 \nL 1259 2491 \nL 2053 2491 \nQ 2509 2491 2742 2702 \nQ 2975 2913 2975 3322 \nQ 2975 3731 2742 3939 \nQ 2509 4147 2053 4147 \nL 1259 4147 \nz\n\" transform=\"scale(0.015625)\"/>\n       <path id=\"DejaVuSans-5f\" d=\"M 3263 -1063 \nL 3263 -1509 \nL -63 -1509 \nL -63 -1063 \nL 3263 -1063 \nz\n\" transform=\"scale(0.015625)\"/>\n       <path id=\"DejaVuSans-73\" d=\"M 2834 3397 \nL 2834 2853 \nQ 2591 2978 2328 3040 \nQ 2066 3103 1784 3103 \nQ 1356 3103 1142 2972 \nQ 928 2841 928 2578 \nQ 928 2378 1081 2264 \nQ 1234 2150 1697 2047 \nL 1894 2003 \nQ 2506 1872 2764 1633 \nQ 3022 1394 3022 966 \nQ 3022 478 2636 193 \nQ 2250 -91 1575 -91 \nQ 1294 -91 989 -36 \nQ 684 19 347 128 \nL 347 722 \nQ 666 556 975 473 \nQ 1284 391 1588 391 \nQ 1994 391 2212 530 \nQ 2431 669 2431 922 \nQ 2431 1156 2273 1281 \nQ 2116 1406 1581 1522 \nL 1381 1569 \nQ 847 1681 609 1914 \nQ 372 2147 372 2553 \nQ 372 3047 722 3315 \nQ 1072 3584 1716 3584 \nQ 2034 3584 2315 3537 \nQ 2597 3491 2834 3397 \nz\n\" transform=\"scale(0.015625)\"/>\n       <path id=\"DejaVuSans-63\" d=\"M 3122 3366 \nL 3122 2828 \nQ 2878 2963 2633 3030 \nQ 2388 3097 2138 3097 \nQ 1578 3097 1268 2742 \nQ 959 2388 959 1747 \nQ 959 1106 1268 751 \nQ 1578 397 2138 397 \nQ 2388 397 2633 464 \nQ 2878 531 3122 666 \nL 3122 134 \nQ 2881 22 2623 -34 \nQ 2366 -91 2075 -91 \nQ 1284 -91 818 406 \nQ 353 903 353 1747 \nQ 353 2603 823 3093 \nQ 1294 3584 2113 3584 \nQ 2378 3584 2631 3529 \nQ 2884 3475 3122 3366 \nz\n\" transform=\"scale(0.015625)\"/>\n       <path id=\"DejaVuSans-6f\" d=\"M 1959 3097 \nQ 1497 3097 1228 2736 \nQ 959 2375 959 1747 \nQ 959 1119 1226 758 \nQ 1494 397 1959 397 \nQ 2419 397 2687 759 \nQ 2956 1122 2956 1747 \nQ 2956 2369 2687 2733 \nQ 2419 3097 1959 3097 \nz\nM 1959 3584 \nQ 2709 3584 3137 3096 \nQ 3566 2609 3566 1747 \nQ 3566 888 3137 398 \nQ 2709 -91 1959 -91 \nQ 1206 -91 779 398 \nQ 353 888 353 1747 \nQ 353 2609 779 3096 \nQ 1206 3584 1959 3584 \nz\n\" transform=\"scale(0.015625)\"/>\n       <path id=\"DejaVuSans-72\" d=\"M 2631 2963 \nQ 2534 3019 2420 3045 \nQ 2306 3072 2169 3072 \nQ 1681 3072 1420 2755 \nQ 1159 2438 1159 1844 \nL 1159 0 \nL 581 0 \nL 581 3500 \nL 1159 3500 \nL 1159 2956 \nQ 1341 3275 1631 3429 \nQ 1922 3584 2338 3584 \nQ 2397 3584 2469 3576 \nQ 2541 3569 2628 3553 \nL 2631 2963 \nz\n\" transform=\"scale(0.015625)\"/>\n       <path id=\"DejaVuSans-65\" d=\"M 3597 1894 \nL 3597 1613 \nL 953 1613 \nQ 991 1019 1311 708 \nQ 1631 397 2203 397 \nQ 2534 397 2845 478 \nQ 3156 559 3463 722 \nL 3463 178 \nQ 3153 47 2828 -22 \nQ 2503 -91 2169 -91 \nQ 1331 -91 842 396 \nQ 353 884 353 1716 \nQ 353 2575 817 3079 \nQ 1281 3584 2069 3584 \nQ 2775 3584 3186 3129 \nQ 3597 2675 3597 1894 \nz\nM 3022 2063 \nQ 3016 2534 2758 2815 \nQ 2500 3097 2075 3097 \nQ 1594 3097 1305 2825 \nQ 1016 2553 972 2059 \nL 3022 2063 \nz\n\" transform=\"scale(0.015625)\"/>\n      </defs>\n      <use xlink:href=\"#DejaVuSans-50\"/>\n      <use xlink:href=\"#DejaVuSans-45\" x=\"60.302734\"/>\n      <use xlink:href=\"#DejaVuSans-52\" x=\"123.486328\"/>\n      <use xlink:href=\"#DejaVuSans-5f\" x=\"192.96875\"/>\n      <use xlink:href=\"#DejaVuSans-73\" x=\"242.96875\"/>\n      <use xlink:href=\"#DejaVuSans-63\" x=\"295.068359\"/>\n      <use xlink:href=\"#DejaVuSans-6f\" x=\"350.048828\"/>\n      <use xlink:href=\"#DejaVuSans-72\" x=\"411.230469\"/>\n      <use xlink:href=\"#DejaVuSans-65\" x=\"450.09375\"/>\n     </g>\n    </g>\n   </g>\n   <g id=\"matplotlib.axis_2\">\n    <g id=\"ytick_1\">\n     <g id=\"line2d_11\">\n      <defs>\n       <path id=\"m83c25ee90c\" d=\"M 0 0 \nL -3.5 0 \n\" style=\"stroke: #000000; stroke-width: 0.8\"/>\n      </defs>\n      <g>\n       <use xlink:href=\"#m83c25ee90c\" x=\"44.845313\" y=\"232.400419\" style=\"stroke: #000000; stroke-width: 0.8\"/>\n      </g>\n     </g>\n     <g id=\"text_12\">\n      <!-- −0.05 -->\n      <g transform=\"translate(7.2 236.199637) scale(0.1 -0.1)\">\n       <defs>\n        <path id=\"DejaVuSans-2212\" d=\"M 678 2272 \nL 4684 2272 \nL 4684 1741 \nL 678 1741 \nL 678 2272 \nz\n\" transform=\"scale(0.015625)\"/>\n        <path id=\"DejaVuSans-2e\" d=\"M 684 794 \nL 1344 794 \nL 1344 0 \nL 684 0 \nL 684 794 \nz\n\" transform=\"scale(0.015625)\"/>\n       </defs>\n       <use xlink:href=\"#DejaVuSans-2212\"/>\n       <use xlink:href=\"#DejaVuSans-30\" x=\"83.789062\"/>\n       <use xlink:href=\"#DejaVuSans-2e\" x=\"147.412109\"/>\n       <use xlink:href=\"#DejaVuSans-30\" x=\"179.199219\"/>\n       <use xlink:href=\"#DejaVuSans-35\" x=\"242.822266\"/>\n      </g>\n     </g>\n    </g>\n    <g id=\"ytick_2\">\n     <g id=\"line2d_12\">\n      <g>\n       <use xlink:href=\"#m83c25ee90c\" x=\"44.845313\" y=\"189.019487\" style=\"stroke: #000000; stroke-width: 0.8\"/>\n      </g>\n     </g>\n     <g id=\"text_13\">\n      <!-- 0.00 -->\n      <g transform=\"translate(15.579688 192.818706) scale(0.1 -0.1)\">\n       <use xlink:href=\"#DejaVuSans-30\"/>\n       <use xlink:href=\"#DejaVuSans-2e\" x=\"63.623047\"/>\n       <use xlink:href=\"#DejaVuSans-30\" x=\"95.410156\"/>\n       <use xlink:href=\"#DejaVuSans-30\" x=\"159.033203\"/>\n      </g>\n     </g>\n    </g>\n    <g id=\"ytick_3\">\n     <g id=\"line2d_13\">\n      <g>\n       <use xlink:href=\"#m83c25ee90c\" x=\"44.845313\" y=\"145.638556\" style=\"stroke: #000000; stroke-width: 0.8\"/>\n      </g>\n     </g>\n     <g id=\"text_14\">\n      <!-- 0.05 -->\n      <g transform=\"translate(15.579688 149.437774) scale(0.1 -0.1)\">\n       <use xlink:href=\"#DejaVuSans-30\"/>\n       <use xlink:href=\"#DejaVuSans-2e\" x=\"63.623047\"/>\n       <use xlink:href=\"#DejaVuSans-30\" x=\"95.410156\"/>\n       <use xlink:href=\"#DejaVuSans-35\" x=\"159.033203\"/>\n      </g>\n     </g>\n    </g>\n    <g id=\"ytick_4\">\n     <g id=\"line2d_14\">\n      <g>\n       <use xlink:href=\"#m83c25ee90c\" x=\"44.845313\" y=\"102.257624\" style=\"stroke: #000000; stroke-width: 0.8\"/>\n      </g>\n     </g>\n     <g id=\"text_15\">\n      <!-- 0.10 -->\n      <g transform=\"translate(15.579688 106.056843) scale(0.1 -0.1)\">\n       <use xlink:href=\"#DejaVuSans-30\"/>\n       <use xlink:href=\"#DejaVuSans-2e\" x=\"63.623047\"/>\n       <use xlink:href=\"#DejaVuSans-31\" x=\"95.410156\"/>\n       <use xlink:href=\"#DejaVuSans-30\" x=\"159.033203\"/>\n      </g>\n     </g>\n    </g>\n    <g id=\"ytick_5\">\n     <g id=\"line2d_15\">\n      <g>\n       <use xlink:href=\"#m83c25ee90c\" x=\"44.845313\" y=\"58.876692\" style=\"stroke: #000000; stroke-width: 0.8\"/>\n      </g>\n     </g>\n     <g id=\"text_16\">\n      <!-- 0.15 -->\n      <g transform=\"translate(15.579688 62.675911) scale(0.1 -0.1)\">\n       <use xlink:href=\"#DejaVuSans-30\"/>\n       <use xlink:href=\"#DejaVuSans-2e\" x=\"63.623047\"/>\n       <use xlink:href=\"#DejaVuSans-31\" x=\"95.410156\"/>\n       <use xlink:href=\"#DejaVuSans-35\" x=\"159.033203\"/>\n      </g>\n     </g>\n    </g>\n    <g id=\"ytick_6\">\n     <g id=\"line2d_16\">\n      <g>\n       <use xlink:href=\"#m83c25ee90c\" x=\"44.845313\" y=\"15.495761\" style=\"stroke: #000000; stroke-width: 0.8\"/>\n      </g>\n     </g>\n     <g id=\"text_17\">\n      <!-- 0.20 -->\n      <g transform=\"translate(15.579688 19.29498) scale(0.1 -0.1)\">\n       <use xlink:href=\"#DejaVuSans-30\"/>\n       <use xlink:href=\"#DejaVuSans-2e\" x=\"63.623047\"/>\n       <use xlink:href=\"#DejaVuSans-32\" x=\"95.410156\"/>\n       <use xlink:href=\"#DejaVuSans-30\" x=\"159.033203\"/>\n      </g>\n     </g>\n    </g>\n   </g>\n   <g id=\"patch_13\">\n    <path d=\"M 44.845313 273.312 \nL 44.845313 7.2 \n\" style=\"fill: none; stroke: #000000; stroke-width: 0.8; stroke-linejoin: miter; stroke-linecap: square\"/>\n   </g>\n   <g id=\"patch_14\">\n    <path d=\"M 401.965312 273.312 \nL 401.965312 7.2 \n\" style=\"fill: none; stroke: #000000; stroke-width: 0.8; stroke-linejoin: miter; stroke-linecap: square\"/>\n   </g>\n   <g id=\"patch_15\">\n    <path d=\"M 44.845313 273.312 \nL 401.965313 273.312 \n\" style=\"fill: none; stroke: #000000; stroke-width: 0.8; stroke-linejoin: miter; stroke-linecap: square\"/>\n   </g>\n   <g id=\"patch_16\">\n    <path d=\"M 44.845313 7.2 \nL 401.965313 7.2 \n\" style=\"fill: none; stroke: #000000; stroke-width: 0.8; stroke-linejoin: miter; stroke-linecap: square\"/>\n   </g>\n   <g id=\"legend_1\">\n    <g id=\"patch_17\">\n     <path d=\"M 51.845313 29.878125 \nL 98.214063 29.878125 \nQ 100.214063 29.878125 100.214063 27.878125 \nL 100.214063 14.2 \nQ 100.214063 12.2 98.214063 12.2 \nL 51.845313 12.2 \nQ 49.845313 12.2 49.845313 14.2 \nL 49.845313 27.878125 \nQ 49.845313 29.878125 51.845313 29.878125 \nz\n\" style=\"fill: #ffffff; opacity: 0.8; stroke: #cccccc; stroke-linejoin: miter\"/>\n    </g>\n    <g id=\"patch_18\">\n     <path d=\"M 53.845313 23.798437 \nL 73.845313 23.798437 \nL 73.845313 16.798437 \nL 53.845313 16.798437 \nz\n\" style=\"fill: #1f77b4\"/>\n    </g>\n    <g id=\"text_18\">\n     <!-- rtn -->\n     <g transform=\"translate(81.845313 23.798437) scale(0.1 -0.1)\">\n      <defs>\n       <path id=\"DejaVuSans-74\" d=\"M 1172 4494 \nL 1172 3500 \nL 2356 3500 \nL 2356 3053 \nL 1172 3053 \nL 1172 1153 \nQ 1172 725 1289 603 \nQ 1406 481 1766 481 \nL 2356 481 \nL 2356 0 \nL 1766 0 \nQ 1100 0 847 248 \nQ 594 497 594 1153 \nL 594 3053 \nL 172 3053 \nL 172 3500 \nL 594 3500 \nL 594 4494 \nL 1172 4494 \nz\n\" transform=\"scale(0.015625)\"/>\n       <path id=\"DejaVuSans-6e\" d=\"M 3513 2113 \nL 3513 0 \nL 2938 0 \nL 2938 2094 \nQ 2938 2591 2744 2837 \nQ 2550 3084 2163 3084 \nQ 1697 3084 1428 2787 \nQ 1159 2491 1159 1978 \nL 1159 0 \nL 581 0 \nL 581 3500 \nL 1159 3500 \nL 1159 2956 \nQ 1366 3272 1645 3428 \nQ 1925 3584 2291 3584 \nQ 2894 3584 3203 3211 \nQ 3513 2838 3513 2113 \nz\n\" transform=\"scale(0.015625)\"/>\n      </defs>\n      <use xlink:href=\"#DejaVuSans-72\"/>\n      <use xlink:href=\"#DejaVuSans-74\" x=\"41.113281\"/>\n      <use xlink:href=\"#DejaVuSans-6e\" x=\"80.322266\"/>\n     </g>\n    </g>\n   </g>\n  </g>\n </g>\n <defs>\n  <clipPath id=\"pa5410c077a\">\n   <rect x=\"44.845313\" y=\"7.2\" width=\"357.12\" height=\"266.112\"/>\n  </clipPath>\n </defs>\n</svg>\n",
      "image/png": "[encoded data removed]"
     },
     "metadata": {}
    }
   ],
   "metadata": {}
  },
  {
   "cell_type": "markdown",
   "source": [
    "### Examples"
   ],
   "metadata": {}
  },
  {
   "cell_type": "code",
   "execution_count": 85,
   "source": [
    "g_df1 = g_df.groupby([\"PBR_score\", \"PER_score\"])\\\n",
    "            .agg(\n",
    "                {\n",
    "                    'rtn': ['mean', 'std', 'min', 'max'],\n",
    "                    'ROE(%)': [np.mean, 'size', 'nunique', 'idxmax'] \n",
    "                 }\n",
    "            )\n",
    "g_df1.head()"
   ],
   "outputs": [
    {
     "output_type": "execute_result",
     "data": {
      "text/plain": [
       "                       rtn                     ROE(%)                       \n",
       "                      mean   std    min   max    mean size nunique    idxmax\n",
       "PBR_score PER_score                                                         \n",
       "1         1         -0.100 0.072 -0.196 0.003  -1.402    5       5  한국수출포장공업\n",
       "          2         -0.093 0.266 -0.482 0.437 154.967   11      11      삼부토건\n",
       "          3          0.117 0.359 -0.556 0.683   6.952   11      11    한국전력공사\n",
       "          4          0.106 0.295 -0.273 0.882   5.104   11      11      한국공항\n",
       "          5         -0.039 0.120 -0.206 0.113   3.941    7       7    성창기업지주"
      ],
      "text/html": [
       "<div>\n",
       "<style scoped>\n",
       "    .dataframe tbody tr th:only-of-type {\n",
       "        vertical-align: middle;\n",
       "    }\n",
       "\n",
       "    .dataframe tbody tr th {\n",
       "        vertical-align: top;\n",
       "    }\n",
       "\n",
       "    .dataframe thead tr th {\n",
       "        text-align: left;\n",
       "    }\n",
       "\n",
       "    .dataframe thead tr:last-of-type th {\n",
       "        text-align: right;\n",
       "    }\n",
       "</style>\n",
       "<table border=\"1\" class=\"dataframe\">\n",
       "  <thead>\n",
       "    <tr>\n",
       "      <th></th>\n",
       "      <th></th>\n",
       "      <th colspan=\"4\" halign=\"left\">rtn</th>\n",
       "      <th colspan=\"4\" halign=\"left\">ROE(%)</th>\n",
       "    </tr>\n",
       "    <tr>\n",
       "      <th></th>\n",
       "      <th></th>\n",
       "      <th>mean</th>\n",
       "      <th>std</th>\n",
       "      <th>min</th>\n",
       "      <th>max</th>\n",
       "      <th>mean</th>\n",
       "      <th>size</th>\n",
       "      <th>nunique</th>\n",
       "      <th>idxmax</th>\n",
       "    </tr>\n",
       "    <tr>\n",
       "      <th>PBR_score</th>\n",
       "      <th>PER_score</th>\n",
       "      <th></th>\n",
       "      <th></th>\n",
       "      <th></th>\n",
       "      <th></th>\n",
       "      <th></th>\n",
       "      <th></th>\n",
       "      <th></th>\n",
       "      <th></th>\n",
       "    </tr>\n",
       "  </thead>\n",
       "  <tbody>\n",
       "    <tr>\n",
       "      <th rowspan=\"5\" valign=\"top\">1</th>\n",
       "      <th>1</th>\n",
       "      <td>-0.100</td>\n",
       "      <td>0.072</td>\n",
       "      <td>-0.196</td>\n",
       "      <td>0.003</td>\n",
       "      <td>-1.402</td>\n",
       "      <td>5</td>\n",
       "      <td>5</td>\n",
       "      <td>한국수출포장공업</td>\n",
       "    </tr>\n",
       "    <tr>\n",
       "      <th>2</th>\n",
       "      <td>-0.093</td>\n",
       "      <td>0.266</td>\n",
       "      <td>-0.482</td>\n",
       "      <td>0.437</td>\n",
       "      <td>154.967</td>\n",
       "      <td>11</td>\n",
       "      <td>11</td>\n",
       "      <td>삼부토건</td>\n",
       "    </tr>\n",
       "    <tr>\n",
       "      <th>3</th>\n",
       "      <td>0.117</td>\n",
       "      <td>0.359</td>\n",
       "      <td>-0.556</td>\n",
       "      <td>0.683</td>\n",
       "      <td>6.952</td>\n",
       "      <td>11</td>\n",
       "      <td>11</td>\n",
       "      <td>한국전력공사</td>\n",
       "    </tr>\n",
       "    <tr>\n",
       "      <th>4</th>\n",
       "      <td>0.106</td>\n",
       "      <td>0.295</td>\n",
       "      <td>-0.273</td>\n",
       "      <td>0.882</td>\n",
       "      <td>5.104</td>\n",
       "      <td>11</td>\n",
       "      <td>11</td>\n",
       "      <td>한국공항</td>\n",
       "    </tr>\n",
       "    <tr>\n",
       "      <th>5</th>\n",
       "      <td>-0.039</td>\n",
       "      <td>0.120</td>\n",
       "      <td>-0.206</td>\n",
       "      <td>0.113</td>\n",
       "      <td>3.941</td>\n",
       "      <td>7</td>\n",
       "      <td>7</td>\n",
       "      <td>성창기업지주</td>\n",
       "    </tr>\n",
       "  </tbody>\n",
       "</table>\n",
       "</div>"
      ]
     },
     "metadata": {},
     "execution_count": 85
    }
   ],
   "metadata": {}
  },
  {
   "cell_type": "code",
   "execution_count": 86,
   "source": [
    "a = g_df.groupby([\"PBR_score\", \"PER_score\"])['rtn', 'ROE(%)'].agg(['sum', 'mean'])"
   ],
   "outputs": [
    {
     "output_type": "stream",
     "name": "stderr",
     "text": [
      "/var/folders/4p/6kckmtjs7hs9jybr8hdw_g240000gn/T/ipykernel_88185/3376508614.py:1: FutureWarning: Indexing with multiple keys (implicitly converted to a tuple of keys) will be deprecated, use a list instead.\n",
      "  a = g_df.groupby([\"PBR_score\", \"PER_score\"])['rtn', 'ROE(%)'].agg(['sum', 'mean'])\n"
     ]
    }
   ],
   "metadata": {}
  },
  {
   "cell_type": "code",
   "execution_count": 87,
   "source": [
    "# Multi-index라고 해서 쫄 것 없음!\n",
    "a.loc[1]\n",
    "a.loc[(1, 3)]\n",
    "a.loc[[(1, 3), (1, 4 )]]"
   ],
   "outputs": [
    {
     "output_type": "execute_result",
     "data": {
      "text/plain": [
       "             rtn          ROE(%)        \n",
       "             sum   mean      sum    mean\n",
       "PER_score                               \n",
       "1         -0.499 -0.100   -7.009  -1.402\n",
       "2         -1.025 -0.093 1704.634 154.967\n",
       "3          1.290  0.117   76.477   6.952\n",
       "4          1.165  0.106   56.146   5.104\n",
       "5         -0.275 -0.039   27.590   3.941\n",
       "6         -0.666 -0.333    6.710   3.355\n",
       "7         -0.126 -0.031   11.435   2.859\n",
       "8          0.000    NaN    0.000     NaN\n",
       "9         -0.175 -0.058    3.039   1.013\n",
       "10         0.226  0.032    2.873   0.410"
      ],
      "text/html": [
       "<div>\n",
       "<style scoped>\n",
       "    .dataframe tbody tr th:only-of-type {\n",
       "        vertical-align: middle;\n",
       "    }\n",
       "\n",
       "    .dataframe tbody tr th {\n",
       "        vertical-align: top;\n",
       "    }\n",
       "\n",
       "    .dataframe thead tr th {\n",
       "        text-align: left;\n",
       "    }\n",
       "\n",
       "    .dataframe thead tr:last-of-type th {\n",
       "        text-align: right;\n",
       "    }\n",
       "</style>\n",
       "<table border=\"1\" class=\"dataframe\">\n",
       "  <thead>\n",
       "    <tr>\n",
       "      <th></th>\n",
       "      <th colspan=\"2\" halign=\"left\">rtn</th>\n",
       "      <th colspan=\"2\" halign=\"left\">ROE(%)</th>\n",
       "    </tr>\n",
       "    <tr>\n",
       "      <th></th>\n",
       "      <th>sum</th>\n",
       "      <th>mean</th>\n",
       "      <th>sum</th>\n",
       "      <th>mean</th>\n",
       "    </tr>\n",
       "    <tr>\n",
       "      <th>PER_score</th>\n",
       "      <th></th>\n",
       "      <th></th>\n",
       "      <th></th>\n",
       "      <th></th>\n",
       "    </tr>\n",
       "  </thead>\n",
       "  <tbody>\n",
       "    <tr>\n",
       "      <th>1</th>\n",
       "      <td>-0.499</td>\n",
       "      <td>-0.100</td>\n",
       "      <td>-7.009</td>\n",
       "      <td>-1.402</td>\n",
       "    </tr>\n",
       "    <tr>\n",
       "      <th>2</th>\n",
       "      <td>-1.025</td>\n",
       "      <td>-0.093</td>\n",
       "      <td>1704.634</td>\n",
       "      <td>154.967</td>\n",
       "    </tr>\n",
       "    <tr>\n",
       "      <th>3</th>\n",
       "      <td>1.290</td>\n",
       "      <td>0.117</td>\n",
       "      <td>76.477</td>\n",
       "      <td>6.952</td>\n",
       "    </tr>\n",
       "    <tr>\n",
       "      <th>4</th>\n",
       "      <td>1.165</td>\n",
       "      <td>0.106</td>\n",
       "      <td>56.146</td>\n",
       "      <td>5.104</td>\n",
       "    </tr>\n",
       "    <tr>\n",
       "      <th>5</th>\n",
       "      <td>-0.275</td>\n",
       "      <td>-0.039</td>\n",
       "      <td>27.590</td>\n",
       "      <td>3.941</td>\n",
       "    </tr>\n",
       "    <tr>\n",
       "      <th>6</th>\n",
       "      <td>-0.666</td>\n",
       "      <td>-0.333</td>\n",
       "      <td>6.710</td>\n",
       "      <td>3.355</td>\n",
       "    </tr>\n",
       "    <tr>\n",
       "      <th>7</th>\n",
       "      <td>-0.126</td>\n",
       "      <td>-0.031</td>\n",
       "      <td>11.435</td>\n",
       "      <td>2.859</td>\n",
       "    </tr>\n",
       "    <tr>\n",
       "      <th>8</th>\n",
       "      <td>0.000</td>\n",
       "      <td>NaN</td>\n",
       "      <td>0.000</td>\n",
       "      <td>NaN</td>\n",
       "    </tr>\n",
       "    <tr>\n",
       "      <th>9</th>\n",
       "      <td>-0.175</td>\n",
       "      <td>-0.058</td>\n",
       "      <td>3.039</td>\n",
       "      <td>1.013</td>\n",
       "    </tr>\n",
       "    <tr>\n",
       "      <th>10</th>\n",
       "      <td>0.226</td>\n",
       "      <td>0.032</td>\n",
       "      <td>2.873</td>\n",
       "      <td>0.410</td>\n",
       "    </tr>\n",
       "  </tbody>\n",
       "</table>\n",
       "</div>"
      ]
     },
     "metadata": {},
     "execution_count": 87
    },
    {
     "output_type": "execute_result",
     "data": {
      "text/plain": [
       "rtn     sum     1.290\n",
       "        mean    0.117\n",
       "ROE(%)  sum    76.477\n",
       "        mean    6.952\n",
       "Name: (1, 3), dtype: float64"
      ]
     },
     "metadata": {},
     "execution_count": 87
    },
    {
     "output_type": "execute_result",
     "data": {
      "text/plain": [
       "                      rtn       ROE(%)      \n",
       "                      sum  mean    sum  mean\n",
       "PBR_score PER_score                         \n",
       "1         3         1.290 0.117 76.477 6.952\n",
       "          4         1.165 0.106 56.146 5.104"
      ],
      "text/html": [
       "<div>\n",
       "<style scoped>\n",
       "    .dataframe tbody tr th:only-of-type {\n",
       "        vertical-align: middle;\n",
       "    }\n",
       "\n",
       "    .dataframe tbody tr th {\n",
       "        vertical-align: top;\n",
       "    }\n",
       "\n",
       "    .dataframe thead tr th {\n",
       "        text-align: left;\n",
       "    }\n",
       "\n",
       "    .dataframe thead tr:last-of-type th {\n",
       "        text-align: right;\n",
       "    }\n",
       "</style>\n",
       "<table border=\"1\" class=\"dataframe\">\n",
       "  <thead>\n",
       "    <tr>\n",
       "      <th></th>\n",
       "      <th></th>\n",
       "      <th colspan=\"2\" halign=\"left\">rtn</th>\n",
       "      <th colspan=\"2\" halign=\"left\">ROE(%)</th>\n",
       "    </tr>\n",
       "    <tr>\n",
       "      <th></th>\n",
       "      <th></th>\n",
       "      <th>sum</th>\n",
       "      <th>mean</th>\n",
       "      <th>sum</th>\n",
       "      <th>mean</th>\n",
       "    </tr>\n",
       "    <tr>\n",
       "      <th>PBR_score</th>\n",
       "      <th>PER_score</th>\n",
       "      <th></th>\n",
       "      <th></th>\n",
       "      <th></th>\n",
       "      <th></th>\n",
       "    </tr>\n",
       "  </thead>\n",
       "  <tbody>\n",
       "    <tr>\n",
       "      <th rowspan=\"2\" valign=\"top\">1</th>\n",
       "      <th>3</th>\n",
       "      <td>1.290</td>\n",
       "      <td>0.117</td>\n",
       "      <td>76.477</td>\n",
       "      <td>6.952</td>\n",
       "    </tr>\n",
       "    <tr>\n",
       "      <th>4</th>\n",
       "      <td>1.165</td>\n",
       "      <td>0.106</td>\n",
       "      <td>56.146</td>\n",
       "      <td>5.104</td>\n",
       "    </tr>\n",
       "  </tbody>\n",
       "</table>\n",
       "</div>"
      ]
     },
     "metadata": {},
     "execution_count": 87
    }
   ],
   "metadata": {}
  },
  {
   "cell_type": "markdown",
   "source": [
    "### 주의: nan은 groupby시 자동으로 filter out 되기 때문에, 미리 전처리 다 하는게 좋음 "
   ],
   "metadata": {}
  },
  {
   "cell_type": "code",
   "execution_count": 88,
   "source": [
    "df = pd.DataFrame({\n",
    "    'a':['소형주', np.nan, '대형주', '대형주'],\n",
    "    'b':[np.nan, 2,         3,     np.nan],\n",
    "})\n",
    "df"
   ],
   "outputs": [
    {
     "output_type": "execute_result",
     "data": {
      "text/plain": [
       "     a     b\n",
       "0  소형주   NaN\n",
       "1  NaN 2.000\n",
       "2  대형주 3.000\n",
       "3  대형주   NaN"
      ],
      "text/html": [
       "<div>\n",
       "<style scoped>\n",
       "    .dataframe tbody tr th:only-of-type {\n",
       "        vertical-align: middle;\n",
       "    }\n",
       "\n",
       "    .dataframe tbody tr th {\n",
       "        vertical-align: top;\n",
       "    }\n",
       "\n",
       "    .dataframe thead th {\n",
       "        text-align: right;\n",
       "    }\n",
       "</style>\n",
       "<table border=\"1\" class=\"dataframe\">\n",
       "  <thead>\n",
       "    <tr style=\"text-align: right;\">\n",
       "      <th></th>\n",
       "      <th>a</th>\n",
       "      <th>b</th>\n",
       "    </tr>\n",
       "  </thead>\n",
       "  <tbody>\n",
       "    <tr>\n",
       "      <th>0</th>\n",
       "      <td>소형주</td>\n",
       "      <td>NaN</td>\n",
       "    </tr>\n",
       "    <tr>\n",
       "      <th>1</th>\n",
       "      <td>NaN</td>\n",
       "      <td>2.000</td>\n",
       "    </tr>\n",
       "    <tr>\n",
       "      <th>2</th>\n",
       "      <td>대형주</td>\n",
       "      <td>3.000</td>\n",
       "    </tr>\n",
       "    <tr>\n",
       "      <th>3</th>\n",
       "      <td>대형주</td>\n",
       "      <td>NaN</td>\n",
       "    </tr>\n",
       "  </tbody>\n",
       "</table>\n",
       "</div>"
      ]
     },
     "metadata": {},
     "execution_count": 88
    }
   ],
   "metadata": {}
  },
  {
   "cell_type": "code",
   "execution_count": 89,
   "source": [
    "df.groupby(['a'])['b'].mean()"
   ],
   "outputs": [
    {
     "output_type": "execute_result",
     "data": {
      "text/plain": [
       "a\n",
       "대형주   3.000\n",
       "소형주     NaN\n",
       "Name: b, dtype: float64"
      ]
     },
     "metadata": {},
     "execution_count": 89
    }
   ],
   "metadata": {}
  },
  {
   "cell_type": "markdown",
   "source": [
    "###  `as_index = False` : group cols들이 index가 아니라 하나의 col이 됨 (aggregate하고 reset_index()를 취한 것)"
   ],
   "metadata": {}
  },
  {
   "cell_type": "code",
   "execution_count": 90,
   "source": [
    "a = g_df.groupby([\"PER_score\"]                ).agg({'rtn': ['mean', 'std']}).head(2)\n",
    "b = g_df.groupby([\"PER_score\"], as_index=False).agg({'rtn': ['mean', 'std']}).head(2)"
   ],
   "outputs": [],
   "metadata": {}
  },
  {
   "cell_type": "code",
   "execution_count": 91,
   "source": [
    "a\n",
    "b"
   ],
   "outputs": [
    {
     "output_type": "execute_result",
     "data": {
      "text/plain": [
       "             rtn      \n",
       "            mean   std\n",
       "PER_score             \n",
       "1         -0.062 0.328\n",
       "2         -0.083 0.781"
      ],
      "text/html": [
       "<div>\n",
       "<style scoped>\n",
       "    .dataframe tbody tr th:only-of-type {\n",
       "        vertical-align: middle;\n",
       "    }\n",
       "\n",
       "    .dataframe tbody tr th {\n",
       "        vertical-align: top;\n",
       "    }\n",
       "\n",
       "    .dataframe thead tr th {\n",
       "        text-align: left;\n",
       "    }\n",
       "\n",
       "    .dataframe thead tr:last-of-type th {\n",
       "        text-align: right;\n",
       "    }\n",
       "</style>\n",
       "<table border=\"1\" class=\"dataframe\">\n",
       "  <thead>\n",
       "    <tr>\n",
       "      <th></th>\n",
       "      <th colspan=\"2\" halign=\"left\">rtn</th>\n",
       "    </tr>\n",
       "    <tr>\n",
       "      <th></th>\n",
       "      <th>mean</th>\n",
       "      <th>std</th>\n",
       "    </tr>\n",
       "    <tr>\n",
       "      <th>PER_score</th>\n",
       "      <th></th>\n",
       "      <th></th>\n",
       "    </tr>\n",
       "  </thead>\n",
       "  <tbody>\n",
       "    <tr>\n",
       "      <th>1</th>\n",
       "      <td>-0.062</td>\n",
       "      <td>0.328</td>\n",
       "    </tr>\n",
       "    <tr>\n",
       "      <th>2</th>\n",
       "      <td>-0.083</td>\n",
       "      <td>0.781</td>\n",
       "    </tr>\n",
       "  </tbody>\n",
       "</table>\n",
       "</div>"
      ]
     },
     "metadata": {},
     "execution_count": 91
    },
    {
     "output_type": "execute_result",
     "data": {
      "text/plain": [
       "  PER_score    rtn      \n",
       "              mean   std\n",
       "0         1 -0.062 0.328\n",
       "1         2 -0.083 0.781"
      ],
      "text/html": [
       "<div>\n",
       "<style scoped>\n",
       "    .dataframe tbody tr th:only-of-type {\n",
       "        vertical-align: middle;\n",
       "    }\n",
       "\n",
       "    .dataframe tbody tr th {\n",
       "        vertical-align: top;\n",
       "    }\n",
       "\n",
       "    .dataframe thead tr th {\n",
       "        text-align: left;\n",
       "    }\n",
       "</style>\n",
       "<table border=\"1\" class=\"dataframe\">\n",
       "  <thead>\n",
       "    <tr>\n",
       "      <th></th>\n",
       "      <th>PER_score</th>\n",
       "      <th colspan=\"2\" halign=\"left\">rtn</th>\n",
       "    </tr>\n",
       "    <tr>\n",
       "      <th></th>\n",
       "      <th></th>\n",
       "      <th>mean</th>\n",
       "      <th>std</th>\n",
       "    </tr>\n",
       "  </thead>\n",
       "  <tbody>\n",
       "    <tr>\n",
       "      <th>0</th>\n",
       "      <td>1</td>\n",
       "      <td>-0.062</td>\n",
       "      <td>0.328</td>\n",
       "    </tr>\n",
       "    <tr>\n",
       "      <th>1</th>\n",
       "      <td>2</td>\n",
       "      <td>-0.083</td>\n",
       "      <td>0.781</td>\n",
       "    </tr>\n",
       "  </tbody>\n",
       "</table>\n",
       "</div>"
      ]
     },
     "metadata": {},
     "execution_count": 91
    }
   ],
   "metadata": {}
  },
  {
   "cell_type": "code",
   "execution_count": 92,
   "source": [
    "a.index\n",
    "a.columns"
   ],
   "outputs": [
    {
     "output_type": "execute_result",
     "data": {
      "text/plain": [
       "CategoricalIndex([1, 2], categories=[1, 2, 3, 4, ..., 7, 8, 9, 10], ordered=True, dtype='category', name='PER_score')"
      ]
     },
     "metadata": {},
     "execution_count": 92
    },
    {
     "output_type": "execute_result",
     "data": {
      "text/plain": [
       "MultiIndex([('rtn', 'mean'),\n",
       "            ('rtn',  'std')],\n",
       "           )"
      ]
     },
     "metadata": {},
     "execution_count": 92
    }
   ],
   "metadata": {}
  },
  {
   "cell_type": "code",
   "execution_count": 93,
   "source": [
    "b.index\n",
    "b.columns"
   ],
   "outputs": [
    {
     "output_type": "execute_result",
     "data": {
      "text/plain": [
       "RangeIndex(start=0, stop=2, step=1)"
      ]
     },
     "metadata": {},
     "execution_count": 93
    },
    {
     "output_type": "execute_result",
     "data": {
      "text/plain": [
       "MultiIndex([('PER_score',     ''),\n",
       "            (      'rtn', 'mean'),\n",
       "            (      'rtn',  'std')],\n",
       "           )"
      ]
     },
     "metadata": {},
     "execution_count": 93
    }
   ],
   "metadata": {}
  },
  {
   "cell_type": "code",
   "execution_count": 94,
   "source": [
    "a['rtn']"
   ],
   "outputs": [
    {
     "output_type": "execute_result",
     "data": {
      "text/plain": [
       "            mean   std\n",
       "PER_score             \n",
       "1         -0.062 0.328\n",
       "2         -0.083 0.781"
      ],
      "text/html": [
       "<div>\n",
       "<style scoped>\n",
       "    .dataframe tbody tr th:only-of-type {\n",
       "        vertical-align: middle;\n",
       "    }\n",
       "\n",
       "    .dataframe tbody tr th {\n",
       "        vertical-align: top;\n",
       "    }\n",
       "\n",
       "    .dataframe thead th {\n",
       "        text-align: right;\n",
       "    }\n",
       "</style>\n",
       "<table border=\"1\" class=\"dataframe\">\n",
       "  <thead>\n",
       "    <tr style=\"text-align: right;\">\n",
       "      <th></th>\n",
       "      <th>mean</th>\n",
       "      <th>std</th>\n",
       "    </tr>\n",
       "    <tr>\n",
       "      <th>PER_score</th>\n",
       "      <th></th>\n",
       "      <th></th>\n",
       "    </tr>\n",
       "  </thead>\n",
       "  <tbody>\n",
       "    <tr>\n",
       "      <th>1</th>\n",
       "      <td>-0.062</td>\n",
       "      <td>0.328</td>\n",
       "    </tr>\n",
       "    <tr>\n",
       "      <th>2</th>\n",
       "      <td>-0.083</td>\n",
       "      <td>0.781</td>\n",
       "    </tr>\n",
       "  </tbody>\n",
       "</table>\n",
       "</div>"
      ]
     },
     "metadata": {},
     "execution_count": 94
    }
   ],
   "metadata": {}
  },
  {
   "cell_type": "code",
   "execution_count": 95,
   "source": [
    "a[('rtn', 'mean')].head()"
   ],
   "outputs": [
    {
     "output_type": "execute_result",
     "data": {
      "text/plain": [
       "PER_score\n",
       "1   -0.062\n",
       "2   -0.083\n",
       "Name: (rtn, mean), dtype: float64"
      ]
     },
     "metadata": {},
     "execution_count": 95
    }
   ],
   "metadata": {}
  },
  {
   "cell_type": "markdown",
   "source": [
    "### Multi-index columns을 하나로 병합하기"
   ],
   "metadata": {}
  },
  {
   "cell_type": "code",
   "execution_count": 96,
   "source": [
    "g_df1.head()"
   ],
   "outputs": [
    {
     "output_type": "execute_result",
     "data": {
      "text/plain": [
       "                       rtn                     ROE(%)                       \n",
       "                      mean   std    min   max    mean size nunique    idxmax\n",
       "PBR_score PER_score                                                         \n",
       "1         1         -0.100 0.072 -0.196 0.003  -1.402    5       5  한국수출포장공업\n",
       "          2         -0.093 0.266 -0.482 0.437 154.967   11      11      삼부토건\n",
       "          3          0.117 0.359 -0.556 0.683   6.952   11      11    한국전력공사\n",
       "          4          0.106 0.295 -0.273 0.882   5.104   11      11      한국공항\n",
       "          5         -0.039 0.120 -0.206 0.113   3.941    7       7    성창기업지주"
      ],
      "text/html": [
       "<div>\n",
       "<style scoped>\n",
       "    .dataframe tbody tr th:only-of-type {\n",
       "        vertical-align: middle;\n",
       "    }\n",
       "\n",
       "    .dataframe tbody tr th {\n",
       "        vertical-align: top;\n",
       "    }\n",
       "\n",
       "    .dataframe thead tr th {\n",
       "        text-align: left;\n",
       "    }\n",
       "\n",
       "    .dataframe thead tr:last-of-type th {\n",
       "        text-align: right;\n",
       "    }\n",
       "</style>\n",
       "<table border=\"1\" class=\"dataframe\">\n",
       "  <thead>\n",
       "    <tr>\n",
       "      <th></th>\n",
       "      <th></th>\n",
       "      <th colspan=\"4\" halign=\"left\">rtn</th>\n",
       "      <th colspan=\"4\" halign=\"left\">ROE(%)</th>\n",
       "    </tr>\n",
       "    <tr>\n",
       "      <th></th>\n",
       "      <th></th>\n",
       "      <th>mean</th>\n",
       "      <th>std</th>\n",
       "      <th>min</th>\n",
       "      <th>max</th>\n",
       "      <th>mean</th>\n",
       "      <th>size</th>\n",
       "      <th>nunique</th>\n",
       "      <th>idxmax</th>\n",
       "    </tr>\n",
       "    <tr>\n",
       "      <th>PBR_score</th>\n",
       "      <th>PER_score</th>\n",
       "      <th></th>\n",
       "      <th></th>\n",
       "      <th></th>\n",
       "      <th></th>\n",
       "      <th></th>\n",
       "      <th></th>\n",
       "      <th></th>\n",
       "      <th></th>\n",
       "    </tr>\n",
       "  </thead>\n",
       "  <tbody>\n",
       "    <tr>\n",
       "      <th rowspan=\"5\" valign=\"top\">1</th>\n",
       "      <th>1</th>\n",
       "      <td>-0.100</td>\n",
       "      <td>0.072</td>\n",
       "      <td>-0.196</td>\n",
       "      <td>0.003</td>\n",
       "      <td>-1.402</td>\n",
       "      <td>5</td>\n",
       "      <td>5</td>\n",
       "      <td>한국수출포장공업</td>\n",
       "    </tr>\n",
       "    <tr>\n",
       "      <th>2</th>\n",
       "      <td>-0.093</td>\n",
       "      <td>0.266</td>\n",
       "      <td>-0.482</td>\n",
       "      <td>0.437</td>\n",
       "      <td>154.967</td>\n",
       "      <td>11</td>\n",
       "      <td>11</td>\n",
       "      <td>삼부토건</td>\n",
       "    </tr>\n",
       "    <tr>\n",
       "      <th>3</th>\n",
       "      <td>0.117</td>\n",
       "      <td>0.359</td>\n",
       "      <td>-0.556</td>\n",
       "      <td>0.683</td>\n",
       "      <td>6.952</td>\n",
       "      <td>11</td>\n",
       "      <td>11</td>\n",
       "      <td>한국전력공사</td>\n",
       "    </tr>\n",
       "    <tr>\n",
       "      <th>4</th>\n",
       "      <td>0.106</td>\n",
       "      <td>0.295</td>\n",
       "      <td>-0.273</td>\n",
       "      <td>0.882</td>\n",
       "      <td>5.104</td>\n",
       "      <td>11</td>\n",
       "      <td>11</td>\n",
       "      <td>한국공항</td>\n",
       "    </tr>\n",
       "    <tr>\n",
       "      <th>5</th>\n",
       "      <td>-0.039</td>\n",
       "      <td>0.120</td>\n",
       "      <td>-0.206</td>\n",
       "      <td>0.113</td>\n",
       "      <td>3.941</td>\n",
       "      <td>7</td>\n",
       "      <td>7</td>\n",
       "      <td>성창기업지주</td>\n",
       "    </tr>\n",
       "  </tbody>\n",
       "</table>\n",
       "</div>"
      ]
     },
     "metadata": {},
     "execution_count": 96
    }
   ],
   "metadata": {}
  },
  {
   "cell_type": "code",
   "execution_count": 97,
   "source": [
    "level0 = g_df1.columns.get_level_values(0)\n",
    "level1 = g_df1.columns.get_level_values(1)\n",
    "\n",
    "level0\n",
    "level1"
   ],
   "outputs": [
    {
     "output_type": "execute_result",
     "data": {
      "text/plain": [
       "Index(['rtn', 'rtn', 'rtn', 'rtn', 'ROE(%)', 'ROE(%)', 'ROE(%)', 'ROE(%)'], dtype='object')"
      ]
     },
     "metadata": {},
     "execution_count": 97
    },
    {
     "output_type": "execute_result",
     "data": {
      "text/plain": [
       "Index(['mean', 'std', 'min', 'max', 'mean', 'size', 'nunique', 'idxmax'], dtype='object')"
      ]
     },
     "metadata": {},
     "execution_count": 97
    }
   ],
   "metadata": {}
  },
  {
   "cell_type": "code",
   "execution_count": 98,
   "source": [
    "g_df1.columns = level0 + '_' + level1"
   ],
   "outputs": [],
   "metadata": {}
  },
  {
   "cell_type": "code",
   "execution_count": 99,
   "source": [
    "g_df1.head(2)"
   ],
   "outputs": [
    {
     "output_type": "execute_result",
     "data": {
      "text/plain": [
       "                     rtn_mean  rtn_std  rtn_min  rtn_max  ROE(%)_mean  \\\n",
       "PBR_score PER_score                                                     \n",
       "1         1            -0.100    0.072   -0.196    0.003       -1.402   \n",
       "          2            -0.093    0.266   -0.482    0.437      154.967   \n",
       "\n",
       "                     ROE(%)_size  ROE(%)_nunique ROE(%)_idxmax  \n",
       "PBR_score PER_score                                             \n",
       "1         1                    5               5      한국수출포장공업  \n",
       "          2                   11              11          삼부토건  "
      ],
      "text/html": [
       "<div>\n",
       "<style scoped>\n",
       "    .dataframe tbody tr th:only-of-type {\n",
       "        vertical-align: middle;\n",
       "    }\n",
       "\n",
       "    .dataframe tbody tr th {\n",
       "        vertical-align: top;\n",
       "    }\n",
       "\n",
       "    .dataframe thead th {\n",
       "        text-align: right;\n",
       "    }\n",
       "</style>\n",
       "<table border=\"1\" class=\"dataframe\">\n",
       "  <thead>\n",
       "    <tr style=\"text-align: right;\">\n",
       "      <th></th>\n",
       "      <th></th>\n",
       "      <th>rtn_mean</th>\n",
       "      <th>rtn_std</th>\n",
       "      <th>rtn_min</th>\n",
       "      <th>rtn_max</th>\n",
       "      <th>ROE(%)_mean</th>\n",
       "      <th>ROE(%)_size</th>\n",
       "      <th>ROE(%)_nunique</th>\n",
       "      <th>ROE(%)_idxmax</th>\n",
       "    </tr>\n",
       "    <tr>\n",
       "      <th>PBR_score</th>\n",
       "      <th>PER_score</th>\n",
       "      <th></th>\n",
       "      <th></th>\n",
       "      <th></th>\n",
       "      <th></th>\n",
       "      <th></th>\n",
       "      <th></th>\n",
       "      <th></th>\n",
       "      <th></th>\n",
       "    </tr>\n",
       "  </thead>\n",
       "  <tbody>\n",
       "    <tr>\n",
       "      <th rowspan=\"2\" valign=\"top\">1</th>\n",
       "      <th>1</th>\n",
       "      <td>-0.100</td>\n",
       "      <td>0.072</td>\n",
       "      <td>-0.196</td>\n",
       "      <td>0.003</td>\n",
       "      <td>-1.402</td>\n",
       "      <td>5</td>\n",
       "      <td>5</td>\n",
       "      <td>한국수출포장공업</td>\n",
       "    </tr>\n",
       "    <tr>\n",
       "      <th>2</th>\n",
       "      <td>-0.093</td>\n",
       "      <td>0.266</td>\n",
       "      <td>-0.482</td>\n",
       "      <td>0.437</td>\n",
       "      <td>154.967</td>\n",
       "      <td>11</td>\n",
       "      <td>11</td>\n",
       "      <td>삼부토건</td>\n",
       "    </tr>\n",
       "  </tbody>\n",
       "</table>\n",
       "</div>"
      ]
     },
     "metadata": {},
     "execution_count": 99
    }
   ],
   "metadata": {}
  },
  {
   "cell_type": "code",
   "execution_count": 100,
   "source": [
    "g_df1 = g_df1.reset_index()\n",
    "g_df1.head()"
   ],
   "outputs": [
    {
     "output_type": "execute_result",
     "data": {
      "text/plain": [
       "  PBR_score PER_score  rtn_mean  rtn_std  rtn_min  rtn_max  ROE(%)_mean  \\\n",
       "0         1         1    -0.100    0.072   -0.196    0.003       -1.402   \n",
       "1         1         2    -0.093    0.266   -0.482    0.437      154.967   \n",
       "2         1         3     0.117    0.359   -0.556    0.683        6.952   \n",
       "3         1         4     0.106    0.295   -0.273    0.882        5.104   \n",
       "4         1         5    -0.039    0.120   -0.206    0.113        3.941   \n",
       "\n",
       "   ROE(%)_size  ROE(%)_nunique ROE(%)_idxmax  \n",
       "0            5               5      한국수출포장공업  \n",
       "1           11              11          삼부토건  \n",
       "2           11              11        한국전력공사  \n",
       "3           11              11          한국공항  \n",
       "4            7               7        성창기업지주  "
      ],
      "text/html": [
       "<div>\n",
       "<style scoped>\n",
       "    .dataframe tbody tr th:only-of-type {\n",
       "        vertical-align: middle;\n",
       "    }\n",
       "\n",
       "    .dataframe tbody tr th {\n",
       "        vertical-align: top;\n",
       "    }\n",
       "\n",
       "    .dataframe thead th {\n",
       "        text-align: right;\n",
       "    }\n",
       "</style>\n",
       "<table border=\"1\" class=\"dataframe\">\n",
       "  <thead>\n",
       "    <tr style=\"text-align: right;\">\n",
       "      <th></th>\n",
       "      <th>PBR_score</th>\n",
       "      <th>PER_score</th>\n",
       "      <th>rtn_mean</th>\n",
       "      <th>rtn_std</th>\n",
       "      <th>rtn_min</th>\n",
       "      <th>rtn_max</th>\n",
       "      <th>ROE(%)_mean</th>\n",
       "      <th>ROE(%)_size</th>\n",
       "      <th>ROE(%)_nunique</th>\n",
       "      <th>ROE(%)_idxmax</th>\n",
       "    </tr>\n",
       "  </thead>\n",
       "  <tbody>\n",
       "    <tr>\n",
       "      <th>0</th>\n",
       "      <td>1</td>\n",
       "      <td>1</td>\n",
       "      <td>-0.100</td>\n",
       "      <td>0.072</td>\n",
       "      <td>-0.196</td>\n",
       "      <td>0.003</td>\n",
       "      <td>-1.402</td>\n",
       "      <td>5</td>\n",
       "      <td>5</td>\n",
       "      <td>한국수출포장공업</td>\n",
       "    </tr>\n",
       "    <tr>\n",
       "      <th>1</th>\n",
       "      <td>1</td>\n",
       "      <td>2</td>\n",
       "      <td>-0.093</td>\n",
       "      <td>0.266</td>\n",
       "      <td>-0.482</td>\n",
       "      <td>0.437</td>\n",
       "      <td>154.967</td>\n",
       "      <td>11</td>\n",
       "      <td>11</td>\n",
       "      <td>삼부토건</td>\n",
       "    </tr>\n",
       "    <tr>\n",
       "      <th>2</th>\n",
       "      <td>1</td>\n",
       "      <td>3</td>\n",
       "      <td>0.117</td>\n",
       "      <td>0.359</td>\n",
       "      <td>-0.556</td>\n",
       "      <td>0.683</td>\n",
       "      <td>6.952</td>\n",
       "      <td>11</td>\n",
       "      <td>11</td>\n",
       "      <td>한국전력공사</td>\n",
       "    </tr>\n",
       "    <tr>\n",
       "      <th>3</th>\n",
       "      <td>1</td>\n",
       "      <td>4</td>\n",
       "      <td>0.106</td>\n",
       "      <td>0.295</td>\n",
       "      <td>-0.273</td>\n",
       "      <td>0.882</td>\n",
       "      <td>5.104</td>\n",
       "      <td>11</td>\n",
       "      <td>11</td>\n",
       "      <td>한국공항</td>\n",
       "    </tr>\n",
       "    <tr>\n",
       "      <th>4</th>\n",
       "      <td>1</td>\n",
       "      <td>5</td>\n",
       "      <td>-0.039</td>\n",
       "      <td>0.120</td>\n",
       "      <td>-0.206</td>\n",
       "      <td>0.113</td>\n",
       "      <td>3.941</td>\n",
       "      <td>7</td>\n",
       "      <td>7</td>\n",
       "      <td>성창기업지주</td>\n",
       "    </tr>\n",
       "  </tbody>\n",
       "</table>\n",
       "</div>"
      ]
     },
     "metadata": {},
     "execution_count": 100
    }
   ],
   "metadata": {}
  },
  {
   "cell_type": "markdown",
   "source": [
    "# 실전예제: 시가총액으로 Small and Big 나누기 "
   ],
   "metadata": {}
  },
  {
   "cell_type": "code",
   "execution_count": 101,
   "source": [
    "a_df = pd.read_csv(\"my_data/Small_and_Big.csv\", index_col=[0])\n",
    "a_df.head()"
   ],
   "outputs": [
    {
     "output_type": "execute_result",
     "data": {
      "text/plain": [
       "         date     종목명  PBR(IFRS-연결)  베타 (M,5Yr)  수익률(%)  시가총액 (보통)(평균)(원)\n",
       "0  2000-07-31     BYC         0.210       0.479  -0.580   27786000000.000\n",
       "1  2000-07-31      CJ         0.510       1.166  -9.000 1160889000000.000\n",
       "2  2000-07-31  CJ ENM         6.560         NaN  17.400  400467000000.000\n",
       "3  2000-07-31  CJ대한통운         0.170       1.314  -7.960  194962000000.000\n",
       "4  2000-07-31   CJ씨푸드           NaN       0.227  32.000    1987000000.000"
      ],
      "text/html": [
       "<div>\n",
       "<style scoped>\n",
       "    .dataframe tbody tr th:only-of-type {\n",
       "        vertical-align: middle;\n",
       "    }\n",
       "\n",
       "    .dataframe tbody tr th {\n",
       "        vertical-align: top;\n",
       "    }\n",
       "\n",
       "    .dataframe thead th {\n",
       "        text-align: right;\n",
       "    }\n",
       "</style>\n",
       "<table border=\"1\" class=\"dataframe\">\n",
       "  <thead>\n",
       "    <tr style=\"text-align: right;\">\n",
       "      <th></th>\n",
       "      <th>date</th>\n",
       "      <th>종목명</th>\n",
       "      <th>PBR(IFRS-연결)</th>\n",
       "      <th>베타 (M,5Yr)</th>\n",
       "      <th>수익률(%)</th>\n",
       "      <th>시가총액 (보통)(평균)(원)</th>\n",
       "    </tr>\n",
       "  </thead>\n",
       "  <tbody>\n",
       "    <tr>\n",
       "      <th>0</th>\n",
       "      <td>2000-07-31</td>\n",
       "      <td>BYC</td>\n",
       "      <td>0.210</td>\n",
       "      <td>0.479</td>\n",
       "      <td>-0.580</td>\n",
       "      <td>27786000000.000</td>\n",
       "    </tr>\n",
       "    <tr>\n",
       "      <th>1</th>\n",
       "      <td>2000-07-31</td>\n",
       "      <td>CJ</td>\n",
       "      <td>0.510</td>\n",
       "      <td>1.166</td>\n",
       "      <td>-9.000</td>\n",
       "      <td>1160889000000.000</td>\n",
       "    </tr>\n",
       "    <tr>\n",
       "      <th>2</th>\n",
       "      <td>2000-07-31</td>\n",
       "      <td>CJ ENM</td>\n",
       "      <td>6.560</td>\n",
       "      <td>NaN</td>\n",
       "      <td>17.400</td>\n",
       "      <td>400467000000.000</td>\n",
       "    </tr>\n",
       "    <tr>\n",
       "      <th>3</th>\n",
       "      <td>2000-07-31</td>\n",
       "      <td>CJ대한통운</td>\n",
       "      <td>0.170</td>\n",
       "      <td>1.314</td>\n",
       "      <td>-7.960</td>\n",
       "      <td>194962000000.000</td>\n",
       "    </tr>\n",
       "    <tr>\n",
       "      <th>4</th>\n",
       "      <td>2000-07-31</td>\n",
       "      <td>CJ씨푸드</td>\n",
       "      <td>NaN</td>\n",
       "      <td>0.227</td>\n",
       "      <td>32.000</td>\n",
       "      <td>1987000000.000</td>\n",
       "    </tr>\n",
       "  </tbody>\n",
       "</table>\n",
       "</div>"
      ]
     },
     "metadata": {},
     "execution_count": 101
    }
   ],
   "metadata": {}
  },
  {
   "cell_type": "code",
   "execution_count": 102,
   "source": [
    "a_df.tail()"
   ],
   "outputs": [
    {
     "output_type": "execute_result",
     "data": {
      "text/plain": [
       "              date     종목명  PBR(IFRS-연결)  베타 (M,5Yr)  수익률(%)  시가총액 (보통)(평균)(원)\n",
       "235924  2018-06-30  흥국에프엔비         0.950       1.364  -1.690   64926000000.000\n",
       "235925  2018-06-30    흥국화재         0.650       0.721   8.890  383175000000.000\n",
       "235926  2018-06-30    흥아해운         0.920       1.240  -5.750  134473000000.000\n",
       "235927  2018-06-30      희림         1.390       0.216   2.230   86250000000.000\n",
       "235928  2018-06-30      힘스         1.420         NaN -15.820   82748000000.000"
      ],
      "text/html": [
       "<div>\n",
       "<style scoped>\n",
       "    .dataframe tbody tr th:only-of-type {\n",
       "        vertical-align: middle;\n",
       "    }\n",
       "\n",
       "    .dataframe tbody tr th {\n",
       "        vertical-align: top;\n",
       "    }\n",
       "\n",
       "    .dataframe thead th {\n",
       "        text-align: right;\n",
       "    }\n",
       "</style>\n",
       "<table border=\"1\" class=\"dataframe\">\n",
       "  <thead>\n",
       "    <tr style=\"text-align: right;\">\n",
       "      <th></th>\n",
       "      <th>date</th>\n",
       "      <th>종목명</th>\n",
       "      <th>PBR(IFRS-연결)</th>\n",
       "      <th>베타 (M,5Yr)</th>\n",
       "      <th>수익률(%)</th>\n",
       "      <th>시가총액 (보통)(평균)(원)</th>\n",
       "    </tr>\n",
       "  </thead>\n",
       "  <tbody>\n",
       "    <tr>\n",
       "      <th>235924</th>\n",
       "      <td>2018-06-30</td>\n",
       "      <td>흥국에프엔비</td>\n",
       "      <td>0.950</td>\n",
       "      <td>1.364</td>\n",
       "      <td>-1.690</td>\n",
       "      <td>64926000000.000</td>\n",
       "    </tr>\n",
       "    <tr>\n",
       "      <th>235925</th>\n",
       "      <td>2018-06-30</td>\n",
       "      <td>흥국화재</td>\n",
       "      <td>0.650</td>\n",
       "      <td>0.721</td>\n",
       "      <td>8.890</td>\n",
       "      <td>383175000000.000</td>\n",
       "    </tr>\n",
       "    <tr>\n",
       "      <th>235926</th>\n",
       "      <td>2018-06-30</td>\n",
       "      <td>흥아해운</td>\n",
       "      <td>0.920</td>\n",
       "      <td>1.240</td>\n",
       "      <td>-5.750</td>\n",
       "      <td>134473000000.000</td>\n",
       "    </tr>\n",
       "    <tr>\n",
       "      <th>235927</th>\n",
       "      <td>2018-06-30</td>\n",
       "      <td>희림</td>\n",
       "      <td>1.390</td>\n",
       "      <td>0.216</td>\n",
       "      <td>2.230</td>\n",
       "      <td>86250000000.000</td>\n",
       "    </tr>\n",
       "    <tr>\n",
       "      <th>235928</th>\n",
       "      <td>2018-06-30</td>\n",
       "      <td>힘스</td>\n",
       "      <td>1.420</td>\n",
       "      <td>NaN</td>\n",
       "      <td>-15.820</td>\n",
       "      <td>82748000000.000</td>\n",
       "    </tr>\n",
       "  </tbody>\n",
       "</table>\n",
       "</div>"
      ]
     },
     "metadata": {},
     "execution_count": 102
    }
   ],
   "metadata": {}
  },
  {
   "cell_type": "code",
   "execution_count": 103,
   "source": [
    "median_df = a_df.groupby(['date']).agg({'시가총액 (보통)(평균)(원)': 'median'})\n",
    "median_df.head()"
   ],
   "outputs": [
    {
     "output_type": "execute_result",
     "data": {
      "text/plain": [
       "            시가총액 (보통)(평균)(원)\n",
       "date                        \n",
       "2000-07-31   34947000000.000\n",
       "2000-08-31   33684000000.000\n",
       "2000-09-30   33684000000.000\n",
       "2000-10-31   30523000000.000\n",
       "2000-11-30   30798000000.000"
      ],
      "text/html": [
       "<div>\n",
       "<style scoped>\n",
       "    .dataframe tbody tr th:only-of-type {\n",
       "        vertical-align: middle;\n",
       "    }\n",
       "\n",
       "    .dataframe tbody tr th {\n",
       "        vertical-align: top;\n",
       "    }\n",
       "\n",
       "    .dataframe thead th {\n",
       "        text-align: right;\n",
       "    }\n",
       "</style>\n",
       "<table border=\"1\" class=\"dataframe\">\n",
       "  <thead>\n",
       "    <tr style=\"text-align: right;\">\n",
       "      <th></th>\n",
       "      <th>시가총액 (보통)(평균)(원)</th>\n",
       "    </tr>\n",
       "    <tr>\n",
       "      <th>date</th>\n",
       "      <th></th>\n",
       "    </tr>\n",
       "  </thead>\n",
       "  <tbody>\n",
       "    <tr>\n",
       "      <th>2000-07-31</th>\n",
       "      <td>34947000000.000</td>\n",
       "    </tr>\n",
       "    <tr>\n",
       "      <th>2000-08-31</th>\n",
       "      <td>33684000000.000</td>\n",
       "    </tr>\n",
       "    <tr>\n",
       "      <th>2000-09-30</th>\n",
       "      <td>33684000000.000</td>\n",
       "    </tr>\n",
       "    <tr>\n",
       "      <th>2000-10-31</th>\n",
       "      <td>30523000000.000</td>\n",
       "    </tr>\n",
       "    <tr>\n",
       "      <th>2000-11-30</th>\n",
       "      <td>30798000000.000</td>\n",
       "    </tr>\n",
       "  </tbody>\n",
       "</table>\n",
       "</div>"
      ]
     },
     "metadata": {},
     "execution_count": 103
    }
   ],
   "metadata": {}
  },
  {
   "cell_type": "code",
   "execution_count": 104,
   "source": [
    "median_df.columns = ['시가총액_median']\n",
    "median_df.head()"
   ],
   "outputs": [
    {
     "output_type": "execute_result",
     "data": {
      "text/plain": [
       "               시가총액_median\n",
       "date                      \n",
       "2000-07-31 34947000000.000\n",
       "2000-08-31 33684000000.000\n",
       "2000-09-30 33684000000.000\n",
       "2000-10-31 30523000000.000\n",
       "2000-11-30 30798000000.000"
      ],
      "text/html": [
       "<div>\n",
       "<style scoped>\n",
       "    .dataframe tbody tr th:only-of-type {\n",
       "        vertical-align: middle;\n",
       "    }\n",
       "\n",
       "    .dataframe tbody tr th {\n",
       "        vertical-align: top;\n",
       "    }\n",
       "\n",
       "    .dataframe thead th {\n",
       "        text-align: right;\n",
       "    }\n",
       "</style>\n",
       "<table border=\"1\" class=\"dataframe\">\n",
       "  <thead>\n",
       "    <tr style=\"text-align: right;\">\n",
       "      <th></th>\n",
       "      <th>시가총액_median</th>\n",
       "    </tr>\n",
       "    <tr>\n",
       "      <th>date</th>\n",
       "      <th></th>\n",
       "    </tr>\n",
       "  </thead>\n",
       "  <tbody>\n",
       "    <tr>\n",
       "      <th>2000-07-31</th>\n",
       "      <td>34947000000.000</td>\n",
       "    </tr>\n",
       "    <tr>\n",
       "      <th>2000-08-31</th>\n",
       "      <td>33684000000.000</td>\n",
       "    </tr>\n",
       "    <tr>\n",
       "      <th>2000-09-30</th>\n",
       "      <td>33684000000.000</td>\n",
       "    </tr>\n",
       "    <tr>\n",
       "      <th>2000-10-31</th>\n",
       "      <td>30523000000.000</td>\n",
       "    </tr>\n",
       "    <tr>\n",
       "      <th>2000-11-30</th>\n",
       "      <td>30798000000.000</td>\n",
       "    </tr>\n",
       "  </tbody>\n",
       "</table>\n",
       "</div>"
      ]
     },
     "metadata": {},
     "execution_count": 104
    }
   ],
   "metadata": {}
  },
  {
   "cell_type": "markdown",
   "source": [
    "- 구한 median dataframe을 어떻게 가존의 원본 dataframe과 연결 시킬수있을까?\n",
    "=> 다음 노트북!"
   ],
   "metadata": {}
  }
 ],
 "metadata": {
  "kernelspec": {
   "name": "python3",
   "display_name": "Python 3.10.8 64-bit ('elastic_stack-finance': conda)"
  },
  "language_info": {
   "codemirror_mode": {
    "name": "ipython",
    "version": 3
   },
   "file_extension": ".py",
   "mimetype": "text/x-python",
   "name": "python",
   "nbconvert_exporter": "python",
   "pygments_lexer": "ipython3",
   "version": "3.10.8"
  },
  "toc": {
   "base_numbering": 1,
   "nav_menu": {},
   "number_sections": true,
   "sideBar": true,
   "skip_h1_title": false,
   "title_cell": "Table of Contents",
   "title_sidebar": "Contents",
   "toc_cell": false,
   "toc_position": {
    "height": "calc(100% - 180px)",
    "left": "10px",
    "top": "150px",
    "width": "256px"
   },
   "toc_section_display": true,
   "toc_window_display": true
  },
  "toc-autonumbering": true,
  "interpreter": {
   "hash": "7d088f0f3a6dd6183ba323e90bbb043f1ca2e88e518dfb474a8ae7302c28bd28"
  }
 },
 "nbformat": 4,
 "nbformat_minor": 4
}